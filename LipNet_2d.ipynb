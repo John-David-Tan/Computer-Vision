{
 "cells": [
  {
   "cell_type": "markdown",
   "id": "a3573a47-3689-4668-b62f-5c8451b2b4e9",
   "metadata": {
    "tags": []
   },
   "source": [
    "# 0. Install and Import Dependencies"
   ]
  },
  {
   "cell_type": "code",
   "execution_count": 3,
   "id": "02f907ea-f669-46c7-adcf-7f257e663448",
   "metadata": {
    "tags": []
   },
   "outputs": [],
   "source": [
    "!pip install opencv-python matplotlib imageio tensorflow"
   ]
  },
  {
   "cell_type": "code",
   "execution_count": 2,
   "id": "b24af50c-20b8-409d-ad78-30a933fdd669",
   "metadata": {
    "tags": []
   },
   "outputs": [],
   "source": [
    "import os\n",
    "import cv2\n",
    "import tensorflow as tf\n",
    "import numpy as np\n",
    "from typing import List\n",
    "from matplotlib import pyplot as plt\n",
    "import imageio"
   ]
  },
  {
   "cell_type": "code",
   "execution_count": 3,
   "id": "1e3db0b0-e559-4ad6-91fd-e7414b7d75e6",
   "metadata": {},
   "outputs": [
    {
     "data": {
      "text/plain": [
       "[PhysicalDevice(name='/physical_device:GPU:0', device_type='GPU')]"
      ]
     },
     "execution_count": 3,
     "metadata": {},
     "output_type": "execute_result"
    }
   ],
   "source": [
    "tf.config.list_physical_devices('GPU')"
   ]
  },
  {
   "cell_type": "code",
   "execution_count": 4,
   "id": "378d045a-3003-4f93-b7d2-a25a97774a68",
   "metadata": {
    "tags": []
   },
   "outputs": [],
   "source": [
    "physical_devices = tf.config.list_physical_devices('GPU')\n",
    "try:\n",
    "    tf.config.experimental.set_memory_growth(physical_devices[0], True)\n",
    "except:\n",
    "    pass"
   ]
  },
  {
   "cell_type": "markdown",
   "id": "7a19e88e-c7b9-45c1-ae1e-f2109329c71b",
   "metadata": {
    "tags": []
   },
   "source": [
    "# 1. Build Data Loading Functions"
   ]
  },
  {
   "cell_type": "code",
   "execution_count": 5,
   "id": "8548cc59-6dfc-4acc-abc3-3e65212db02e",
   "metadata": {
    "tags": []
   },
   "outputs": [],
   "source": [
    "def load_video(path:str) -> List[float]: \n",
    "\n",
    "    cap = cv2.VideoCapture(path)\n",
    "    frames = []\n",
    "    for _ in range(int(cap.get(cv2.CAP_PROP_FRAME_COUNT))): \n",
    "        ret, frame = cap.read()\n",
    "        frame = tf.image.rgb_to_grayscale(frame)\n",
    "        frames.append(frame[190:236,80:220,:])\n",
    "    cap.release()\n",
    "    \n",
    "    mean = tf.math.reduce_mean(frames)\n",
    "    std = tf.math.reduce_std(tf.cast(frames, tf.float32))\n",
    "    return tf.cast((frames - mean), tf.float32) / std"
   ]
  },
  {
   "cell_type": "code",
   "execution_count": 6,
   "id": "ec735e0b-ec98-4eb0-8f49-c35527d6670a",
   "metadata": {
    "tags": []
   },
   "outputs": [],
   "source": [
    "vocab = [x for x in \"abcdefghijklmnopqrstuvwxyz'?!123456789 \"]"
   ]
  },
  {
   "cell_type": "code",
   "execution_count": 7,
   "id": "be04e972-d7a5-4a72-82d8-a6bdde1f3ce6",
   "metadata": {
    "tags": []
   },
   "outputs": [
    {
     "name": "stdout",
     "output_type": "stream",
     "text": [
      "The vocabulary is: ['', 'a', 'b', 'c', 'd', 'e', 'f', 'g', 'h', 'i', 'j', 'k', 'l', 'm', 'n', 'o', 'p', 'q', 'r', 's', 't', 'u', 'v', 'w', 'x', 'y', 'z', \"'\", '?', '!', '1', '2', '3', '4', '5', '6', '7', '8', '9', ' '] (size =40)\n"
     ]
    }
   ],
   "source": [
    "char_to_num = tf.keras.layers.StringLookup(vocabulary=vocab, oov_token=\"\")\n",
    "num_to_char = tf.keras.layers.StringLookup(\n",
    "    vocabulary=char_to_num.get_vocabulary(), oov_token=\"\", invert=True\n",
    ")\n",
    "\n",
    "print(\n",
    "    f\"The vocabulary is: {char_to_num.get_vocabulary()} \"\n",
    "    f\"(size ={char_to_num.vocabulary_size()})\"\n",
    ")"
   ]
  },
  {
   "cell_type": "code",
   "execution_count": 8,
   "id": "559f7420-6802-45fa-9ca0-b1ff209b461c",
   "metadata": {
    "tags": []
   },
   "outputs": [
    {
     "data": {
      "text/plain": [
       "['',\n",
       " 'a',\n",
       " 'b',\n",
       " 'c',\n",
       " 'd',\n",
       " 'e',\n",
       " 'f',\n",
       " 'g',\n",
       " 'h',\n",
       " 'i',\n",
       " 'j',\n",
       " 'k',\n",
       " 'l',\n",
       " 'm',\n",
       " 'n',\n",
       " 'o',\n",
       " 'p',\n",
       " 'q',\n",
       " 'r',\n",
       " 's',\n",
       " 't',\n",
       " 'u',\n",
       " 'v',\n",
       " 'w',\n",
       " 'x',\n",
       " 'y',\n",
       " 'z',\n",
       " \"'\",\n",
       " '?',\n",
       " '!',\n",
       " '1',\n",
       " '2',\n",
       " '3',\n",
       " '4',\n",
       " '5',\n",
       " '6',\n",
       " '7',\n",
       " '8',\n",
       " '9',\n",
       " ' ']"
      ]
     },
     "execution_count": 8,
     "metadata": {},
     "output_type": "execute_result"
    }
   ],
   "source": [
    "char_to_num.get_vocabulary()"
   ]
  },
  {
   "cell_type": "code",
   "execution_count": 9,
   "id": "797ff78b-b48f-4e14-bb62-8cd0ebf9501a",
   "metadata": {
    "tags": []
   },
   "outputs": [
    {
     "data": {
      "text/plain": [
       "<tf.Tensor: shape=(4,), dtype=int64, numpy=array([14,  9,  3, 11], dtype=int64)>"
      ]
     },
     "execution_count": 9,
     "metadata": {},
     "output_type": "execute_result"
    }
   ],
   "source": [
    "char_to_num(['n','i','c','k'])"
   ]
  },
  {
   "cell_type": "code",
   "execution_count": 10,
   "id": "8cd7f4f4-ae77-4509-a4f4-c723787ebad1",
   "metadata": {},
   "outputs": [
    {
     "data": {
      "text/plain": [
       "<tf.Tensor: shape=(4,), dtype=string, numpy=array([b'n', b'i', b'c', b'k'], dtype=object)>"
      ]
     },
     "execution_count": 10,
     "metadata": {},
     "output_type": "execute_result"
    }
   ],
   "source": [
    "num_to_char([14,  9,  3, 11])"
   ]
  },
  {
   "cell_type": "code",
   "execution_count": 11,
   "id": "9491bab5-6a3c-4f79-879a-8f9fbe73ae2e",
   "metadata": {
    "tags": []
   },
   "outputs": [],
   "source": [
    "def load_alignments(path:str) -> List[str]: \n",
    "    with open(path, 'r') as f: \n",
    "        lines = f.readlines() \n",
    "    tokens = []\n",
    "    for line in lines:\n",
    "        line = line.split()\n",
    "        if line[2] != 'sil': \n",
    "            tokens = [*tokens,' ',line[2]]\n",
    "    return char_to_num(tf.reshape(tf.strings.unicode_split(tokens, input_encoding='UTF-8'), (-1)))[1:]"
   ]
  },
  {
   "cell_type": "code",
   "execution_count": 12,
   "id": "dd01ca9f-77fb-4643-a2aa-47dd82c5d66b",
   "metadata": {
    "tags": []
   },
   "outputs": [],
   "source": [
    "def load_data(path: str): \n",
    "    path = bytes.decode(path.numpy())\n",
    "    #file_name = path.split('/')[-1].split('.')[0]\n",
    "    # File name splitting for windows\n",
    "    file_name = path.split('\\\\')[-1].split('.')[0]\n",
    "    video_path = os.path.join('data','s1',f'{file_name}.mpg')\n",
    "    alignment_path = os.path.join('data','alignments','s1',f'{file_name}.align')\n",
    "    frames = load_video(video_path) \n",
    "    alignments = load_alignments(alignment_path)\n",
    "    \n",
    "    return frames, alignments"
   ]
  },
  {
   "cell_type": "code",
   "execution_count": 15,
   "id": "8cb7cc58-31ae-4904-a805-1177a82717d2",
   "metadata": {
    "tags": []
   },
   "outputs": [],
   "source": [
    "test_path = '.\\\\data\\\\s1\\\\bbal6n.mpg'"
   ]
  },
  {
   "cell_type": "code",
   "execution_count": 16,
   "id": "76aa964f-0c84-490d-897a-d00e3966e2c9",
   "metadata": {},
   "outputs": [
    {
     "data": {
      "text/plain": [
       "'bbal6n'"
      ]
     },
     "execution_count": 16,
     "metadata": {},
     "output_type": "execute_result"
    }
   ],
   "source": [
    "tf.convert_to_tensor(test_path).numpy().decode('utf-8').split('\\\\')[-1].split('.')[0]"
   ]
  },
  {
   "cell_type": "code",
   "execution_count": 17,
   "id": "eb602c71-8560-4f9e-b26b-08202febb937",
   "metadata": {
    "scrolled": true,
    "tags": []
   },
   "outputs": [],
   "source": [
    "frames, alignments = load_data(tf.convert_to_tensor(test_path))"
   ]
  },
  {
   "cell_type": "code",
   "execution_count": 18,
   "id": "0e3184a1-6b02-4b4f-84a8-a0a65f951ea2",
   "metadata": {},
   "outputs": [
    {
     "data": {
      "text/plain": [
       "<matplotlib.image.AxesImage at 0x292117931c0>"
      ]
     },
     "execution_count": 18,
     "metadata": {},
     "output_type": "execute_result"
    },
    {
     "data": {
      "image/png": "[encoded data removed]",
      "text/plain": [
       "<Figure size 640x480 with 1 Axes>"
      ]
     },
     "metadata": {},
     "output_type": "display_data"
    }
   ],
   "source": [
    "plt.imshow(frames[40])"
   ]
  },
  {
   "cell_type": "code",
   "execution_count": 19,
   "id": "d7ec0833-d54b-4073-84cf-92d011c60ec1",
   "metadata": {},
   "outputs": [
    {
     "data": {
      "text/plain": [
       "<tf.Tensor: shape=(21,), dtype=int64, numpy=\n",
       "array([ 2,  9, 14, 39,  2, 12, 21,  5, 39,  1, 20, 39, 12, 39, 19,  9, 24,\n",
       "       39, 14, 15, 23], dtype=int64)>"
      ]
     },
     "execution_count": 19,
     "metadata": {},
     "output_type": "execute_result"
    }
   ],
   "source": [
    "alignments"
   ]
  },
  {
   "cell_type": "code",
   "execution_count": 20,
   "id": "fe1ad370-b287-4b46-85a2-7c45b0bd9b10",
   "metadata": {},
   "outputs": [
    {
     "data": {
      "text/plain": [
       "<tf.Tensor: shape=(), dtype=string, numpy=b'bin blue at l six now'>"
      ]
     },
     "execution_count": 20,
     "metadata": {},
     "output_type": "execute_result"
    }
   ],
   "source": [
    "tf.strings.reduce_join([bytes.decode(x) for x in num_to_char(alignments.numpy()).numpy()])"
   ]
  },
  {
   "cell_type": "code",
   "execution_count": 21,
   "id": "6871031a-b0ba-4c76-a852-f6329b0f2606",
   "metadata": {
    "tags": []
   },
   "outputs": [],
   "source": [
    "def mappable_function(path:str) ->List[str]:\n",
    "    result = tf.py_function(load_data, [path], (tf.float32, tf.int64))\n",
    "    return result"
   ]
  },
  {
   "cell_type": "markdown",
   "id": "c40a7eb4-0c3e-4eab-9291-5611cb68ce08",
   "metadata": {
    "tags": []
   },
   "source": [
    "# 2. Create Data Pipeline"
   ]
  },
  {
   "cell_type": "code",
   "execution_count": 23,
   "id": "f066fea2-91b1-42ed-a67d-00566a1a53ff",
   "metadata": {
    "tags": []
   },
   "outputs": [],
   "source": [
    "data = tf.data.Dataset.list_files('./data/s1/*.mpg')\n",
    "data = data.shuffle(500, reshuffle_each_iteration=False)\n",
    "data = data.map(mappable_function)\n",
    "data = data.padded_batch(2, padded_shapes=([75,None,None,None],[40]))\n",
    "data = data.prefetch(tf.data.AUTOTUNE)\n",
    "# Added for split \n",
    "train = data.take(450)\n",
    "test = data.skip(450)"
   ]
  },
  {
   "cell_type": "code",
   "execution_count": 24,
   "id": "6b1365bd-7742-41d1-95d4-247021751c3a",
   "metadata": {},
   "outputs": [
    {
     "data": {
      "text/plain": [
       "50"
      ]
     },
     "execution_count": 24,
     "metadata": {},
     "output_type": "execute_result"
    }
   ],
   "source": [
    "len(test)"
   ]
  },
  {
   "cell_type": "code",
   "execution_count": 25,
   "id": "5281bde8-fdc8-4da1-bd55-5a7929a9e80c",
   "metadata": {},
   "outputs": [],
   "source": [
    "frames, alignments = data.as_numpy_iterator().next()"
   ]
  },
  {
   "cell_type": "code",
   "execution_count": 26,
   "id": "cbebe683-6afd-47fd-bba4-c83b4b13bb32",
   "metadata": {},
   "outputs": [
    {
     "data": {
      "text/plain": [
       "2"
      ]
     },
     "execution_count": 26,
     "metadata": {},
     "output_type": "execute_result"
    }
   ],
   "source": [
    "len(frames)"
   ]
  },
  {
   "cell_type": "code",
   "execution_count": 27,
   "id": "5cf2d676-93a9-434c-b3c7-bdcc2577b2e7",
   "metadata": {
    "tags": []
   },
   "outputs": [],
   "source": [
    "sample = data.as_numpy_iterator()"
   ]
  },
  {
   "cell_type": "code",
   "execution_count": 28,
   "id": "efa6cd46-7079-46c0-b45b-832f339f6cb0",
   "metadata": {
    "scrolled": true,
    "tags": []
   },
   "outputs": [
    {
     "data": {
      "text/plain": [
       "array([[[[[1.2559257 ],\n",
       "          [1.2559257 ],\n",
       "          [1.2559257 ],\n",
       "          ...,\n",
       "          [0.11081697],\n",
       "          [0.        ],\n",
       "          [0.        ]],\n",
       "\n",
       "         [[1.2559257 ],\n",
       "          [1.2559257 ],\n",
       "          [1.2559257 ],\n",
       "          ...,\n",
       "          [0.07387798],\n",
       "          [0.03693899],\n",
       "          [0.03693899]],\n",
       "\n",
       "         [[1.2189866 ],\n",
       "          [1.2189866 ],\n",
       "          [1.2189866 ],\n",
       "          ...,\n",
       "          [0.14775595],\n",
       "          [0.03693899],\n",
       "          [0.03693899]],\n",
       "\n",
       "         ...,\n",
       "\n",
       "         [[0.88653576],\n",
       "          [0.88653576],\n",
       "          [0.88653576],\n",
       "          ...,\n",
       "          [8.976174  ],\n",
       "          [9.086991  ],\n",
       "          [9.086991  ]],\n",
       "\n",
       "         [[0.88653576],\n",
       "          [0.88653576],\n",
       "          [0.88653576],\n",
       "          ...,\n",
       "          [9.050053  ],\n",
       "          [9.013113  ],\n",
       "          [8.902296  ]],\n",
       "\n",
       "         [[0.88653576],\n",
       "          [0.88653576],\n",
       "          [0.88653576],\n",
       "          ...,\n",
       "          [9.271687  ],\n",
       "          [9.234747  ],\n",
       "          [8.902296  ]]],\n",
       "\n",
       "\n",
       "        [[[1.2189866 ],\n",
       "          [1.2189866 ],\n",
       "          [1.2189866 ],\n",
       "          ...,\n",
       "          [0.14775595],\n",
       "          [0.07387798],\n",
       "          [0.03693899]],\n",
       "\n",
       "         [[1.2189866 ],\n",
       "          [1.2189866 ],\n",
       "          [1.2189866 ],\n",
       "          ...,\n",
       "          [0.14775595],\n",
       "          [0.07387798],\n",
       "          [0.03693899]],\n",
       "\n",
       "         [[1.2189866 ],\n",
       "          [1.2189866 ],\n",
       "          [1.2189866 ],\n",
       "          ...,\n",
       "          [0.07387798],\n",
       "          [0.        ],\n",
       "          [0.        ]],\n",
       "\n",
       "         ...,\n",
       "\n",
       "         [[0.84959674],\n",
       "          [0.84959674],\n",
       "          [0.84959674],\n",
       "          ...,\n",
       "          [8.939236  ],\n",
       "          [9.086991  ],\n",
       "          [9.013113  ]],\n",
       "\n",
       "         [[0.88653576],\n",
       "          [0.88653576],\n",
       "          [0.88653576],\n",
       "          ...,\n",
       "          [9.013113  ],\n",
       "          [8.939236  ],\n",
       "          [8.939236  ]],\n",
       "\n",
       "         [[0.88653576],\n",
       "          [0.88653576],\n",
       "          [0.88653576],\n",
       "          ...,\n",
       "          [9.271687  ],\n",
       "          [9.197808  ],\n",
       "          [8.939236  ]]],\n",
       "\n",
       "\n",
       "        [[[1.2189866 ],\n",
       "          [1.2189866 ],\n",
       "          [1.2189866 ],\n",
       "          ...,\n",
       "          [0.14775595],\n",
       "          [0.07387798],\n",
       "          [0.03693899]],\n",
       "\n",
       "         [[1.2189866 ],\n",
       "          [1.2189866 ],\n",
       "          [1.2189866 ],\n",
       "          ...,\n",
       "          [0.14775595],\n",
       "          [0.07387798],\n",
       "          [0.03693899]],\n",
       "\n",
       "         [[1.2189866 ],\n",
       "          [1.2189866 ],\n",
       "          [1.2189866 ],\n",
       "          ...,\n",
       "          [0.07387798],\n",
       "          [0.        ],\n",
       "          [0.        ]],\n",
       "\n",
       "         ...,\n",
       "\n",
       "         [[0.84959674],\n",
       "          [0.84959674],\n",
       "          [0.84959674],\n",
       "          ...,\n",
       "          [8.939236  ],\n",
       "          [9.12393   ],\n",
       "          [9.050053  ]],\n",
       "\n",
       "         [[0.88653576],\n",
       "          [0.88653576],\n",
       "          [0.88653576],\n",
       "          ...,\n",
       "          [9.050053  ],\n",
       "          [8.902296  ],\n",
       "          [8.976174  ]],\n",
       "\n",
       "         [[0.88653576],\n",
       "          [0.88653576],\n",
       "          [0.88653576],\n",
       "          ...,\n",
       "          [9.271687  ],\n",
       "          [9.16087   ],\n",
       "          [8.976174  ]]],\n",
       "\n",
       "\n",
       "        ...,\n",
       "\n",
       "\n",
       "        [[[1.2928646 ],\n",
       "          [1.2928646 ],\n",
       "          [1.2928646 ],\n",
       "          ...,\n",
       "          [0.14775595],\n",
       "          [0.07387798],\n",
       "          [0.07387798]],\n",
       "\n",
       "         [[1.2928646 ],\n",
       "          [1.2928646 ],\n",
       "          [1.2928646 ],\n",
       "          ...,\n",
       "          [0.18469495],\n",
       "          [0.11081697],\n",
       "          [0.11081697]],\n",
       "\n",
       "         [[1.2189866 ],\n",
       "          [1.2189866 ],\n",
       "          [1.2189866 ],\n",
       "          ...,\n",
       "          [0.11081697],\n",
       "          [0.07387798],\n",
       "          [0.03693899]],\n",
       "\n",
       "         ...,\n",
       "\n",
       "         [[0.84959674],\n",
       "          [0.84959674],\n",
       "          [0.84959674],\n",
       "          ...,\n",
       "          [8.976174  ],\n",
       "          [9.12393   ],\n",
       "          [9.197808  ]],\n",
       "\n",
       "         [[0.84959674],\n",
       "          [0.84959674],\n",
       "          [0.84959674],\n",
       "          ...,\n",
       "          [8.75454   ],\n",
       "          [8.939236  ],\n",
       "          [9.013113  ]],\n",
       "\n",
       "         [[0.84959674],\n",
       "          [0.84959674],\n",
       "          [0.84959674],\n",
       "          ...,\n",
       "          [8.976174  ],\n",
       "          [9.013113  ],\n",
       "          [8.939236  ]]],\n",
       "\n",
       "\n",
       "        [[[1.2559257 ],\n",
       "          [1.2559257 ],\n",
       "          [1.2559257 ],\n",
       "          ...,\n",
       "          [0.07387798],\n",
       "          [9.419442  ],\n",
       "          [9.419442  ]],\n",
       "\n",
       "         [[1.2559257 ],\n",
       "          [1.2559257 ],\n",
       "          [1.2559257 ],\n",
       "          ...,\n",
       "          [0.11081697],\n",
       "          [0.        ],\n",
       "          [0.03693899]],\n",
       "\n",
       "         [[1.1820476 ],\n",
       "          [1.1451087 ],\n",
       "          [1.1451087 ],\n",
       "          ...,\n",
       "          [0.11081697],\n",
       "          [0.07387798],\n",
       "          [0.03693899]],\n",
       "\n",
       "         ...,\n",
       "\n",
       "         [[0.88653576],\n",
       "          [0.88653576],\n",
       "          [0.88653576],\n",
       "          ...,\n",
       "          [9.050053  ],\n",
       "          [9.16087   ],\n",
       "          [9.16087   ]],\n",
       "\n",
       "         [[0.84959674],\n",
       "          [0.88653576],\n",
       "          [0.88653576],\n",
       "          ...,\n",
       "          [8.791479  ],\n",
       "          [8.976174  ],\n",
       "          [8.976174  ]],\n",
       "\n",
       "         [[0.84959674],\n",
       "          [0.84959674],\n",
       "          [0.84959674],\n",
       "          ...,\n",
       "          [8.939236  ],\n",
       "          [8.976174  ],\n",
       "          [8.976174  ]]],\n",
       "\n",
       "\n",
       "        [[[1.2559257 ],\n",
       "          [1.2559257 ],\n",
       "          [1.2559257 ],\n",
       "          ...,\n",
       "          [0.07387798],\n",
       "          [9.419442  ],\n",
       "          [9.419442  ]],\n",
       "\n",
       "         [[1.2559257 ],\n",
       "          [1.2559257 ],\n",
       "          [1.2559257 ],\n",
       "          ...,\n",
       "          [0.11081697],\n",
       "          [0.        ],\n",
       "          [0.03693899]],\n",
       "\n",
       "         [[1.2928646 ],\n",
       "          [1.2559257 ],\n",
       "          [1.2559257 ],\n",
       "          ...,\n",
       "          [0.07387798],\n",
       "          [0.11081697],\n",
       "          [0.07387798]],\n",
       "\n",
       "         ...,\n",
       "\n",
       "         [[0.88653576],\n",
       "          [0.88653576],\n",
       "          [0.88653576],\n",
       "          ...,\n",
       "          [9.086991  ],\n",
       "          [9.234747  ],\n",
       "          [9.197808  ]],\n",
       "\n",
       "         [[0.84959674],\n",
       "          [0.88653576],\n",
       "          [0.88653576],\n",
       "          ...,\n",
       "          [8.865357  ],\n",
       "          [9.050053  ],\n",
       "          [9.013113  ]],\n",
       "\n",
       "         [[0.84959674],\n",
       "          [0.84959674],\n",
       "          [0.84959674],\n",
       "          ...,\n",
       "          [9.013113  ],\n",
       "          [8.976174  ],\n",
       "          [8.976174  ]]]],\n",
       "\n",
       "\n",
       "\n",
       "       [[[[1.3615252 ],\n",
       "          [1.3615252 ],\n",
       "          [1.398323  ],\n",
       "          ...,\n",
       "          [0.25758582],\n",
       "          [0.22078785],\n",
       "          [0.22078785]],\n",
       "\n",
       "         [[1.3615252 ],\n",
       "          [1.3615252 ],\n",
       "          [1.398323  ],\n",
       "          ...,\n",
       "          [0.25758582],\n",
       "          [0.22078785],\n",
       "          [0.22078785]],\n",
       "\n",
       "         [[1.3247272 ],\n",
       "          [1.3247272 ],\n",
       "          [1.2879292 ],\n",
       "          ...,\n",
       "          [0.25758582],\n",
       "          [0.18398988],\n",
       "          [0.18398988]],\n",
       "\n",
       "         ...,\n",
       "\n",
       "         [[0.9567474 ],\n",
       "          [0.9567474 ],\n",
       "          [0.9567474 ],\n",
       "          ...,\n",
       "          [9.236292  ],\n",
       "          [9.27309   ],\n",
       "          [9.236292  ]],\n",
       "\n",
       "         [[0.9199494 ],\n",
       "          [0.9199494 ],\n",
       "          [0.9199494 ],\n",
       "          ...,\n",
       "          [9.125898  ],\n",
       "          [9.236292  ],\n",
       "          [8.978706  ]],\n",
       "\n",
       "         [[0.9199494 ],\n",
       "          [0.9199494 ],\n",
       "          [0.9199494 ],\n",
       "          ...,\n",
       "          [9.199494  ],\n",
       "          [9.383484  ],\n",
       "          [8.941908  ]]],\n",
       "\n",
       "\n",
       "        [[[1.398323  ],\n",
       "          [1.398323  ],\n",
       "          [1.398323  ],\n",
       "          ...,\n",
       "          [0.29438382],\n",
       "          [0.18398988],\n",
       "          [0.18398988]],\n",
       "\n",
       "         [[1.398323  ],\n",
       "          [1.398323  ],\n",
       "          [1.3247272 ],\n",
       "          ...,\n",
       "          [0.29438382],\n",
       "          [0.18398988],\n",
       "          [0.18398988]],\n",
       "\n",
       "         [[1.3247272 ],\n",
       "          [1.3247272 ],\n",
       "          [1.2879292 ],\n",
       "          ...,\n",
       "          [0.22078785],\n",
       "          [0.14719191],\n",
       "          [0.14719191]],\n",
       "\n",
       "         ...,\n",
       "\n",
       "         [[0.9567474 ],\n",
       "          [0.9567474 ],\n",
       "          [0.9567474 ],\n",
       "          ...,\n",
       "          [9.236292  ],\n",
       "          [9.27309   ],\n",
       "          [9.236292  ]],\n",
       "\n",
       "         [[0.9199494 ],\n",
       "          [0.9199494 ],\n",
       "          [0.9199494 ],\n",
       "          ...,\n",
       "          [9.346686  ],\n",
       "          [9.27309   ],\n",
       "          [9.0891    ]],\n",
       "\n",
       "         [[0.9199494 ],\n",
       "          [0.9199494 ],\n",
       "          [0.9199494 ],\n",
       "          ...,\n",
       "          [0.        ],\n",
       "          [0.03679798],\n",
       "          [9.015504  ]]],\n",
       "\n",
       "\n",
       "        [[[1.398323  ],\n",
       "          [1.398323  ],\n",
       "          [1.3615252 ],\n",
       "          ...,\n",
       "          [0.25758582],\n",
       "          [0.18398988],\n",
       "          [0.18398988]],\n",
       "\n",
       "         [[1.398323  ],\n",
       "          [1.398323  ],\n",
       "          [1.2879292 ],\n",
       "          ...,\n",
       "          [0.25758582],\n",
       "          [0.18398988],\n",
       "          [0.18398988]],\n",
       "\n",
       "         [[1.3247272 ],\n",
       "          [1.3247272 ],\n",
       "          [1.2879292 ],\n",
       "          ...,\n",
       "          [0.22078785],\n",
       "          [0.14719191],\n",
       "          [0.14719191]],\n",
       "\n",
       "         ...,\n",
       "\n",
       "         [[0.9567474 ],\n",
       "          [0.9567474 ],\n",
       "          [0.9567474 ],\n",
       "          ...,\n",
       "          [9.199494  ],\n",
       "          [9.236292  ],\n",
       "          [9.236292  ]],\n",
       "\n",
       "         [[0.9199494 ],\n",
       "          [0.9199494 ],\n",
       "          [0.9199494 ],\n",
       "          ...,\n",
       "          [9.309888  ],\n",
       "          [9.199494  ],\n",
       "          [9.0891    ]],\n",
       "\n",
       "         [[0.9199494 ],\n",
       "          [0.9199494 ],\n",
       "          [0.9199494 ],\n",
       "          ...,\n",
       "          [0.        ],\n",
       "          [0.        ],\n",
       "          [8.978706  ]]],\n",
       "\n",
       "\n",
       "        ...,\n",
       "\n",
       "\n",
       "        [[[1.398323  ],\n",
       "          [1.398323  ],\n",
       "          [1.398323  ],\n",
       "          ...,\n",
       "          [0.18398988],\n",
       "          [0.25758582],\n",
       "          [0.18398988]],\n",
       "\n",
       "         [[1.398323  ],\n",
       "          [1.398323  ],\n",
       "          [1.398323  ],\n",
       "          ...,\n",
       "          [0.18398988],\n",
       "          [0.25758582],\n",
       "          [0.18398988]],\n",
       "\n",
       "         [[1.2511312 ],\n",
       "          [1.2511312 ],\n",
       "          [1.2511312 ],\n",
       "          ...,\n",
       "          [0.14719191],\n",
       "          [0.14719191],\n",
       "          [0.14719191]],\n",
       "\n",
       "         ...,\n",
       "\n",
       "         [[0.8831514 ],\n",
       "          [0.8831514 ],\n",
       "          [0.8831514 ],\n",
       "          ...,\n",
       "          [9.236292  ],\n",
       "          [9.309888  ],\n",
       "          [9.27309   ]],\n",
       "\n",
       "         [[0.8831514 ],\n",
       "          [0.8831514 ],\n",
       "          [0.8831514 ],\n",
       "          ...,\n",
       "          [9.236292  ],\n",
       "          [9.199494  ],\n",
       "          [9.0891    ]],\n",
       "\n",
       "         [[0.8831514 ],\n",
       "          [0.8831514 ],\n",
       "          [0.8831514 ],\n",
       "          ...,\n",
       "          [9.346686  ],\n",
       "          [9.199494  ],\n",
       "          [9.052302  ]]],\n",
       "\n",
       "\n",
       "        [[[1.398323  ],\n",
       "          [1.398323  ],\n",
       "          [1.398323  ],\n",
       "          ...,\n",
       "          [0.18398988],\n",
       "          [0.22078785],\n",
       "          [0.14719191]],\n",
       "\n",
       "         [[1.398323  ],\n",
       "          [1.398323  ],\n",
       "          [1.398323  ],\n",
       "          ...,\n",
       "          [0.18398988],\n",
       "          [0.22078785],\n",
       "          [0.14719191]],\n",
       "\n",
       "         [[1.2879292 ],\n",
       "          [1.2879292 ],\n",
       "          [1.2879292 ],\n",
       "          ...,\n",
       "          [0.14719191],\n",
       "          [0.14719191],\n",
       "          [0.14719191]],\n",
       "\n",
       "         ...,\n",
       "\n",
       "         [[0.9567474 ],\n",
       "          [0.9199494 ],\n",
       "          [0.9199494 ],\n",
       "          ...,\n",
       "          [9.199494  ],\n",
       "          [9.27309   ],\n",
       "          [9.309888  ]],\n",
       "\n",
       "         [[0.9199494 ],\n",
       "          [0.9199494 ],\n",
       "          [0.9199494 ],\n",
       "          ...,\n",
       "          [9.125898  ],\n",
       "          [9.199494  ],\n",
       "          [9.125898  ]],\n",
       "\n",
       "         [[0.9199494 ],\n",
       "          [0.9199494 ],\n",
       "          [0.9199494 ],\n",
       "          ...,\n",
       "          [9.309888  ],\n",
       "          [9.199494  ],\n",
       "          [9.052302  ]]],\n",
       "\n",
       "\n",
       "        [[[1.3615252 ],\n",
       "          [1.3615252 ],\n",
       "          [1.398323  ],\n",
       "          ...,\n",
       "          [0.18398988],\n",
       "          [0.22078785],\n",
       "          [0.14719191]],\n",
       "\n",
       "         [[1.3615252 ],\n",
       "          [1.3615252 ],\n",
       "          [1.398323  ],\n",
       "          ...,\n",
       "          [0.18398988],\n",
       "          [0.22078785],\n",
       "          [0.14719191]],\n",
       "\n",
       "         [[1.2879292 ],\n",
       "          [1.2879292 ],\n",
       "          [1.2879292 ],\n",
       "          ...,\n",
       "          [0.22078785],\n",
       "          [0.22078785],\n",
       "          [0.22078785]],\n",
       "\n",
       "         ...,\n",
       "\n",
       "         [[0.9567474 ],\n",
       "          [0.9567474 ],\n",
       "          [0.9199494 ],\n",
       "          ...,\n",
       "          [9.125898  ],\n",
       "          [9.27309   ],\n",
       "          [9.346686  ]],\n",
       "\n",
       "         [[0.9199494 ],\n",
       "          [0.9199494 ],\n",
       "          [0.9199494 ],\n",
       "          ...,\n",
       "          [9.052302  ],\n",
       "          [9.162696  ],\n",
       "          [9.199494  ]],\n",
       "\n",
       "         [[0.9199494 ],\n",
       "          [0.9199494 ],\n",
       "          [0.9199494 ],\n",
       "          ...,\n",
       "          [9.27309   ],\n",
       "          [9.162696  ],\n",
       "          [9.052302  ]]]]], dtype=float32)"
      ]
     },
     "execution_count": 28,
     "metadata": {},
     "output_type": "execute_result"
    }
   ],
   "source": [
    "val = sample.next(); val[0]"
   ]
  },
  {
   "cell_type": "code",
   "execution_count": 29,
   "id": "c33a87a2-d5e0-4ec9-b174-73ebf41bf03a",
   "metadata": {
    "tags": []
   },
   "outputs": [
    {
     "data": {
      "text/plain": [
       "<matplotlib.image.AxesImage at 0x29211844d60>"
      ]
     },
     "execution_count": 29,
     "metadata": {},
     "output_type": "execute_result"
    },
    {
     "data": {
      "image/png": "[encoded data removed]",
      "text/plain": [
       "<Figure size 640x480 with 1 Axes>"
      ]
     },
     "metadata": {},
     "output_type": "display_data"
    }
   ],
   "source": [
    "# 0:videos, 0: 1st video out of the batch,  0: return the first frame in the video \n",
    "plt.imshow(val[0][0][35])"
   ]
  },
  {
   "cell_type": "code",
   "execution_count": 30,
   "id": "84593332-133c-4205-b7a6-8e235d5e2b3b",
   "metadata": {
    "tags": []
   },
   "outputs": [
    {
     "data": {
      "text/plain": [
       "<tf.Tensor: shape=(), dtype=string, numpy=b'bin blue in l three soon'>"
      ]
     },
     "execution_count": 30,
     "metadata": {},
     "output_type": "execute_result"
    }
   ],
   "source": [
    "tf.strings.reduce_join([num_to_char(word) for word in val[1][0]])"
   ]
  },
  {
   "cell_type": "markdown",
   "id": "0f47733c-83bc-465c-b118-b198b492ad37",
   "metadata": {
    "tags": []
   },
   "source": [
    "# 3. Design the Deep Neural Network"
   ]
  },
  {
   "cell_type": "code",
   "execution_count": 3,
   "id": "d8e9a497-191b-4842-afbd-26f5e13c43ba",
   "metadata": {
    "tags": []
   },
   "outputs": [],
   "source": [
    "from tensorflow.keras.models import Sequential \n",
    "from tensorflow.keras.layers import Conv2D, LSTM, Dense, Dropout, Bidirectional, MaxPool2D, Activation, Reshape, SpatialDropout3D, BatchNormalization, TimeDistributed, Flatten\n",
    "from tensorflow.keras.optimizers import Adam\n",
    "from tensorflow.keras.callbacks import ModelCheckpoint, LearningRateScheduler"
   ]
  },
  {
   "cell_type": "code",
   "execution_count": 32,
   "id": "3f753ed2-70b9-4236-8c1c-08ca065dc8bf",
   "metadata": {},
   "outputs": [
    {
     "data": {
      "text/plain": [
       "(75, 46, 140, 1)"
      ]
     },
     "execution_count": 32,
     "metadata": {},
     "output_type": "execute_result"
    }
   ],
   "source": [
    "data.as_numpy_iterator().next()[0][0].shape"
   ]
  },
  {
   "cell_type": "code",
   "execution_count": 13,
   "id": "ee690526",
   "metadata": {},
   "outputs": [],
   "source": [
    "model = Sequential()\n",
    "\n",
    "# Reduced filters for TimeDistributed Conv2D layers\n",
    "model.add(TimeDistributed(Conv2D(32, (3, 3), padding='same', activation='relu'), input_shape=(75, 46, 140, 1)))\n",
    "model.add(TimeDistributed(MaxPool2D((2, 2))))\n",
    "\n",
    "model.add(TimeDistributed(Conv2D(64, (3, 3), padding='same', activation='relu')))\n",
    "model.add(TimeDistributed(MaxPool2D((2, 2))))\n",
    "\n",
    "model.add(TimeDistributed(Conv2D(128, (3, 3), padding='same', activation='relu')))\n",
    "model.add(TimeDistributed(MaxPool2D((2, 2))))\n",
    "\n",
    "# Flatten and reshape for LSTM layers\n",
    "model.add(TimeDistributed(Flatten()))\n",
    "model.add(Reshape((75, -1)))\n",
    "\n",
    "# Reduced LSTM units\n",
    "model.add(Bidirectional(LSTM(64, kernel_initializer='Orthogonal', return_sequences=True)))\n",
    "model.add(Dropout(0.5))\n",
    "\n",
    "model.add(Bidirectional(LSTM(64, kernel_initializer='Orthogonal', return_sequences=True)))\n",
    "model.add(Dropout(0.5))\n",
    "\n",
    "# Reduced Dense layer\n",
    "model.add(Dense(char_to_num.vocabulary_size() + 1, kernel_initializer='he_normal', activation='softmax'))\n"
   ]
  },
  {
   "cell_type": "code",
   "execution_count": 14,
   "id": "78851825-2bcd-42a9-b7f2-28bb5a6bf43a",
   "metadata": {
    "collapsed": true,
    "jupyter": {
     "outputs_hidden": true
    },
    "tags": []
   },
   "outputs": [
    {
     "name": "stdout",
     "output_type": "stream",
     "text": [
      "Model: \"sequential_1\"\n",
      "_________________________________________________________________\n",
      " Layer (type)                Output Shape              Param #   \n",
      "=================================================================\n",
      " time_distributed_7 (TimeDis  (None, 75, 46, 140, 32)  320       \n",
      " tributed)                                                       \n",
      "                                                                 \n",
      " time_distributed_8 (TimeDis  (None, 75, 23, 70, 32)   0         \n",
      " tributed)                                                       \n",
      "                                                                 \n",
      " time_distributed_9 (TimeDis  (None, 75, 23, 70, 64)   18496     \n",
      " tributed)                                                       \n",
      "                                                                 \n",
      " time_distributed_10 (TimeDi  (None, 75, 11, 35, 64)   0         \n",
      " stributed)                                                      \n",
      "                                                                 \n",
      " time_distributed_11 (TimeDi  (None, 75, 11, 35, 128)  73856     \n",
      " stributed)                                                      \n",
      "                                                                 \n",
      " time_distributed_12 (TimeDi  (None, 75, 5, 17, 128)   0         \n",
      " stributed)                                                      \n",
      "                                                                 \n",
      " time_distributed_13 (TimeDi  (None, 75, 10880)        0         \n",
      " stributed)                                                      \n",
      "                                                                 \n",
      " reshape_1 (Reshape)         (None, 75, 10880)         0         \n",
      "                                                                 \n",
      " bidirectional_2 (Bidirectio  (None, 75, 128)          5603840   \n",
      " nal)                                                            \n",
      "                                                                 \n",
      " dropout_2 (Dropout)         (None, 75, 128)           0         \n",
      "                                                                 \n",
      " bidirectional_3 (Bidirectio  (None, 75, 128)          98816     \n",
      " nal)                                                            \n",
      "                                                                 \n",
      " dropout_3 (Dropout)         (None, 75, 128)           0         \n",
      "                                                                 \n",
      " dense (Dense)               (None, 75, 41)            5289      \n",
      "                                                                 \n",
      "=================================================================\n",
      "Total params: 5,800,617\n",
      "Trainable params: 5,800,617\n",
      "Non-trainable params: 0\n",
      "_________________________________________________________________\n"
     ]
    }
   ],
   "source": [
    "model.summary()"
   ]
  },
  {
   "cell_type": "code",
   "execution_count": 35,
   "id": "e5c2eae0-c359-41a4-97a0-75c44dccb7d1",
   "metadata": {
    "tags": []
   },
   "outputs": [
    {
     "name": "stdout",
     "output_type": "stream",
     "text": [
      "1/1 [==============================] - 6s 6s/step\n"
     ]
    }
   ],
   "source": [
    "yhat = model.predict(val[0])"
   ]
  },
  {
   "cell_type": "code",
   "execution_count": 36,
   "id": "ffdc7319-0d69-4f7e-a6d4-ce72deb81c0b",
   "metadata": {},
   "outputs": [
    {
     "data": {
      "text/plain": [
       "<tf.Tensor: shape=(), dtype=string, numpy=b'aaaaaaaaaaaaaaaaaaaaaaaaaaaaaaaaaaaaaaaaaaaaaaaaaaaaaaaaaaaaaaaaaaaaaaaannn'>"
      ]
     },
     "execution_count": 36,
     "metadata": {},
     "output_type": "execute_result"
    }
   ],
   "source": [
    "tf.strings.reduce_join([num_to_char(x) for x in tf.argmax(yhat[0],axis=1)])"
   ]
  },
  {
   "cell_type": "code",
   "execution_count": 37,
   "id": "6ed47531-8317-4255-9a12-b757642258e6",
   "metadata": {
    "tags": []
   },
   "outputs": [
    {
     "data": {
      "text/plain": [
       "<tf.Tensor: shape=(), dtype=string, numpy=b'aaaaaaaaaaaaaaaaaaaaaaaaaaaaaaaaaaaaaaaaaaaaaaaaaaaaaaaaaaaaaaaaaaaaaaaannn'>"
      ]
     },
     "execution_count": 37,
     "metadata": {},
     "output_type": "execute_result"
    }
   ],
   "source": [
    "tf.strings.reduce_join([num_to_char(tf.argmax(x)) for x in yhat[0]])"
   ]
  },
  {
   "cell_type": "code",
   "execution_count": 38,
   "id": "7c37b9b9-5298-4038-9c33-5031d1b457f0",
   "metadata": {
    "tags": []
   },
   "outputs": [
    {
     "data": {
      "text/plain": [
       "(None, 75, 46, 140, 1)"
      ]
     },
     "execution_count": 38,
     "metadata": {},
     "output_type": "execute_result"
    }
   ],
   "source": [
    "model.input_shape   "
   ]
  },
  {
   "cell_type": "code",
   "execution_count": 39,
   "id": "98b316a4-5322-4782-8e36-4b3c1a696d85",
   "metadata": {
    "tags": []
   },
   "outputs": [
    {
     "data": {
      "text/plain": [
       "(None, 75, 41)"
      ]
     },
     "execution_count": 39,
     "metadata": {},
     "output_type": "execute_result"
    }
   ],
   "source": [
    "model.output_shape"
   ]
  },
  {
   "cell_type": "markdown",
   "id": "2ec02176-5c26-46c3-aff7-8352e6563c7d",
   "metadata": {
    "tags": []
   },
   "source": [
    "# 4. Setup Training Options and Train"
   ]
  },
  {
   "cell_type": "code",
   "execution_count": 40,
   "id": "ab015fd0-7fb4-4d5d-9fa2-30a05dbd515a",
   "metadata": {
    "tags": []
   },
   "outputs": [],
   "source": [
    "def scheduler(epoch, lr):\n",
    "    if epoch < 30:\n",
    "        return lr\n",
    "    else:\n",
    "        return lr * tf.math.exp(-0.1)"
   ]
  },
  {
   "cell_type": "code",
   "execution_count": 41,
   "id": "c564d5c9-db54-4e88-b311-9aeab7fb3e69",
   "metadata": {
    "tags": []
   },
   "outputs": [],
   "source": [
    "def CTCLoss(y_true, y_pred):\n",
    "    batch_len = tf.cast(tf.shape(y_true)[0], dtype=\"int64\")\n",
    "    input_length = tf.cast(tf.shape(y_pred)[1], dtype=\"int64\")\n",
    "    label_length = tf.cast(tf.shape(y_true)[1], dtype=\"int64\")\n",
    "\n",
    "    input_length = input_length * tf.ones(shape=(batch_len, 1), dtype=\"int64\")\n",
    "    label_length = label_length * tf.ones(shape=(batch_len, 1), dtype=\"int64\")\n",
    "\n",
    "    loss = tf.keras.backend.ctc_batch_cost(y_true, y_pred, input_length, label_length)\n",
    "    return loss"
   ]
  },
  {
   "cell_type": "code",
   "execution_count": 42,
   "id": "a26dc3fc-a19c-4378-bd8c-e2b597a1d15c",
   "metadata": {
    "tags": []
   },
   "outputs": [],
   "source": [
    "class ProduceExample(tf.keras.callbacks.Callback): \n",
    "    def __init__(self, dataset) -> None: \n",
    "        self.original_dataset = dataset  # Keep a reference to the original dataset\n",
    "\n",
    "    def on_epoch_begin(self, epoch, logs=None):\n",
    "        # Recreate the iterator from the original dataset at the beginning of each epoch\n",
    "        self.dataset = self.original_dataset.as_numpy_iterator()\n",
    "    \n",
    "    def on_epoch_end(self, epoch, logs=None) -> None:\n",
    "        data = self.dataset.next()\n",
    "        yhat = self.model.predict(data[0])\n",
    "        decoded = tf.keras.backend.ctc_decode(yhat, [75,75], greedy=False)[0][0].numpy()\n",
    "        for x in range(len(yhat)):           \n",
    "            print('Original:', tf.strings.reduce_join(num_to_char(data[1][x])).numpy().decode('utf-8'))\n",
    "            print('Prediction:', tf.strings.reduce_join(num_to_char(decoded[x])).numpy().decode('utf-8'))\n",
    "            print('~'*100)\n"
   ]
  },
  {
   "cell_type": "code",
   "execution_count": 43,
   "id": "04be90d8-2482-46f9-b513-d5f4f8001c7e",
   "metadata": {
    "tags": []
   },
   "outputs": [],
   "source": [
    "model.compile(optimizer=Adam(learning_rate=0.0001), loss=CTCLoss)"
   ]
  },
  {
   "cell_type": "code",
   "execution_count": 44,
   "id": "eab49367-3f1e-4464-ae76-dbd07549d97e",
   "metadata": {
    "tags": []
   },
   "outputs": [],
   "source": [
    "checkpoint_callback = ModelCheckpoint(os.path.join('models','2dcheckpoint.weights.h5'), monitor='loss', save_weights_only=True) "
   ]
  },
  {
   "cell_type": "code",
   "execution_count": 45,
   "id": "e085a632-d464-46ef-8777-959cad4adb2c",
   "metadata": {
    "tags": []
   },
   "outputs": [],
   "source": [
    "schedule_callback = LearningRateScheduler(scheduler)"
   ]
  },
  {
   "cell_type": "code",
   "execution_count": 46,
   "id": "48eca991-90ab-4592-8a79-b50e9ca015b6",
   "metadata": {
    "tags": []
   },
   "outputs": [],
   "source": [
    "example_callback = ProduceExample(test)"
   ]
  },
  {
   "cell_type": "code",
   "execution_count": 60,
   "id": "8ffba483-aa61-4bbe-a15f-a73e1ddf097c",
   "metadata": {
    "tags": []
   },
   "outputs": [
    {
     "name": "stdout",
     "output_type": "stream",
     "text": [
      "1/1 [==============================] - 0s 185ms/step loss: 45.33\n",
      "Original: bin blue by f eight please\n",
      "Prediction: in bue b ie plase\n",
      "~~~~~~~~~~~~~~~~~~~~~~~~~~~~~~~~~~~~~~~~~~~~~~~~~~~~~~~~~~~~~~~~~~~~~~~~~~~~~~~~~~~~~~~~~~~~~~~~~~~~\n",
      "Original: set green with q zero please\n",
      "Prediction: se re t or plase\n",
      "~~~~~~~~~~~~~~~~~~~~~~~~~~~~~~~~~~~~~~~~~~~~~~~~~~~~~~~~~~~~~~~~~~~~~~~~~~~~~~~~~~~~~~~~~~~~~~~~~~~~\n",
      "450/450 [==============================] - 431s 958ms/step - loss: 45.3316 - val_loss: 39.3329 - lr: 1.0000e-04\n",
      "Epoch 20/80\n",
      "1/1 [==============================] - 0s 211ms/step loss: 44.26\n",
      "Original: place green by e four please\n",
      "Prediction: plac re or plase\n",
      "~~~~~~~~~~~~~~~~~~~~~~~~~~~~~~~~~~~~~~~~~~~~~~~~~~~~~~~~~~~~~~~~~~~~~~~~~~~~~~~~~~~~~~~~~~~~~~~~~~~~\n",
      "Original: lay green in l six please\n",
      "Prediction: lay re n i plase\n",
      "~~~~~~~~~~~~~~~~~~~~~~~~~~~~~~~~~~~~~~~~~~~~~~~~~~~~~~~~~~~~~~~~~~~~~~~~~~~~~~~~~~~~~~~~~~~~~~~~~~~~\n",
      "450/450 [==============================] - 443s 986ms/step - loss: 44.2654 - val_loss: 38.1297 - lr: 1.0000e-04\n",
      "Epoch 21/80\n",
      "1/1 [==============================] - 0s 210ms/step loss: 43.35\n",
      "Original: set green by x zero please\n",
      "Prediction: se re t re plae\n",
      "~~~~~~~~~~~~~~~~~~~~~~~~~~~~~~~~~~~~~~~~~~~~~~~~~~~~~~~~~~~~~~~~~~~~~~~~~~~~~~~~~~~~~~~~~~~~~~~~~~~~\n",
      "Original: place white at x six please\n",
      "Prediction: plac he t t ie plase\n",
      "~~~~~~~~~~~~~~~~~~~~~~~~~~~~~~~~~~~~~~~~~~~~~~~~~~~~~~~~~~~~~~~~~~~~~~~~~~~~~~~~~~~~~~~~~~~~~~~~~~~~\n",
      "450/450 [==============================] - 454s 1s/step - loss: 43.3555 - val_loss: 37.2056 - lr: 1.0000e-04\n",
      "Epoch 22/80\n",
      "1/1 [==============================] - 0s 103ms/step loss: 42.59\n",
      "Original: bin green at h zero now\n",
      "Prediction: in re n on ow\n",
      "~~~~~~~~~~~~~~~~~~~~~~~~~~~~~~~~~~~~~~~~~~~~~~~~~~~~~~~~~~~~~~~~~~~~~~~~~~~~~~~~~~~~~~~~~~~~~~~~~~~~\n",
      "Original: lay red with l seven again\n",
      "Prediction: lay re it ie ain\n",
      "~~~~~~~~~~~~~~~~~~~~~~~~~~~~~~~~~~~~~~~~~~~~~~~~~~~~~~~~~~~~~~~~~~~~~~~~~~~~~~~~~~~~~~~~~~~~~~~~~~~~\n",
      "450/450 [==============================] - 456s 1s/step - loss: 42.5968 - val_loss: 35.7962 - lr: 1.0000e-04\n",
      "Epoch 23/80\n",
      "1/1 [==============================] - 0s 198ms/step loss: 41.52\n",
      "Original: bin white at g five soon\n",
      "Prediction: bin whie t ie son\n",
      "~~~~~~~~~~~~~~~~~~~~~~~~~~~~~~~~~~~~~~~~~~~~~~~~~~~~~~~~~~~~~~~~~~~~~~~~~~~~~~~~~~~~~~~~~~~~~~~~~~~~\n",
      "Original: bin red by m six now\n",
      "Prediction: bin re y ie o\n",
      "~~~~~~~~~~~~~~~~~~~~~~~~~~~~~~~~~~~~~~~~~~~~~~~~~~~~~~~~~~~~~~~~~~~~~~~~~~~~~~~~~~~~~~~~~~~~~~~~~~~~\n",
      "450/450 [==============================] - 443s 986ms/step - loss: 41.5237 - val_loss: 36.6137 - lr: 1.0000e-04\n",
      "Epoch 24/80\n",
      "1/1 [==============================] - 0s 91ms/step- loss: 41.00\n",
      "Original: lay red by r four now\n",
      "Prediction: lac red y er ow\n",
      "~~~~~~~~~~~~~~~~~~~~~~~~~~~~~~~~~~~~~~~~~~~~~~~~~~~~~~~~~~~~~~~~~~~~~~~~~~~~~~~~~~~~~~~~~~~~~~~~~~~~\n",
      "Original: bin blue by m two please\n",
      "Prediction: bin blue b io plase\n",
      "~~~~~~~~~~~~~~~~~~~~~~~~~~~~~~~~~~~~~~~~~~~~~~~~~~~~~~~~~~~~~~~~~~~~~~~~~~~~~~~~~~~~~~~~~~~~~~~~~~~~\n",
      "450/450 [==============================] - 440s 979ms/step - loss: 41.0012 - val_loss: 34.7622 - lr: 1.0000e-04\n",
      "Epoch 25/80\n",
      "1/1 [==============================] - 0s 80ms/step- loss: 40.07\n",
      "Original: set white in b five again\n",
      "Prediction: set whie ib ie agin\n",
      "~~~~~~~~~~~~~~~~~~~~~~~~~~~~~~~~~~~~~~~~~~~~~~~~~~~~~~~~~~~~~~~~~~~~~~~~~~~~~~~~~~~~~~~~~~~~~~~~~~~~\n",
      "Original: lay white in r four please\n",
      "Prediction: lay hie it or plase\n",
      "~~~~~~~~~~~~~~~~~~~~~~~~~~~~~~~~~~~~~~~~~~~~~~~~~~~~~~~~~~~~~~~~~~~~~~~~~~~~~~~~~~~~~~~~~~~~~~~~~~~~\n",
      "450/450 [==============================] - 420s 933ms/step - loss: 40.0737 - val_loss: 33.9649 - lr: 1.0000e-04\n",
      "Epoch 26/80\n",
      "1/1 [==============================] - 0s 294ms/step loss: 39.32\n",
      "Original: lay red by l three again\n",
      "Prediction: lay re y e agan\n",
      "~~~~~~~~~~~~~~~~~~~~~~~~~~~~~~~~~~~~~~~~~~~~~~~~~~~~~~~~~~~~~~~~~~~~~~~~~~~~~~~~~~~~~~~~~~~~~~~~~~~~\n",
      "Original: lay green in z three soon\n",
      "Prediction: lay re i e son\n",
      "~~~~~~~~~~~~~~~~~~~~~~~~~~~~~~~~~~~~~~~~~~~~~~~~~~~~~~~~~~~~~~~~~~~~~~~~~~~~~~~~~~~~~~~~~~~~~~~~~~~~\n",
      "450/450 [==============================] - 452s 1s/step - loss: 39.3275 - val_loss: 33.4234 - lr: 1.0000e-04\n",
      "Epoch 27/80\n",
      "1/1 [==============================] - 0s 249ms/step loss: 38.62\n",
      "Original: place blue in v one again\n",
      "Prediction: plac blue i ie ain\n",
      "~~~~~~~~~~~~~~~~~~~~~~~~~~~~~~~~~~~~~~~~~~~~~~~~~~~~~~~~~~~~~~~~~~~~~~~~~~~~~~~~~~~~~~~~~~~~~~~~~~~~\n",
      "Original: lay blue with l one again\n",
      "Prediction: ly blue i ie ain\n",
      "~~~~~~~~~~~~~~~~~~~~~~~~~~~~~~~~~~~~~~~~~~~~~~~~~~~~~~~~~~~~~~~~~~~~~~~~~~~~~~~~~~~~~~~~~~~~~~~~~~~~\n",
      "450/450 [==============================] - 450s 1s/step - loss: 38.6299 - val_loss: 33.1048 - lr: 1.0000e-04\n",
      "Epoch 28/80\n",
      "1/1 [==============================] - 0s 183ms/step loss: 37.82\n",
      "Original: set red by o three soon\n",
      "Prediction: se red t re son\n",
      "~~~~~~~~~~~~~~~~~~~~~~~~~~~~~~~~~~~~~~~~~~~~~~~~~~~~~~~~~~~~~~~~~~~~~~~~~~~~~~~~~~~~~~~~~~~~~~~~~~~~\n",
      "Original: lay green in f one soon\n",
      "Prediction: lay gren n oe o\n",
      "~~~~~~~~~~~~~~~~~~~~~~~~~~~~~~~~~~~~~~~~~~~~~~~~~~~~~~~~~~~~~~~~~~~~~~~~~~~~~~~~~~~~~~~~~~~~~~~~~~~~\n",
      "450/450 [==============================] - 431s 960ms/step - loss: 37.8239 - val_loss: 31.4548 - lr: 1.0000e-04\n",
      "Epoch 29/80\n",
      "1/1 [==============================] - 0s 182ms/step loss: 37.09\n",
      "Original: place red in c four please\n",
      "Prediction: place red t oe plase\n",
      "~~~~~~~~~~~~~~~~~~~~~~~~~~~~~~~~~~~~~~~~~~~~~~~~~~~~~~~~~~~~~~~~~~~~~~~~~~~~~~~~~~~~~~~~~~~~~~~~~~~~\n",
      "Original: place white by d six now\n",
      "Prediction: plac whie t ie ow\n",
      "~~~~~~~~~~~~~~~~~~~~~~~~~~~~~~~~~~~~~~~~~~~~~~~~~~~~~~~~~~~~~~~~~~~~~~~~~~~~~~~~~~~~~~~~~~~~~~~~~~~~\n",
      "450/450 [==============================] - 427s 950ms/step - loss: 37.0919 - val_loss: 31.1119 - lr: 1.0000e-04\n",
      "Epoch 30/80\n",
      "1/1 [==============================] - 0s 191ms/step loss: 36.47\n",
      "Original: bin white by a five soon\n",
      "Prediction: bin whte by ie son\n",
      "~~~~~~~~~~~~~~~~~~~~~~~~~~~~~~~~~~~~~~~~~~~~~~~~~~~~~~~~~~~~~~~~~~~~~~~~~~~~~~~~~~~~~~~~~~~~~~~~~~~~\n",
      "Original: place red by d one soon\n",
      "Prediction: lac rd y oe son\n",
      "~~~~~~~~~~~~~~~~~~~~~~~~~~~~~~~~~~~~~~~~~~~~~~~~~~~~~~~~~~~~~~~~~~~~~~~~~~~~~~~~~~~~~~~~~~~~~~~~~~~~\n",
      "450/450 [==============================] - 428s 952ms/step - loss: 36.4729 - val_loss: 29.9197 - lr: 1.0000e-04\n",
      "Epoch 31/80\n",
      "1/1 [==============================] - 0s 180ms/step loss: 35.57\n",
      "Original: bin blue at s one soon\n",
      "Prediction: bin bue a soe son\n",
      "~~~~~~~~~~~~~~~~~~~~~~~~~~~~~~~~~~~~~~~~~~~~~~~~~~~~~~~~~~~~~~~~~~~~~~~~~~~~~~~~~~~~~~~~~~~~~~~~~~~~\n",
      "Original: set blue with h eight please\n",
      "Prediction: st blue it ho please\n",
      "~~~~~~~~~~~~~~~~~~~~~~~~~~~~~~~~~~~~~~~~~~~~~~~~~~~~~~~~~~~~~~~~~~~~~~~~~~~~~~~~~~~~~~~~~~~~~~~~~~~~\n",
      "450/450 [==============================] - 429s 954ms/step - loss: 35.5769 - val_loss: 29.9128 - lr: 9.0484e-05\n",
      "Epoch 32/80\n",
      "1/1 [==============================] - 0s 180ms/step loss: 34.72\n",
      "Original: bin white at t five again\n",
      "Prediction: bi whie t ie again\n",
      "~~~~~~~~~~~~~~~~~~~~~~~~~~~~~~~~~~~~~~~~~~~~~~~~~~~~~~~~~~~~~~~~~~~~~~~~~~~~~~~~~~~~~~~~~~~~~~~~~~~~\n",
      "Original: place green with z one again\n",
      "Prediction: place gre wit oe again\n",
      "~~~~~~~~~~~~~~~~~~~~~~~~~~~~~~~~~~~~~~~~~~~~~~~~~~~~~~~~~~~~~~~~~~~~~~~~~~~~~~~~~~~~~~~~~~~~~~~~~~~~\n",
      "450/450 [==============================] - 427s 950ms/step - loss: 34.7249 - val_loss: 28.3020 - lr: 8.1873e-05\n",
      "Epoch 33/80\n",
      "1/1 [==============================] - 0s 156ms/step loss: 34.06\n",
      "Original: set white at u eight now\n",
      "Prediction: set whte t in ow\n",
      "~~~~~~~~~~~~~~~~~~~~~~~~~~~~~~~~~~~~~~~~~~~~~~~~~~~~~~~~~~~~~~~~~~~~~~~~~~~~~~~~~~~~~~~~~~~~~~~~~~~~\n",
      "Original: bin green in a three soon\n",
      "Prediction: bin re it he son\n",
      "~~~~~~~~~~~~~~~~~~~~~~~~~~~~~~~~~~~~~~~~~~~~~~~~~~~~~~~~~~~~~~~~~~~~~~~~~~~~~~~~~~~~~~~~~~~~~~~~~~~~\n",
      "450/450 [==============================] - 425s 947ms/step - loss: 34.0623 - val_loss: 27.8943 - lr: 7.4082e-05\n",
      "Epoch 34/80\n",
      "1/1 [==============================] - 0s 177ms/step loss: 33.19\n",
      "Original: set white at b eight please\n",
      "Prediction: set hte y ie plase\n",
      "~~~~~~~~~~~~~~~~~~~~~~~~~~~~~~~~~~~~~~~~~~~~~~~~~~~~~~~~~~~~~~~~~~~~~~~~~~~~~~~~~~~~~~~~~~~~~~~~~~~~\n",
      "Original: set blue at g nine soon\n",
      "Prediction: st blue a ie son\n",
      "~~~~~~~~~~~~~~~~~~~~~~~~~~~~~~~~~~~~~~~~~~~~~~~~~~~~~~~~~~~~~~~~~~~~~~~~~~~~~~~~~~~~~~~~~~~~~~~~~~~~\n",
      "450/450 [==============================] - 425s 946ms/step - loss: 33.1901 - val_loss: 27.3683 - lr: 6.7032e-05\n",
      "Epoch 35/80\n",
      "1/1 [==============================] - 0s 193ms/step loss: 32.61\n",
      "Original: bin blue by f eight please\n",
      "Prediction: bin blue by ihe please\n",
      "~~~~~~~~~~~~~~~~~~~~~~~~~~~~~~~~~~~~~~~~~~~~~~~~~~~~~~~~~~~~~~~~~~~~~~~~~~~~~~~~~~~~~~~~~~~~~~~~~~~~\n",
      "Original: lay blue with e five soon\n",
      "Prediction: lay blue wit ve son\n",
      "~~~~~~~~~~~~~~~~~~~~~~~~~~~~~~~~~~~~~~~~~~~~~~~~~~~~~~~~~~~~~~~~~~~~~~~~~~~~~~~~~~~~~~~~~~~~~~~~~~~~\n",
      "450/450 [==============================] - 427s 950ms/step - loss: 32.6118 - val_loss: 26.7132 - lr: 6.0653e-05\n",
      "Epoch 36/80\n",
      "1/1 [==============================] - 0s 27ms/step- loss: 32.24\n",
      "Original: place blue by i nine soon\n",
      "Prediction: plac blue b ie son\n",
      "~~~~~~~~~~~~~~~~~~~~~~~~~~~~~~~~~~~~~~~~~~~~~~~~~~~~~~~~~~~~~~~~~~~~~~~~~~~~~~~~~~~~~~~~~~~~~~~~~~~~\n",
      "Original: lay white in e six please\n",
      "Prediction: lay hie t ie plase\n",
      "~~~~~~~~~~~~~~~~~~~~~~~~~~~~~~~~~~~~~~~~~~~~~~~~~~~~~~~~~~~~~~~~~~~~~~~~~~~~~~~~~~~~~~~~~~~~~~~~~~~~\n",
      "450/450 [==============================] - 423s 942ms/step - loss: 32.2473 - val_loss: 26.2220 - lr: 5.4881e-05\n",
      "Epoch 37/80\n",
      "1/1 [==============================] - 0s 224ms/step loss: 31.86\n",
      "Original: place red by x five again\n",
      "Prediction: plac red y ie again\n",
      "~~~~~~~~~~~~~~~~~~~~~~~~~~~~~~~~~~~~~~~~~~~~~~~~~~~~~~~~~~~~~~~~~~~~~~~~~~~~~~~~~~~~~~~~~~~~~~~~~~~~\n",
      "Original: set blue with b four please\n",
      "Prediction: set blue wit oe please\n",
      "~~~~~~~~~~~~~~~~~~~~~~~~~~~~~~~~~~~~~~~~~~~~~~~~~~~~~~~~~~~~~~~~~~~~~~~~~~~~~~~~~~~~~~~~~~~~~~~~~~~~\n",
      "450/450 [==============================] - 419s 932ms/step - loss: 31.8671 - val_loss: 25.9394 - lr: 4.9659e-05\n",
      "Epoch 38/80\n",
      "1/1 [==============================] - 0s 25ms/step- loss: 31.41\n",
      "Original: bin red by m nine again\n",
      "Prediction: bin rd by nin again\n",
      "~~~~~~~~~~~~~~~~~~~~~~~~~~~~~~~~~~~~~~~~~~~~~~~~~~~~~~~~~~~~~~~~~~~~~~~~~~~~~~~~~~~~~~~~~~~~~~~~~~~~\n",
      "Original: bin blue at l eight please\n",
      "Prediction: bin blue a eie please\n",
      "~~~~~~~~~~~~~~~~~~~~~~~~~~~~~~~~~~~~~~~~~~~~~~~~~~~~~~~~~~~~~~~~~~~~~~~~~~~~~~~~~~~~~~~~~~~~~~~~~~~~\n",
      "450/450 [==============================] - 421s 937ms/step - loss: 31.4181 - val_loss: 24.9267 - lr: 4.4933e-05\n",
      "Epoch 39/80\n",
      "1/1 [==============================] - 0s 25ms/step- loss: 30.89\n",
      "Original: place red at c six now\n",
      "Prediction: plac red a ie ow\n",
      "~~~~~~~~~~~~~~~~~~~~~~~~~~~~~~~~~~~~~~~~~~~~~~~~~~~~~~~~~~~~~~~~~~~~~~~~~~~~~~~~~~~~~~~~~~~~~~~~~~~~\n",
      "Original: lay white with z eight now\n",
      "Prediction: lay whie with ie ow\n",
      "~~~~~~~~~~~~~~~~~~~~~~~~~~~~~~~~~~~~~~~~~~~~~~~~~~~~~~~~~~~~~~~~~~~~~~~~~~~~~~~~~~~~~~~~~~~~~~~~~~~~\n",
      "450/450 [==============================] - 422s 938ms/step - loss: 30.8979 - val_loss: 24.3856 - lr: 4.0657e-05\n",
      "Epoch 40/80\n",
      "1/1 [==============================] - 0s 27ms/step- loss: 30.63\n",
      "Original: lay red with z three soon\n",
      "Prediction: lay red wth hre son\n",
      "~~~~~~~~~~~~~~~~~~~~~~~~~~~~~~~~~~~~~~~~~~~~~~~~~~~~~~~~~~~~~~~~~~~~~~~~~~~~~~~~~~~~~~~~~~~~~~~~~~~~\n",
      "Original: bin green by h five soon\n",
      "Prediction: bin gren by ive son\n",
      "~~~~~~~~~~~~~~~~~~~~~~~~~~~~~~~~~~~~~~~~~~~~~~~~~~~~~~~~~~~~~~~~~~~~~~~~~~~~~~~~~~~~~~~~~~~~~~~~~~~~\n",
      "450/450 [==============================] - 419s 932ms/step - loss: 30.6338 - val_loss: 24.5446 - lr: 3.6788e-05\n",
      "Epoch 41/80\n",
      "1/1 [==============================] - 0s 203ms/step loss: 30.23\n",
      "Original: lay blue at y one again\n",
      "Prediction: lay blue at e agin\n",
      "~~~~~~~~~~~~~~~~~~~~~~~~~~~~~~~~~~~~~~~~~~~~~~~~~~~~~~~~~~~~~~~~~~~~~~~~~~~~~~~~~~~~~~~~~~~~~~~~~~~~\n",
      "Original: lay white with m zero now\n",
      "Prediction: lac whie with or ow\n",
      "~~~~~~~~~~~~~~~~~~~~~~~~~~~~~~~~~~~~~~~~~~~~~~~~~~~~~~~~~~~~~~~~~~~~~~~~~~~~~~~~~~~~~~~~~~~~~~~~~~~~\n",
      "450/450 [==============================] - 423s 942ms/step - loss: 30.2346 - val_loss: 24.2955 - lr: 3.3287e-05\n",
      "Epoch 42/80\n",
      "1/1 [==============================] - 0s 197ms/step loss: 29.92\n",
      "Original: lay red by e nine again\n",
      "Prediction: lay re by ie again\n",
      "~~~~~~~~~~~~~~~~~~~~~~~~~~~~~~~~~~~~~~~~~~~~~~~~~~~~~~~~~~~~~~~~~~~~~~~~~~~~~~~~~~~~~~~~~~~~~~~~~~~~\n",
      "Original: bin white with a nine soon\n",
      "Prediction: bin whit wit ie son\n",
      "~~~~~~~~~~~~~~~~~~~~~~~~~~~~~~~~~~~~~~~~~~~~~~~~~~~~~~~~~~~~~~~~~~~~~~~~~~~~~~~~~~~~~~~~~~~~~~~~~~~~\n",
      "450/450 [==============================] - 422s 940ms/step - loss: 29.9253 - val_loss: 24.1836 - lr: 3.0119e-05\n",
      "Epoch 43/80\n",
      "1/1 [==============================] - 0s 173ms/step loss: 29.87\n",
      "Original: place blue in v one again\n",
      "Prediction: place blue in ne again\n",
      "~~~~~~~~~~~~~~~~~~~~~~~~~~~~~~~~~~~~~~~~~~~~~~~~~~~~~~~~~~~~~~~~~~~~~~~~~~~~~~~~~~~~~~~~~~~~~~~~~~~~\n",
      "Original: lay white in y nine again\n",
      "Prediction: lay whie i ie again\n",
      "~~~~~~~~~~~~~~~~~~~~~~~~~~~~~~~~~~~~~~~~~~~~~~~~~~~~~~~~~~~~~~~~~~~~~~~~~~~~~~~~~~~~~~~~~~~~~~~~~~~~\n",
      "450/450 [==============================] - 424s 943ms/step - loss: 29.8732 - val_loss: 23.3623 - lr: 2.7253e-05\n",
      "Epoch 44/80\n",
      "1/1 [==============================] - 0s 185ms/step loss: 29.41\n",
      "Original: bin blue at f three soon\n",
      "Prediction: bin blue at tre son\n",
      "~~~~~~~~~~~~~~~~~~~~~~~~~~~~~~~~~~~~~~~~~~~~~~~~~~~~~~~~~~~~~~~~~~~~~~~~~~~~~~~~~~~~~~~~~~~~~~~~~~~~\n",
      "Original: set green by p five soon\n",
      "Prediction: set gre by ve son\n",
      "~~~~~~~~~~~~~~~~~~~~~~~~~~~~~~~~~~~~~~~~~~~~~~~~~~~~~~~~~~~~~~~~~~~~~~~~~~~~~~~~~~~~~~~~~~~~~~~~~~~~\n",
      "450/450 [==============================] - 414s 921ms/step - loss: 29.4188 - val_loss: 23.4457 - lr: 2.4660e-05\n",
      "Epoch 45/80\n",
      "1/1 [==============================] - 0s 183ms/step loss: 29.19\n",
      "Original: place blue with p seven soon\n",
      "Prediction: plac blue it se son\n",
      "~~~~~~~~~~~~~~~~~~~~~~~~~~~~~~~~~~~~~~~~~~~~~~~~~~~~~~~~~~~~~~~~~~~~~~~~~~~~~~~~~~~~~~~~~~~~~~~~~~~~\n",
      "Original: set green by p four now\n",
      "Prediction: se gre by ur ow\n",
      "~~~~~~~~~~~~~~~~~~~~~~~~~~~~~~~~~~~~~~~~~~~~~~~~~~~~~~~~~~~~~~~~~~~~~~~~~~~~~~~~~~~~~~~~~~~~~~~~~~~~\n",
      "450/450 [==============================] - 420s 934ms/step - loss: 29.1908 - val_loss: 23.3948 - lr: 2.2313e-05\n",
      "Epoch 46/80\n",
      "1/1 [==============================] - 0s 166ms/step loss: 29.11\n",
      "Original: set white at b eight please\n",
      "Prediction: set whte t ih please\n",
      "~~~~~~~~~~~~~~~~~~~~~~~~~~~~~~~~~~~~~~~~~~~~~~~~~~~~~~~~~~~~~~~~~~~~~~~~~~~~~~~~~~~~~~~~~~~~~~~~~~~~\n",
      "Original: lay blue in x six please\n",
      "Prediction: lay blue i ix plese\n",
      "~~~~~~~~~~~~~~~~~~~~~~~~~~~~~~~~~~~~~~~~~~~~~~~~~~~~~~~~~~~~~~~~~~~~~~~~~~~~~~~~~~~~~~~~~~~~~~~~~~~~\n",
      "450/450 [==============================] - 422s 939ms/step - loss: 29.1180 - val_loss: 22.9604 - lr: 2.0190e-05\n",
      "Epoch 47/80\n",
      "1/1 [==============================] - 0s 195ms/step loss: 29.05\n",
      "Original: set green with j four now\n",
      "Prediction: set gre with or ow\n",
      "~~~~~~~~~~~~~~~~~~~~~~~~~~~~~~~~~~~~~~~~~~~~~~~~~~~~~~~~~~~~~~~~~~~~~~~~~~~~~~~~~~~~~~~~~~~~~~~~~~~~\n",
      "Original: place blue in v one again\n",
      "Prediction: plac blue in eve again\n",
      "~~~~~~~~~~~~~~~~~~~~~~~~~~~~~~~~~~~~~~~~~~~~~~~~~~~~~~~~~~~~~~~~~~~~~~~~~~~~~~~~~~~~~~~~~~~~~~~~~~~~\n",
      "450/450 [==============================] - 423s 941ms/step - loss: 29.0525 - val_loss: 22.9034 - lr: 1.8268e-05\n",
      "Epoch 48/80\n",
      "1/1 [==============================] - 0s 147ms/step loss: 28.78\n",
      "Original: place red at j one soon\n",
      "Prediction: plac red at oe son\n",
      "~~~~~~~~~~~~~~~~~~~~~~~~~~~~~~~~~~~~~~~~~~~~~~~~~~~~~~~~~~~~~~~~~~~~~~~~~~~~~~~~~~~~~~~~~~~~~~~~~~~~\n",
      "Original: set blue in t four please\n",
      "Prediction: st blue i or please\n",
      "~~~~~~~~~~~~~~~~~~~~~~~~~~~~~~~~~~~~~~~~~~~~~~~~~~~~~~~~~~~~~~~~~~~~~~~~~~~~~~~~~~~~~~~~~~~~~~~~~~~~\n",
      "450/450 [==============================] - 422s 940ms/step - loss: 28.7846 - val_loss: 22.5784 - lr: 1.6530e-05\n",
      "Epoch 49/80\n",
      "1/1 [==============================] - 0s 176ms/step loss: 28.68\n",
      "Original: lay blue at y one again\n",
      "Prediction: lay blue a e again\n",
      "~~~~~~~~~~~~~~~~~~~~~~~~~~~~~~~~~~~~~~~~~~~~~~~~~~~~~~~~~~~~~~~~~~~~~~~~~~~~~~~~~~~~~~~~~~~~~~~~~~~~\n",
      "Original: place white by k three again\n",
      "Prediction: place white by hre again\n",
      "~~~~~~~~~~~~~~~~~~~~~~~~~~~~~~~~~~~~~~~~~~~~~~~~~~~~~~~~~~~~~~~~~~~~~~~~~~~~~~~~~~~~~~~~~~~~~~~~~~~~\n",
      "450/450 [==============================] - 433s 962ms/step - loss: 28.6836 - val_loss: 22.8287 - lr: 1.4957e-05\n",
      "Epoch 50/80\n",
      "1/1 [==============================] - 0s 169ms/step loss: 28.51\n",
      "Original: lay red by z zero please\n",
      "Prediction: lay red by or plase\n",
      "~~~~~~~~~~~~~~~~~~~~~~~~~~~~~~~~~~~~~~~~~~~~~~~~~~~~~~~~~~~~~~~~~~~~~~~~~~~~~~~~~~~~~~~~~~~~~~~~~~~~\n",
      "Original: place white by k two please\n",
      "Prediction: place whit by o please\n",
      "~~~~~~~~~~~~~~~~~~~~~~~~~~~~~~~~~~~~~~~~~~~~~~~~~~~~~~~~~~~~~~~~~~~~~~~~~~~~~~~~~~~~~~~~~~~~~~~~~~~~\n",
      "450/450 [==============================] - 422s 938ms/step - loss: 28.5192 - val_loss: 22.6054 - lr: 1.3534e-05\n",
      "Epoch 51/80\n",
      "1/1 [==============================] - 0s 171ms/step loss: 28.26\n",
      "Original: bin white at m nine soon\n",
      "Prediction: bin white t ie son\n",
      "~~~~~~~~~~~~~~~~~~~~~~~~~~~~~~~~~~~~~~~~~~~~~~~~~~~~~~~~~~~~~~~~~~~~~~~~~~~~~~~~~~~~~~~~~~~~~~~~~~~~\n",
      "Original: lay green at z seven soon\n",
      "Prediction: lay gre t sve son\n",
      "~~~~~~~~~~~~~~~~~~~~~~~~~~~~~~~~~~~~~~~~~~~~~~~~~~~~~~~~~~~~~~~~~~~~~~~~~~~~~~~~~~~~~~~~~~~~~~~~~~~~\n",
      "450/450 [==============================] - 422s 939ms/step - loss: 28.2635 - val_loss: 22.1391 - lr: 1.2246e-05\n",
      "Epoch 52/80\n",
      "1/1 [==============================] - 0s 175ms/step loss: 28.38\n",
      "Original: bin green at n seven again\n",
      "Prediction: bin gre a e again\n",
      "~~~~~~~~~~~~~~~~~~~~~~~~~~~~~~~~~~~~~~~~~~~~~~~~~~~~~~~~~~~~~~~~~~~~~~~~~~~~~~~~~~~~~~~~~~~~~~~~~~~~\n",
      "Original: place blue in b eight please\n",
      "Prediction: place blue i ih please\n",
      "~~~~~~~~~~~~~~~~~~~~~~~~~~~~~~~~~~~~~~~~~~~~~~~~~~~~~~~~~~~~~~~~~~~~~~~~~~~~~~~~~~~~~~~~~~~~~~~~~~~~\n",
      "450/450 [==============================] - 425s 945ms/step - loss: 28.3813 - val_loss: 22.2904 - lr: 1.1080e-05\n",
      "Epoch 53/80\n",
      "1/1 [==============================] - 0s 186ms/step loss: 28.15\n",
      "Original: set red with v one soon\n",
      "Prediction: set red wit se son\n",
      "~~~~~~~~~~~~~~~~~~~~~~~~~~~~~~~~~~~~~~~~~~~~~~~~~~~~~~~~~~~~~~~~~~~~~~~~~~~~~~~~~~~~~~~~~~~~~~~~~~~~\n",
      "Original: place blue with x two please\n",
      "Prediction: place blue with wo please\n",
      "~~~~~~~~~~~~~~~~~~~~~~~~~~~~~~~~~~~~~~~~~~~~~~~~~~~~~~~~~~~~~~~~~~~~~~~~~~~~~~~~~~~~~~~~~~~~~~~~~~~~\n",
      "450/450 [==============================] - 421s 936ms/step - loss: 28.1546 - val_loss: 22.2067 - lr: 1.0026e-05\n",
      "Epoch 54/80\n",
      "1/1 [==============================] - 0s 177ms/step loss: 28.02\n",
      "Original: place green by y seven again\n",
      "Prediction: place gre by eve again\n",
      "~~~~~~~~~~~~~~~~~~~~~~~~~~~~~~~~~~~~~~~~~~~~~~~~~~~~~~~~~~~~~~~~~~~~~~~~~~~~~~~~~~~~~~~~~~~~~~~~~~~~\n",
      "Original: lay green by s seven soon\n",
      "Prediction: lay gre by sve son\n",
      "~~~~~~~~~~~~~~~~~~~~~~~~~~~~~~~~~~~~~~~~~~~~~~~~~~~~~~~~~~~~~~~~~~~~~~~~~~~~~~~~~~~~~~~~~~~~~~~~~~~~\n",
      "450/450 [==============================] - 423s 940ms/step - loss: 28.0283 - val_loss: 22.3266 - lr: 9.0718e-06\n",
      "Epoch 55/80\n",
      "1/1 [==============================] - 0s 70ms/step- loss: 27.98\n",
      "Original: lay red in k two now\n",
      "Prediction: lay red i wo ow\n",
      "~~~~~~~~~~~~~~~~~~~~~~~~~~~~~~~~~~~~~~~~~~~~~~~~~~~~~~~~~~~~~~~~~~~~~~~~~~~~~~~~~~~~~~~~~~~~~~~~~~~~\n",
      "Original: place blue by v six now\n",
      "Prediction: place blue by in ow\n",
      "~~~~~~~~~~~~~~~~~~~~~~~~~~~~~~~~~~~~~~~~~~~~~~~~~~~~~~~~~~~~~~~~~~~~~~~~~~~~~~~~~~~~~~~~~~~~~~~~~~~~\n",
      "450/450 [==============================] - 427s 951ms/step - loss: 27.9800 - val_loss: 21.6628 - lr: 8.2085e-06\n",
      "Epoch 56/80\n",
      "1/1 [==============================] - 0s 148ms/step loss: 28.02\n",
      "Original: place green by y six please\n",
      "Prediction: place gre by i please\n",
      "~~~~~~~~~~~~~~~~~~~~~~~~~~~~~~~~~~~~~~~~~~~~~~~~~~~~~~~~~~~~~~~~~~~~~~~~~~~~~~~~~~~~~~~~~~~~~~~~~~~~\n",
      "Original: bin red in z eight please\n",
      "Prediction: bin red i ih please\n",
      "~~~~~~~~~~~~~~~~~~~~~~~~~~~~~~~~~~~~~~~~~~~~~~~~~~~~~~~~~~~~~~~~~~~~~~~~~~~~~~~~~~~~~~~~~~~~~~~~~~~~\n",
      "450/450 [==============================] - 423s 941ms/step - loss: 28.0220 - val_loss: 21.9170 - lr: 7.4273e-06\n",
      "Epoch 57/80\n",
      "1/1 [==============================] - 0s 240ms/step loss: 27.79\n",
      "Original: place blue at c two please\n",
      "Prediction: place blue at to please\n",
      "~~~~~~~~~~~~~~~~~~~~~~~~~~~~~~~~~~~~~~~~~~~~~~~~~~~~~~~~~~~~~~~~~~~~~~~~~~~~~~~~~~~~~~~~~~~~~~~~~~~~\n",
      "Original: lay red in d eight now\n",
      "Prediction: lay red n ih now\n",
      "~~~~~~~~~~~~~~~~~~~~~~~~~~~~~~~~~~~~~~~~~~~~~~~~~~~~~~~~~~~~~~~~~~~~~~~~~~~~~~~~~~~~~~~~~~~~~~~~~~~~\n",
      "450/450 [==============================] - 423s 942ms/step - loss: 27.7968 - val_loss: 22.0917 - lr: 6.7205e-06\n",
      "Epoch 58/80\n",
      "1/1 [==============================] - 0s 28ms/step- loss: 27.97\n",
      "Original: bin red at f nine soon\n",
      "Prediction: bin red t nie son\n",
      "~~~~~~~~~~~~~~~~~~~~~~~~~~~~~~~~~~~~~~~~~~~~~~~~~~~~~~~~~~~~~~~~~~~~~~~~~~~~~~~~~~~~~~~~~~~~~~~~~~~~\n",
      "Original: lay green with t one soon\n",
      "Prediction: lay gren with oe son\n",
      "~~~~~~~~~~~~~~~~~~~~~~~~~~~~~~~~~~~~~~~~~~~~~~~~~~~~~~~~~~~~~~~~~~~~~~~~~~~~~~~~~~~~~~~~~~~~~~~~~~~~\n",
      "450/450 [==============================] - 425s 946ms/step - loss: 27.9753 - val_loss: 21.4390 - lr: 6.0810e-06\n",
      "Epoch 59/80\n",
      "1/1 [==============================] - 0s 178ms/step loss: 27.64\n",
      "Original: place green at q nine again\n",
      "Prediction: place gre a nie again\n",
      "~~~~~~~~~~~~~~~~~~~~~~~~~~~~~~~~~~~~~~~~~~~~~~~~~~~~~~~~~~~~~~~~~~~~~~~~~~~~~~~~~~~~~~~~~~~~~~~~~~~~\n",
      "Original: bin white with a nine soon\n",
      "Prediction: bin whit wit ie son\n",
      "~~~~~~~~~~~~~~~~~~~~~~~~~~~~~~~~~~~~~~~~~~~~~~~~~~~~~~~~~~~~~~~~~~~~~~~~~~~~~~~~~~~~~~~~~~~~~~~~~~~~\n",
      "450/450 [==============================] - 422s 939ms/step - loss: 27.6497 - val_loss: 21.8649 - lr: 5.5023e-06\n",
      "Epoch 60/80\n",
      "1/1 [==============================] - 0s 167ms/step loss: 27.71\n",
      "Original: place white at d four please\n",
      "Prediction: place whte t for please\n",
      "~~~~~~~~~~~~~~~~~~~~~~~~~~~~~~~~~~~~~~~~~~~~~~~~~~~~~~~~~~~~~~~~~~~~~~~~~~~~~~~~~~~~~~~~~~~~~~~~~~~~\n",
      "Original: bin green at n five soon\n",
      "Prediction: bin gre n ie son\n",
      "~~~~~~~~~~~~~~~~~~~~~~~~~~~~~~~~~~~~~~~~~~~~~~~~~~~~~~~~~~~~~~~~~~~~~~~~~~~~~~~~~~~~~~~~~~~~~~~~~~~~\n",
      "450/450 [==============================] - 423s 942ms/step - loss: 27.7127 - val_loss: 22.0029 - lr: 4.9787e-06\n",
      "Epoch 61/80\n",
      "1/1 [==============================] - 0s 152ms/step loss: 27.74\n",
      "Original: set white by o eight now\n",
      "Prediction: set whit by iht now\n",
      "~~~~~~~~~~~~~~~~~~~~~~~~~~~~~~~~~~~~~~~~~~~~~~~~~~~~~~~~~~~~~~~~~~~~~~~~~~~~~~~~~~~~~~~~~~~~~~~~~~~~\n",
      "Original: bin green by u four please\n",
      "Prediction: bin gren by for please\n",
      "~~~~~~~~~~~~~~~~~~~~~~~~~~~~~~~~~~~~~~~~~~~~~~~~~~~~~~~~~~~~~~~~~~~~~~~~~~~~~~~~~~~~~~~~~~~~~~~~~~~~\n",
      "450/450 [==============================] - 422s 938ms/step - loss: 27.7458 - val_loss: 22.2178 - lr: 4.5049e-06\n",
      "Epoch 62/80\n",
      "1/1 [==============================] - 0s 81ms/step- loss: 27.62\n",
      "Original: bin green with o four please\n",
      "Prediction: bin gre wit ou please\n",
      "~~~~~~~~~~~~~~~~~~~~~~~~~~~~~~~~~~~~~~~~~~~~~~~~~~~~~~~~~~~~~~~~~~~~~~~~~~~~~~~~~~~~~~~~~~~~~~~~~~~~\n",
      "Original: bin blue in r nine again\n",
      "Prediction: bin blue in nie again\n",
      "~~~~~~~~~~~~~~~~~~~~~~~~~~~~~~~~~~~~~~~~~~~~~~~~~~~~~~~~~~~~~~~~~~~~~~~~~~~~~~~~~~~~~~~~~~~~~~~~~~~~\n",
      "450/450 [==============================] - 424s 943ms/step - loss: 27.6296 - val_loss: 21.3240 - lr: 4.0762e-06\n",
      "Epoch 63/80\n",
      "1/1 [==============================] - 0s 167ms/step loss: 27.60\n",
      "Original: bin red with g seven soon\n",
      "Prediction: bin red wit ve son\n",
      "~~~~~~~~~~~~~~~~~~~~~~~~~~~~~~~~~~~~~~~~~~~~~~~~~~~~~~~~~~~~~~~~~~~~~~~~~~~~~~~~~~~~~~~~~~~~~~~~~~~~\n",
      "Original: bin white at a zero now\n",
      "Prediction: bin whie t or now\n",
      "~~~~~~~~~~~~~~~~~~~~~~~~~~~~~~~~~~~~~~~~~~~~~~~~~~~~~~~~~~~~~~~~~~~~~~~~~~~~~~~~~~~~~~~~~~~~~~~~~~~~\n",
      "450/450 [==============================] - 423s 942ms/step - loss: 27.6068 - val_loss: 21.5730 - lr: 3.6883e-06\n",
      "Epoch 64/80\n",
      "1/1 [==============================] - 0s 161ms/step loss: 27.36\n",
      "Original: bin green with o five again\n",
      "Prediction: bin gre with fve again\n",
      "~~~~~~~~~~~~~~~~~~~~~~~~~~~~~~~~~~~~~~~~~~~~~~~~~~~~~~~~~~~~~~~~~~~~~~~~~~~~~~~~~~~~~~~~~~~~~~~~~~~~\n",
      "Original: bin blue at f four please\n",
      "Prediction: bin blue a or please\n",
      "~~~~~~~~~~~~~~~~~~~~~~~~~~~~~~~~~~~~~~~~~~~~~~~~~~~~~~~~~~~~~~~~~~~~~~~~~~~~~~~~~~~~~~~~~~~~~~~~~~~~\n",
      "450/450 [==============================] - 421s 938ms/step - loss: 27.3635 - val_loss: 21.2204 - lr: 3.3373e-06\n",
      "Epoch 65/80\n",
      "1/1 [==============================] - 0s 171ms/step loss: 27.45\n",
      "Original: lay red in q seven soon\n",
      "Prediction: lay red it ve son\n",
      "~~~~~~~~~~~~~~~~~~~~~~~~~~~~~~~~~~~~~~~~~~~~~~~~~~~~~~~~~~~~~~~~~~~~~~~~~~~~~~~~~~~~~~~~~~~~~~~~~~~~\n",
      "Original: lay green by m five again\n",
      "Prediction: lay gren by ive again\n",
      "~~~~~~~~~~~~~~~~~~~~~~~~~~~~~~~~~~~~~~~~~~~~~~~~~~~~~~~~~~~~~~~~~~~~~~~~~~~~~~~~~~~~~~~~~~~~~~~~~~~~\n",
      "450/450 [==============================] - 429s 955ms/step - loss: 27.4583 - val_loss: 21.2847 - lr: 3.0197e-06\n",
      "Epoch 66/80\n",
      "1/1 [==============================] - 0s 142ms/step loss: 27.42\n",
      "Original: place green by e three soon\n",
      "Prediction: place gre by hre son\n",
      "~~~~~~~~~~~~~~~~~~~~~~~~~~~~~~~~~~~~~~~~~~~~~~~~~~~~~~~~~~~~~~~~~~~~~~~~~~~~~~~~~~~~~~~~~~~~~~~~~~~~\n",
      "Original: set red by o two now\n",
      "Prediction: set red by o now\n",
      "~~~~~~~~~~~~~~~~~~~~~~~~~~~~~~~~~~~~~~~~~~~~~~~~~~~~~~~~~~~~~~~~~~~~~~~~~~~~~~~~~~~~~~~~~~~~~~~~~~~~\n",
      "450/450 [==============================] - 426s 949ms/step - loss: 27.4241 - val_loss: 21.2490 - lr: 2.7324e-06\n",
      "Epoch 67/80\n",
      "1/1 [==============================] - 0s 161ms/step loss: 27.48\n",
      "Original: bin blue in z three again\n",
      "Prediction: bin blue i hre again\n",
      "~~~~~~~~~~~~~~~~~~~~~~~~~~~~~~~~~~~~~~~~~~~~~~~~~~~~~~~~~~~~~~~~~~~~~~~~~~~~~~~~~~~~~~~~~~~~~~~~~~~~\n",
      "Original: bin white at m nine soon\n",
      "Prediction: bin white t ie son\n",
      "~~~~~~~~~~~~~~~~~~~~~~~~~~~~~~~~~~~~~~~~~~~~~~~~~~~~~~~~~~~~~~~~~~~~~~~~~~~~~~~~~~~~~~~~~~~~~~~~~~~~\n",
      "450/450 [==============================] - 419s 933ms/step - loss: 27.4803 - val_loss: 21.7271 - lr: 2.4723e-06\n",
      "Epoch 68/80\n",
      "1/1 [==============================] - 0s 155ms/step loss: 27.32\n",
      "Original: bin white with n eight please\n",
      "Prediction: bin whie with ih please\n",
      "~~~~~~~~~~~~~~~~~~~~~~~~~~~~~~~~~~~~~~~~~~~~~~~~~~~~~~~~~~~~~~~~~~~~~~~~~~~~~~~~~~~~~~~~~~~~~~~~~~~~\n",
      "Original: bin white with n nine again\n",
      "Prediction: bin whie wit nie again\n",
      "~~~~~~~~~~~~~~~~~~~~~~~~~~~~~~~~~~~~~~~~~~~~~~~~~~~~~~~~~~~~~~~~~~~~~~~~~~~~~~~~~~~~~~~~~~~~~~~~~~~~\n",
      "450/450 [==============================] - 422s 940ms/step - loss: 27.3295 - val_loss: 21.6006 - lr: 2.2371e-06\n",
      "Epoch 69/80\n",
      "1/1 [==============================] - 0s 159ms/step loss: 27.21\n",
      "Original: lay green in f zero now\n",
      "Prediction: lay grenin or now\n",
      "~~~~~~~~~~~~~~~~~~~~~~~~~~~~~~~~~~~~~~~~~~~~~~~~~~~~~~~~~~~~~~~~~~~~~~~~~~~~~~~~~~~~~~~~~~~~~~~~~~~~\n",
      "Original: set red in n five soon\n",
      "Prediction: set red n nie son\n",
      "~~~~~~~~~~~~~~~~~~~~~~~~~~~~~~~~~~~~~~~~~~~~~~~~~~~~~~~~~~~~~~~~~~~~~~~~~~~~~~~~~~~~~~~~~~~~~~~~~~~~\n",
      "450/450 [==============================] - 420s 934ms/step - loss: 27.2152 - val_loss: 21.7410 - lr: 2.0242e-06\n",
      "Epoch 70/80\n",
      "1/1 [==============================] - 0s 154ms/step loss: 27.34\n",
      "Original: place blue with j five again\n",
      "Prediction: plac blue with fve again\n",
      "~~~~~~~~~~~~~~~~~~~~~~~~~~~~~~~~~~~~~~~~~~~~~~~~~~~~~~~~~~~~~~~~~~~~~~~~~~~~~~~~~~~~~~~~~~~~~~~~~~~~\n",
      "Original: bin red by t two please\n",
      "Prediction: bin red by to please\n",
      "~~~~~~~~~~~~~~~~~~~~~~~~~~~~~~~~~~~~~~~~~~~~~~~~~~~~~~~~~~~~~~~~~~~~~~~~~~~~~~~~~~~~~~~~~~~~~~~~~~~~\n",
      "450/450 [==============================] - 424s 943ms/step - loss: 27.3426 - val_loss: 21.4716 - lr: 1.8316e-06\n",
      "Epoch 71/80\n",
      "1/1 [==============================] - 0s 164ms/step loss: 27.48\n",
      "Original: place red with q five again\n",
      "Prediction: place red with fve again\n",
      "~~~~~~~~~~~~~~~~~~~~~~~~~~~~~~~~~~~~~~~~~~~~~~~~~~~~~~~~~~~~~~~~~~~~~~~~~~~~~~~~~~~~~~~~~~~~~~~~~~~~\n",
      "Original: place blue in b nine again\n",
      "Prediction: place blue in nin again\n",
      "~~~~~~~~~~~~~~~~~~~~~~~~~~~~~~~~~~~~~~~~~~~~~~~~~~~~~~~~~~~~~~~~~~~~~~~~~~~~~~~~~~~~~~~~~~~~~~~~~~~~\n",
      "450/450 [==============================] - 425s 946ms/step - loss: 27.4863 - val_loss: 21.3713 - lr: 1.6573e-06\n",
      "Epoch 72/80\n",
      "1/1 [==============================] - 0s 177ms/step loss: 27.42\n",
      "Original: set red by u nine again\n",
      "Prediction: set red by ne again\n",
      "~~~~~~~~~~~~~~~~~~~~~~~~~~~~~~~~~~~~~~~~~~~~~~~~~~~~~~~~~~~~~~~~~~~~~~~~~~~~~~~~~~~~~~~~~~~~~~~~~~~~\n",
      "Original: lay blue at d nine again\n",
      "Prediction: lay blue a nie again\n",
      "~~~~~~~~~~~~~~~~~~~~~~~~~~~~~~~~~~~~~~~~~~~~~~~~~~~~~~~~~~~~~~~~~~~~~~~~~~~~~~~~~~~~~~~~~~~~~~~~~~~~\n",
      "450/450 [==============================] - 424s 943ms/step - loss: 27.4247 - val_loss: 21.4811 - lr: 1.4996e-06\n",
      "Epoch 73/80\n",
      "1/1 [==============================] - 0s 157ms/step loss: 27.31\n",
      "Original: bin green in n one soon\n",
      "Prediction: bin grenin ne son\n",
      "~~~~~~~~~~~~~~~~~~~~~~~~~~~~~~~~~~~~~~~~~~~~~~~~~~~~~~~~~~~~~~~~~~~~~~~~~~~~~~~~~~~~~~~~~~~~~~~~~~~~\n",
      "Original: place white at q two please\n",
      "Prediction: place whit t to please\n",
      "~~~~~~~~~~~~~~~~~~~~~~~~~~~~~~~~~~~~~~~~~~~~~~~~~~~~~~~~~~~~~~~~~~~~~~~~~~~~~~~~~~~~~~~~~~~~~~~~~~~~\n",
      "450/450 [==============================] - 422s 939ms/step - loss: 27.3199 - val_loss: 21.4691 - lr: 1.3569e-06\n",
      "Epoch 74/80\n",
      "1/1 [==============================] - 0s 121ms/step loss: 27.34\n",
      "Original: bin green at n six please\n",
      "Prediction: bin gre in ix please\n",
      "~~~~~~~~~~~~~~~~~~~~~~~~~~~~~~~~~~~~~~~~~~~~~~~~~~~~~~~~~~~~~~~~~~~~~~~~~~~~~~~~~~~~~~~~~~~~~~~~~~~~\n",
      "Original: set green in c zero please\n",
      "Prediction: set gren in zr please\n",
      "~~~~~~~~~~~~~~~~~~~~~~~~~~~~~~~~~~~~~~~~~~~~~~~~~~~~~~~~~~~~~~~~~~~~~~~~~~~~~~~~~~~~~~~~~~~~~~~~~~~~\n",
      "450/450 [==============================] - 424s 943ms/step - loss: 27.3494 - val_loss: 21.3086 - lr: 1.2277e-06\n",
      "Epoch 75/80\n",
      "1/1 [==============================] - 0s 91ms/step- loss: 27.40\n",
      "Original: lay red at k six now\n",
      "Prediction: lay red a i now\n",
      "~~~~~~~~~~~~~~~~~~~~~~~~~~~~~~~~~~~~~~~~~~~~~~~~~~~~~~~~~~~~~~~~~~~~~~~~~~~~~~~~~~~~~~~~~~~~~~~~~~~~\n",
      "Original: place blue by v seven soon\n",
      "Prediction: place blue by se son\n",
      "~~~~~~~~~~~~~~~~~~~~~~~~~~~~~~~~~~~~~~~~~~~~~~~~~~~~~~~~~~~~~~~~~~~~~~~~~~~~~~~~~~~~~~~~~~~~~~~~~~~~\n",
      "450/450 [==============================] - 431s 960ms/step - loss: 27.4048 - val_loss: 21.4260 - lr: 1.1109e-06\n",
      "Epoch 76/80\n",
      "1/1 [==============================] - 0s 161ms/step loss: 27.34\n",
      "Original: set blue at t nine again\n",
      "Prediction: set blue at nie again\n",
      "~~~~~~~~~~~~~~~~~~~~~~~~~~~~~~~~~~~~~~~~~~~~~~~~~~~~~~~~~~~~~~~~~~~~~~~~~~~~~~~~~~~~~~~~~~~~~~~~~~~~\n",
      "Original: bin red by m eight please\n",
      "Prediction: bin red by ih please\n",
      "~~~~~~~~~~~~~~~~~~~~~~~~~~~~~~~~~~~~~~~~~~~~~~~~~~~~~~~~~~~~~~~~~~~~~~~~~~~~~~~~~~~~~~~~~~~~~~~~~~~~\n",
      "450/450 [==============================] - 463s 1s/step - loss: 27.3427 - val_loss: 21.4995 - lr: 1.0052e-06\n",
      "Epoch 77/80\n",
      "1/1 [==============================] - 0s 144ms/step loss: 27.45\n",
      "Original: set blue at t eight please\n",
      "Prediction: set blue t iht please\n",
      "~~~~~~~~~~~~~~~~~~~~~~~~~~~~~~~~~~~~~~~~~~~~~~~~~~~~~~~~~~~~~~~~~~~~~~~~~~~~~~~~~~~~~~~~~~~~~~~~~~~~\n",
      "Original: set red with v two please\n",
      "Prediction: set red with io please\n",
      "~~~~~~~~~~~~~~~~~~~~~~~~~~~~~~~~~~~~~~~~~~~~~~~~~~~~~~~~~~~~~~~~~~~~~~~~~~~~~~~~~~~~~~~~~~~~~~~~~~~~\n",
      "450/450 [==============================] - 448s 996ms/step - loss: 27.4528 - val_loss: 21.4386 - lr: 9.0953e-07\n",
      "Epoch 78/80\n",
      "1/1 [==============================] - 0s 286ms/step loss: 27.36\n",
      "Original: place green at q nine again\n",
      "Prediction: place gre a nin again\n",
      "~~~~~~~~~~~~~~~~~~~~~~~~~~~~~~~~~~~~~~~~~~~~~~~~~~~~~~~~~~~~~~~~~~~~~~~~~~~~~~~~~~~~~~~~~~~~~~~~~~~~\n",
      "Original: set green by p six please\n",
      "Prediction: set gre by si please\n",
      "~~~~~~~~~~~~~~~~~~~~~~~~~~~~~~~~~~~~~~~~~~~~~~~~~~~~~~~~~~~~~~~~~~~~~~~~~~~~~~~~~~~~~~~~~~~~~~~~~~~~\n",
      "450/450 [==============================] - 442s 983ms/step - loss: 27.3632 - val_loss: 21.7241 - lr: 8.2297e-07\n",
      "Epoch 79/80\n",
      "1/1 [==============================] - 0s 305ms/step loss: 27.18\n",
      "Original: set green by x one again\n",
      "Prediction: set gre by ne again\n",
      "~~~~~~~~~~~~~~~~~~~~~~~~~~~~~~~~~~~~~~~~~~~~~~~~~~~~~~~~~~~~~~~~~~~~~~~~~~~~~~~~~~~~~~~~~~~~~~~~~~~~\n",
      "Original: place white at j eight please\n",
      "Prediction: place white t ih please\n",
      "~~~~~~~~~~~~~~~~~~~~~~~~~~~~~~~~~~~~~~~~~~~~~~~~~~~~~~~~~~~~~~~~~~~~~~~~~~~~~~~~~~~~~~~~~~~~~~~~~~~~\n",
      "450/450 [==============================] - 453s 1s/step - loss: 27.1840 - val_loss: 21.0897 - lr: 7.4466e-07\n",
      "Epoch 80/80\n",
      "1/1 [==============================] - 0s 162ms/step loss: 27.31\n",
      "Original: bin green in g six now\n",
      "Prediction: bin grenin in now\n",
      "~~~~~~~~~~~~~~~~~~~~~~~~~~~~~~~~~~~~~~~~~~~~~~~~~~~~~~~~~~~~~~~~~~~~~~~~~~~~~~~~~~~~~~~~~~~~~~~~~~~~\n",
      "Original: set green by c nine again\n",
      "Prediction: set gre by nin again\n",
      "~~~~~~~~~~~~~~~~~~~~~~~~~~~~~~~~~~~~~~~~~~~~~~~~~~~~~~~~~~~~~~~~~~~~~~~~~~~~~~~~~~~~~~~~~~~~~~~~~~~~\n",
      "450/450 [==============================] - 461s 1s/step - loss: 27.3171 - val_loss: 21.2832 - lr: 6.7379e-07\n"
     ]
    },
    {
     "data": {
      "text/plain": [
       "<keras.callbacks.History at 0x2927d66f3d0>"
      ]
     },
     "execution_count": 60,
     "metadata": {},
     "output_type": "execute_result"
    }
   ],
   "source": [
    "# Please skip this cell if you are not training the model\n",
    "model.fit(train, validation_data=test, epochs=100, callbacks=[checkpoint_callback, schedule_callback, example_callback])\n",
    "model.save('models/2dcheckpoint.weights.h5')"
   ]
  },
  {
   "cell_type": "markdown",
   "id": "fa8ee94b-89f7-4733-8a0c-a86f86ff590a",
   "metadata": {
    "tags": []
   },
   "source": [
    "# 5. Make a Prediction "
   ]
  },
  {
   "cell_type": "code",
   "execution_count": null,
   "id": "247f664d-3c87-4e96-946e-930dad0e1c2c",
   "metadata": {
    "tags": []
   },
   "outputs": [],
   "source": [
    "model.load_weights('models/2dcheckpoint.weights.h5')"
   ]
  },
  {
   "cell_type": "code",
   "execution_count": null,
   "id": "a36bf821",
   "metadata": {},
   "outputs": [],
   "source": [
    "model.compile(optimizer=Adam(learning_rate=0.0001), loss=CTCLoss)"
   ]
  },
  {
   "cell_type": "code",
   "execution_count": 61,
   "id": "7f8d689f-b7bb-443c-9b88-e40c1d800828",
   "metadata": {
    "tags": []
   },
   "outputs": [],
   "source": [
    "test_data = test.as_numpy_iterator()"
   ]
  },
  {
   "cell_type": "code",
   "execution_count": 62,
   "id": "38546dc2-bee9-4837-864b-8a884df40ad7",
   "metadata": {
    "tags": []
   },
   "outputs": [],
   "source": [
    "sample = test_data.next()"
   ]
  },
  {
   "cell_type": "code",
   "execution_count": 63,
   "id": "a43621f0-229d-4c0d-9554-9c3a3da9c61a",
   "metadata": {
    "tags": []
   },
   "outputs": [
    {
     "name": "stdout",
     "output_type": "stream",
     "text": [
      "1/1 [==============================] - 0s 100ms/step\n"
     ]
    }
   ],
   "source": [
    "yhat = model.predict(sample[0])"
   ]
  },
  {
   "cell_type": "code",
   "execution_count": 64,
   "id": "ea462999-f87e-4a7e-a057-5be7b6d8f7d5",
   "metadata": {
    "tags": []
   },
   "outputs": [
    {
     "name": "stdout",
     "output_type": "stream",
     "text": [
      "~~~~~~~~~~~~~~~~~~~~~~~~~~~~~~~~~~~~~~~~~~~~~~~~~~~~~~~~~~~~~~~~~~~~~~~~~~~~~~~~~~~~~~~~~~~~~~~~~~~~ REAL TEXT\n"
     ]
    },
    {
     "data": {
      "text/plain": [
       "[<tf.Tensor: shape=(), dtype=string, numpy=b'bin white by a six please'>,\n",
       " <tf.Tensor: shape=(), dtype=string, numpy=b'set blue in a two please'>]"
      ]
     },
     "execution_count": 64,
     "metadata": {},
     "output_type": "execute_result"
    }
   ],
   "source": [
    "print('~'*100, 'REAL TEXT')\n",
    "[tf.strings.reduce_join([num_to_char(word) for word in sentence]) for sentence in sample[1]]"
   ]
  },
  {
   "cell_type": "code",
   "execution_count": 65,
   "id": "82bd4c10-dd6e-411e-834b-2a3b43fd12c5",
   "metadata": {
    "tags": []
   },
   "outputs": [],
   "source": [
    "decoded = tf.keras.backend.ctc_decode(yhat, input_length=[75,75], greedy=True)[0][0].numpy()"
   ]
  },
  {
   "cell_type": "code",
   "execution_count": 66,
   "id": "5d68ac46-c90b-4eab-a709-f19aee569ff5",
   "metadata": {
    "tags": []
   },
   "outputs": [
    {
     "name": "stdout",
     "output_type": "stream",
     "text": [
      "~~~~~~~~~~~~~~~~~~~~~~~~~~~~~~~~~~~~~~~~~~~~~~~~~~~~~~~~~~~~~~~~~~~~~~~~~~~~~~~~~~~~~~~~~~~~~~~~~~~~ PREDICTIONS\n"
     ]
    },
    {
     "data": {
      "text/plain": [
       "[<tf.Tensor: shape=(), dtype=string, numpy=b'bin white by ix plase'>,\n",
       " <tf.Tensor: shape=(), dtype=string, numpy=b'set blue i o plase'>]"
      ]
     },
     "execution_count": 66,
     "metadata": {},
     "output_type": "execute_result"
    }
   ],
   "source": [
    "print('~'*100, 'PREDICTIONS')\n",
    "[tf.strings.reduce_join([num_to_char(word) for word in sentence]) for sentence in decoded]"
   ]
  },
  {
   "cell_type": "markdown",
   "id": "64622f98-e99b-4fed-a2cc-f0da82eb5431",
   "metadata": {},
   "source": [
    "# Test on a Video"
   ]
  },
  {
   "cell_type": "code",
   "execution_count": 67,
   "id": "a8b0c4d0-2031-4331-b91d-d87b1ae6f6e2",
   "metadata": {},
   "outputs": [],
   "source": [
    "sample = load_data(tf.convert_to_tensor('.\\\\data\\\\s1\\\\bras9a.mpg'))"
   ]
  },
  {
   "cell_type": "code",
   "execution_count": 68,
   "id": "0cca60e4-47a9-4683-8a75-48f4684f723d",
   "metadata": {},
   "outputs": [
    {
     "name": "stdout",
     "output_type": "stream",
     "text": [
      "~~~~~~~~~~~~~~~~~~~~~~~~~~~~~~~~~~~~~~~~~~~~~~~~~~~~~~~~~~~~~~~~~~~~~~~~~~~~~~~~~~~~~~~~~~~~~~~~~~~~ REAL TEXT\n"
     ]
    },
    {
     "data": {
      "text/plain": [
       "[<tf.Tensor: shape=(), dtype=string, numpy=b'bin red at s nine again'>]"
      ]
     },
     "execution_count": 68,
     "metadata": {},
     "output_type": "execute_result"
    }
   ],
   "source": [
    "print('~'*100, 'REAL TEXT')\n",
    "[tf.strings.reduce_join([num_to_char(word) for word in sentence]) for sentence in [sample[1]]]"
   ]
  },
  {
   "cell_type": "code",
   "execution_count": 69,
   "id": "8cc5037c-1e32-435c-b0cc-01e1fb3b863c",
   "metadata": {},
   "outputs": [
    {
     "name": "stdout",
     "output_type": "stream",
     "text": [
      "1/1 [==============================] - 0s 65ms/step\n"
     ]
    }
   ],
   "source": [
    "yhat = model.predict(tf.expand_dims(sample[0], axis=0))"
   ]
  },
  {
   "cell_type": "code",
   "execution_count": 70,
   "id": "22c4f77d-715d-409f-bc5e-3ebe48704e8f",
   "metadata": {},
   "outputs": [],
   "source": [
    "decoded = tf.keras.backend.ctc_decode(yhat, input_length=[75], greedy=True)[0][0].numpy()"
   ]
  },
  {
   "cell_type": "code",
   "execution_count": 71,
   "id": "e4d12ecc-b634-499e-a4bc-db9f010835fb",
   "metadata": {},
   "outputs": [
    {
     "name": "stdout",
     "output_type": "stream",
     "text": [
      "~~~~~~~~~~~~~~~~~~~~~~~~~~~~~~~~~~~~~~~~~~~~~~~~~~~~~~~~~~~~~~~~~~~~~~~~~~~~~~~~~~~~~~~~~~~~~~~~~~~~ PREDICTIONS\n"
     ]
    },
    {
     "data": {
      "text/plain": [
       "[<tf.Tensor: shape=(), dtype=string, numpy=b'bin red a nie again'>]"
      ]
     },
     "execution_count": 71,
     "metadata": {},
     "output_type": "execute_result"
    }
   ],
   "source": [
    "print('~'*100, 'PREDICTIONS')\n",
    "[tf.strings.reduce_join([num_to_char(word) for word in sentence]) for sentence in decoded]"
   ]
  }
 ],
 "metadata": {
  "kernelspec": {
   "display_name": "3.9.13",
   "language": "python",
   "name": "python3"
  },
  "language_info": {
   "codemirror_mode": {
    "name": "ipython",
    "version": 3
   },
   "file_extension": ".py",
   "mimetype": "text/x-python",
   "name": "python",
   "nbconvert_exporter": "python",
   "pygments_lexer": "ipython3",
   "version": "3.9.13"
  }
 },
 "nbformat": 4,
 "nbformat_minor": 5
}
