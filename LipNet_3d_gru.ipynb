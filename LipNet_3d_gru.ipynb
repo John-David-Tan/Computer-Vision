{
 "cells": [
  {
   "cell_type": "markdown",
   "id": "a3573a47-3689-4668-b62f-5c8451b2b4e9",
   "metadata": {
    "tags": []
   },
   "source": [
    "# 0. Install and Import Dependencies"
   ]
  },
  {
   "cell_type": "code",
   "execution_count": 2,
   "id": "02f907ea-f669-46c7-adcf-7f257e663448",
   "metadata": {
    "tags": []
   },
   "outputs": [],
   "source": [
    "!pip install opencv-python matplotlib imageio tensorflow"
   ]
  },
  {
   "cell_type": "code",
   "execution_count": 1,
   "id": "b24af50c-20b8-409d-ad78-30a933fdd669",
   "metadata": {
    "tags": []
   },
   "outputs": [],
   "source": [
    "import os\n",
    "import cv2\n",
    "import tensorflow as tf\n",
    "import numpy as np\n",
    "from typing import List\n",
    "from matplotlib import pyplot as plt\n",
    "import imageio"
   ]
  },
  {
   "cell_type": "code",
   "execution_count": 2,
   "id": "1e3db0b0-e559-4ad6-91fd-e7414b7d75e6",
   "metadata": {},
   "outputs": [
    {
     "data": {
      "text/plain": [
       "[PhysicalDevice(name='/physical_device:GPU:0', device_type='GPU')]"
      ]
     },
     "execution_count": 2,
     "metadata": {},
     "output_type": "execute_result"
    }
   ],
   "source": [
    "tf.config.list_physical_devices('GPU')"
   ]
  },
  {
   "cell_type": "code",
   "execution_count": 3,
   "id": "378d045a-3003-4f93-b7d2-a25a97774a68",
   "metadata": {
    "tags": []
   },
   "outputs": [],
   "source": [
    "physical_devices = tf.config.list_physical_devices('GPU')\n",
    "try:\n",
    "    tf.config.experimental.set_memory_growth(physical_devices[0], True)\n",
    "except:\n",
    "    pass"
   ]
  },
  {
   "cell_type": "markdown",
   "id": "7a19e88e-c7b9-45c1-ae1e-f2109329c71b",
   "metadata": {
    "tags": []
   },
   "source": [
    "# 1. Build Data Loading Functions"
   ]
  },
  {
   "cell_type": "code",
   "execution_count": 4,
   "id": "8fb99c90-e05a-437f-839d-6e772f8c1dd5",
   "metadata": {
    "tags": []
   },
   "outputs": [],
   "source": [
    "import gdown"
   ]
  },
  {
   "cell_type": "code",
   "execution_count": 4,
   "id": "8548cc59-6dfc-4acc-abc3-3e65212db02e",
   "metadata": {
    "tags": []
   },
   "outputs": [],
   "source": [
    "def load_video(path:str) -> List[float]: \n",
    "\n",
    "    cap = cv2.VideoCapture(path)\n",
    "    frames = []\n",
    "    for _ in range(int(cap.get(cv2.CAP_PROP_FRAME_COUNT))): \n",
    "        ret, frame = cap.read()\n",
    "        frame = tf.image.rgb_to_grayscale(frame)\n",
    "        frames.append(frame[190:236,80:220,:])\n",
    "    cap.release()\n",
    "    \n",
    "    mean = tf.math.reduce_mean(frames)\n",
    "    std = tf.math.reduce_std(tf.cast(frames, tf.float32))\n",
    "    return tf.cast((frames - mean), tf.float32) / std"
   ]
  },
  {
   "cell_type": "code",
   "execution_count": 5,
   "id": "ec735e0b-ec98-4eb0-8f49-c35527d6670a",
   "metadata": {
    "tags": []
   },
   "outputs": [],
   "source": [
    "vocab = [x for x in \"abcdefghijklmnopqrstuvwxyz'?!123456789 \"]"
   ]
  },
  {
   "cell_type": "code",
   "execution_count": 6,
   "id": "be04e972-d7a5-4a72-82d8-a6bdde1f3ce6",
   "metadata": {
    "tags": []
   },
   "outputs": [
    {
     "name": "stdout",
     "output_type": "stream",
     "text": [
      "The vocabulary is: ['', 'a', 'b', 'c', 'd', 'e', 'f', 'g', 'h', 'i', 'j', 'k', 'l', 'm', 'n', 'o', 'p', 'q', 'r', 's', 't', 'u', 'v', 'w', 'x', 'y', 'z', \"'\", '?', '!', '1', '2', '3', '4', '5', '6', '7', '8', '9', ' '] (size =40)\n"
     ]
    }
   ],
   "source": [
    "char_to_num = tf.keras.layers.StringLookup(vocabulary=vocab, oov_token=\"\")\n",
    "num_to_char = tf.keras.layers.StringLookup(\n",
    "    vocabulary=char_to_num.get_vocabulary(), oov_token=\"\", invert=True\n",
    ")\n",
    "\n",
    "print(\n",
    "    f\"The vocabulary is: {char_to_num.get_vocabulary()} \"\n",
    "    f\"(size ={char_to_num.vocabulary_size()})\"\n",
    ")"
   ]
  },
  {
   "cell_type": "code",
   "execution_count": 7,
   "id": "559f7420-6802-45fa-9ca0-b1ff209b461c",
   "metadata": {
    "tags": []
   },
   "outputs": [
    {
     "data": {
      "text/plain": [
       "['',\n",
       " 'a',\n",
       " 'b',\n",
       " 'c',\n",
       " 'd',\n",
       " 'e',\n",
       " 'f',\n",
       " 'g',\n",
       " 'h',\n",
       " 'i',\n",
       " 'j',\n",
       " 'k',\n",
       " 'l',\n",
       " 'm',\n",
       " 'n',\n",
       " 'o',\n",
       " 'p',\n",
       " 'q',\n",
       " 'r',\n",
       " 's',\n",
       " 't',\n",
       " 'u',\n",
       " 'v',\n",
       " 'w',\n",
       " 'x',\n",
       " 'y',\n",
       " 'z',\n",
       " \"'\",\n",
       " '?',\n",
       " '!',\n",
       " '1',\n",
       " '2',\n",
       " '3',\n",
       " '4',\n",
       " '5',\n",
       " '6',\n",
       " '7',\n",
       " '8',\n",
       " '9',\n",
       " ' ']"
      ]
     },
     "execution_count": 7,
     "metadata": {},
     "output_type": "execute_result"
    }
   ],
   "source": [
    "char_to_num.get_vocabulary()"
   ]
  },
  {
   "cell_type": "code",
   "execution_count": 8,
   "id": "797ff78b-b48f-4e14-bb62-8cd0ebf9501a",
   "metadata": {
    "tags": []
   },
   "outputs": [
    {
     "data": {
      "text/plain": [
       "<tf.Tensor: shape=(4,), dtype=int64, numpy=array([14,  9,  3, 11], dtype=int64)>"
      ]
     },
     "execution_count": 8,
     "metadata": {},
     "output_type": "execute_result"
    }
   ],
   "source": [
    "char_to_num(['n','i','c','k'])"
   ]
  },
  {
   "cell_type": "code",
   "execution_count": 9,
   "id": "8cd7f4f4-ae77-4509-a4f4-c723787ebad1",
   "metadata": {},
   "outputs": [
    {
     "data": {
      "text/plain": [
       "<tf.Tensor: shape=(4,), dtype=string, numpy=array([b'n', b'i', b'c', b'k'], dtype=object)>"
      ]
     },
     "execution_count": 9,
     "metadata": {},
     "output_type": "execute_result"
    }
   ],
   "source": [
    "num_to_char([14,  9,  3, 11])"
   ]
  },
  {
   "cell_type": "code",
   "execution_count": 10,
   "id": "9491bab5-6a3c-4f79-879a-8f9fbe73ae2e",
   "metadata": {
    "tags": []
   },
   "outputs": [],
   "source": [
    "def load_alignments(path:str) -> List[str]: \n",
    "    with open(path, 'r') as f: \n",
    "        lines = f.readlines() \n",
    "    tokens = []\n",
    "    for line in lines:\n",
    "        line = line.split()\n",
    "        if line[2] != 'sil': \n",
    "            tokens = [*tokens,' ',line[2]]\n",
    "    return char_to_num(tf.reshape(tf.strings.unicode_split(tokens, input_encoding='UTF-8'), (-1)))[1:]"
   ]
  },
  {
   "cell_type": "code",
   "execution_count": 11,
   "id": "dd01ca9f-77fb-4643-a2aa-47dd82c5d66b",
   "metadata": {
    "tags": []
   },
   "outputs": [],
   "source": [
    "def load_data(path: str): \n",
    "    path = bytes.decode(path.numpy())\n",
    "    #file_name = path.split('/')[-1].split('.')[0]\n",
    "    # File name splitting for windows\n",
    "    file_name = path.split('\\\\')[-1].split('.')[0]\n",
    "    video_path = os.path.join('data','s1',f'{file_name}.mpg')\n",
    "    alignment_path = os.path.join('data','alignments','s1',f'{file_name}.align')\n",
    "    frames = load_video(video_path) \n",
    "    alignments = load_alignments(alignment_path)\n",
    "    \n",
    "    return frames, alignments"
   ]
  },
  {
   "cell_type": "code",
   "execution_count": 12,
   "id": "8cb7cc58-31ae-4904-a805-1177a82717d2",
   "metadata": {
    "tags": []
   },
   "outputs": [],
   "source": [
    "test_path = '.\\\\data\\\\s1\\\\bbal6n.mpg'"
   ]
  },
  {
   "cell_type": "code",
   "execution_count": 13,
   "id": "76aa964f-0c84-490d-897a-d00e3966e2c9",
   "metadata": {},
   "outputs": [
    {
     "data": {
      "text/plain": [
       "'bbal6n'"
      ]
     },
     "execution_count": 13,
     "metadata": {},
     "output_type": "execute_result"
    }
   ],
   "source": [
    "tf.convert_to_tensor(test_path).numpy().decode('utf-8').split('\\\\')[-1].split('.')[0]"
   ]
  },
  {
   "cell_type": "code",
   "execution_count": 14,
   "id": "eb602c71-8560-4f9e-b26b-08202febb937",
   "metadata": {
    "scrolled": true,
    "tags": []
   },
   "outputs": [],
   "source": [
    "frames, alignments = load_data(tf.convert_to_tensor(test_path))"
   ]
  },
  {
   "cell_type": "code",
   "execution_count": 15,
   "id": "0e3184a1-6b02-4b4f-84a8-a0a65f951ea2",
   "metadata": {},
   "outputs": [
    {
     "data": {
      "text/plain": [
       "<matplotlib.image.AxesImage at 0x14088471850>"
      ]
     },
     "execution_count": 15,
     "metadata": {},
     "output_type": "execute_result"
    },
    {
     "data": {
      "image/png": "[encoded data removed]",
      "text/plain": [
       "<Figure size 640x480 with 1 Axes>"
      ]
     },
     "metadata": {},
     "output_type": "display_data"
    }
   ],
   "source": [
    "plt.imshow(frames[40])"
   ]
  },
  {
   "cell_type": "code",
   "execution_count": 16,
   "id": "d7ec0833-d54b-4073-84cf-92d011c60ec1",
   "metadata": {},
   "outputs": [
    {
     "data": {
      "text/plain": [
       "<tf.Tensor: shape=(21,), dtype=int64, numpy=\n",
       "array([ 2,  9, 14, 39,  2, 12, 21,  5, 39,  1, 20, 39, 12, 39, 19,  9, 24,\n",
       "       39, 14, 15, 23], dtype=int64)>"
      ]
     },
     "execution_count": 16,
     "metadata": {},
     "output_type": "execute_result"
    }
   ],
   "source": [
    "alignments"
   ]
  },
  {
   "cell_type": "code",
   "execution_count": 17,
   "id": "fe1ad370-b287-4b46-85a2-7c45b0bd9b10",
   "metadata": {},
   "outputs": [
    {
     "data": {
      "text/plain": [
       "<tf.Tensor: shape=(), dtype=string, numpy=b'bin blue at l six now'>"
      ]
     },
     "execution_count": 17,
     "metadata": {},
     "output_type": "execute_result"
    }
   ],
   "source": [
    "tf.strings.reduce_join([bytes.decode(x) for x in num_to_char(alignments.numpy()).numpy()])"
   ]
  },
  {
   "cell_type": "code",
   "execution_count": 18,
   "id": "6871031a-b0ba-4c76-a852-f6329b0f2606",
   "metadata": {
    "tags": []
   },
   "outputs": [],
   "source": [
    "def mappable_function(path:str) ->List[str]:\n",
    "    result = tf.py_function(load_data, [path], (tf.float32, tf.int64))\n",
    "    return result"
   ]
  },
  {
   "cell_type": "markdown",
   "id": "c40a7eb4-0c3e-4eab-9291-5611cb68ce08",
   "metadata": {
    "tags": []
   },
   "source": [
    "# 2. Create Data Pipeline"
   ]
  },
  {
   "cell_type": "code",
   "execution_count": 19,
   "id": "7686355d-45aa-4c85-ad9c-053e6a9b4d81",
   "metadata": {
    "tags": []
   },
   "outputs": [],
   "source": [
    "from matplotlib import pyplot as plt"
   ]
  },
  {
   "cell_type": "code",
   "execution_count": 20,
   "id": "f066fea2-91b1-42ed-a67d-00566a1a53ff",
   "metadata": {
    "tags": []
   },
   "outputs": [],
   "source": [
    "data = tf.data.Dataset.list_files('./data/s1/*.mpg')\n",
    "data = data.shuffle(500, reshuffle_each_iteration=False)\n",
    "data = data.map(mappable_function)\n",
    "data = data.padded_batch(2, padded_shapes=([75,None,None,None],[40]))\n",
    "data = data.prefetch(tf.data.AUTOTUNE)\n",
    "# Added for split \n",
    "train = data.take(450)\n",
    "test = data.skip(450)"
   ]
  },
  {
   "cell_type": "code",
   "execution_count": 21,
   "id": "6b1365bd-7742-41d1-95d4-247021751c3a",
   "metadata": {},
   "outputs": [
    {
     "data": {
      "text/plain": [
       "50"
      ]
     },
     "execution_count": 21,
     "metadata": {},
     "output_type": "execute_result"
    }
   ],
   "source": [
    "len(test)"
   ]
  },
  {
   "cell_type": "code",
   "execution_count": 22,
   "id": "5281bde8-fdc8-4da1-bd55-5a7929a9e80c",
   "metadata": {},
   "outputs": [],
   "source": [
    "frames, alignments = data.as_numpy_iterator().next()"
   ]
  },
  {
   "cell_type": "code",
   "execution_count": 23,
   "id": "cbebe683-6afd-47fd-bba4-c83b4b13bb32",
   "metadata": {},
   "outputs": [
    {
     "data": {
      "text/plain": [
       "2"
      ]
     },
     "execution_count": 23,
     "metadata": {},
     "output_type": "execute_result"
    }
   ],
   "source": [
    "len(frames)"
   ]
  },
  {
   "cell_type": "code",
   "execution_count": 24,
   "id": "5cf2d676-93a9-434c-b3c7-bdcc2577b2e7",
   "metadata": {
    "tags": []
   },
   "outputs": [],
   "source": [
    "sample = data.as_numpy_iterator()"
   ]
  },
  {
   "cell_type": "code",
   "execution_count": 25,
   "id": "efa6cd46-7079-46c0-b45b-832f339f6cb0",
   "metadata": {
    "scrolled": true,
    "tags": []
   },
   "outputs": [
    {
     "data": {
      "text/plain": [
       "array([[[[[1.1987919 ],\n",
       "          [1.3921453 ],\n",
       "          [0.8894262 ],\n",
       "          ...,\n",
       "          [0.38670704],\n",
       "          [0.38670704],\n",
       "          [0.38670704]],\n",
       "\n",
       "         [[1.430816  ],\n",
       "          [1.314804  ],\n",
       "          [0.8120848 ],\n",
       "          ...,\n",
       "          [0.38670704],\n",
       "          [0.38670704],\n",
       "          [0.38670704]],\n",
       "\n",
       "         [[1.430816  ],\n",
       "          [1.5081575 ],\n",
       "          [1.430816  ],\n",
       "          ...,\n",
       "          [0.42537773],\n",
       "          [0.38670704],\n",
       "          [0.38670704]],\n",
       "\n",
       "         ...,\n",
       "\n",
       "         [[1.1214504 ],\n",
       "          [1.1214504 ],\n",
       "          [1.1214504 ],\n",
       "          ...,\n",
       "          [0.07734141],\n",
       "          [0.07734141],\n",
       "          [0.07734141]],\n",
       "\n",
       "         [[1.1214504 ],\n",
       "          [1.1214504 ],\n",
       "          [1.1214504 ],\n",
       "          ...,\n",
       "          [0.07734141],\n",
       "          [0.07734141],\n",
       "          [0.07734141]],\n",
       "\n",
       "         [[1.1214504 ],\n",
       "          [1.1214504 ],\n",
       "          [1.1214504 ],\n",
       "          ...,\n",
       "          [0.07734141],\n",
       "          [0.07734141],\n",
       "          [0.0386707 ]]],\n",
       "\n",
       "\n",
       "        [[[1.430816  ],\n",
       "          [1.430816  ],\n",
       "          [0.9280969 ],\n",
       "          ...,\n",
       "          [0.38670704],\n",
       "          [0.34803632],\n",
       "          [0.34803632]],\n",
       "\n",
       "         [[1.4694867 ],\n",
       "          [1.3921453 ],\n",
       "          [0.7734141 ],\n",
       "          ...,\n",
       "          [0.38670704],\n",
       "          [0.34803632],\n",
       "          [0.34803632]],\n",
       "\n",
       "         [[1.5468282 ],\n",
       "          [1.430816  ],\n",
       "          [1.3534746 ],\n",
       "          ...,\n",
       "          [0.38670704],\n",
       "          [0.34803632],\n",
       "          [0.30936563]],\n",
       "\n",
       "         ...,\n",
       "\n",
       "         [[1.1214504 ],\n",
       "          [1.1214504 ],\n",
       "          [1.1214504 ],\n",
       "          ...,\n",
       "          [0.07734141],\n",
       "          [0.07734141],\n",
       "          [0.0386707 ]],\n",
       "\n",
       "         [[1.0827796 ],\n",
       "          [1.0827796 ],\n",
       "          [1.0827796 ],\n",
       "          ...,\n",
       "          [0.07734141],\n",
       "          [0.0386707 ],\n",
       "          [0.0386707 ]],\n",
       "\n",
       "         [[1.0827796 ],\n",
       "          [1.0827796 ],\n",
       "          [1.0827796 ],\n",
       "          ...,\n",
       "          [0.0386707 ],\n",
       "          [0.0386707 ],\n",
       "          [0.0386707 ]]],\n",
       "\n",
       "\n",
       "        [[[1.5081575 ],\n",
       "          [1.4694867 ],\n",
       "          [0.9280969 ],\n",
       "          ...,\n",
       "          [0.38670704],\n",
       "          [0.34803632],\n",
       "          [0.34803632]],\n",
       "\n",
       "         [[1.4694867 ],\n",
       "          [1.4694867 ],\n",
       "          [0.7734141 ],\n",
       "          ...,\n",
       "          [0.38670704],\n",
       "          [0.34803632],\n",
       "          [0.34803632]],\n",
       "\n",
       "         [[1.6241696 ],\n",
       "          [1.5468282 ],\n",
       "          [1.314804  ],\n",
       "          ...,\n",
       "          [0.38670704],\n",
       "          [0.34803632],\n",
       "          [0.30936563]],\n",
       "\n",
       "         ...,\n",
       "\n",
       "         [[1.1214504 ],\n",
       "          [1.1214504 ],\n",
       "          [1.1214504 ],\n",
       "          ...,\n",
       "          [0.07734141],\n",
       "          [0.07734141],\n",
       "          [0.0386707 ]],\n",
       "\n",
       "         [[1.0827796 ],\n",
       "          [1.0827796 ],\n",
       "          [1.0827796 ],\n",
       "          ...,\n",
       "          [0.07734141],\n",
       "          [0.0386707 ],\n",
       "          [0.0386707 ]],\n",
       "\n",
       "         [[1.0827796 ],\n",
       "          [1.0827796 ],\n",
       "          [1.0827796 ],\n",
       "          ...,\n",
       "          [0.0386707 ],\n",
       "          [0.0386707 ],\n",
       "          [0.0386707 ]]],\n",
       "\n",
       "\n",
       "        ...,\n",
       "\n",
       "\n",
       "        [[[0.85075545],\n",
       "          [1.044109  ],\n",
       "          [1.0827796 ],\n",
       "          ...,\n",
       "          [0.34803632],\n",
       "          [0.34803632],\n",
       "          [0.34803632]],\n",
       "\n",
       "         [[0.9280969 ],\n",
       "          [0.657402  ],\n",
       "          [0.5413898 ],\n",
       "          ...,\n",
       "          [0.34803632],\n",
       "          [0.34803632],\n",
       "          [0.34803632]],\n",
       "\n",
       "         [[1.314804  ],\n",
       "          [1.2374625 ],\n",
       "          [0.7734141 ],\n",
       "          ...,\n",
       "          [0.38670704],\n",
       "          [0.34803632],\n",
       "          [0.34803632]],\n",
       "\n",
       "         ...,\n",
       "\n",
       "         [[1.1214504 ],\n",
       "          [1.1214504 ],\n",
       "          [1.1214504 ],\n",
       "          ...,\n",
       "          [0.07734141],\n",
       "          [0.07734141],\n",
       "          [0.07734141]],\n",
       "\n",
       "         [[1.1214504 ],\n",
       "          [1.1214504 ],\n",
       "          [1.1214504 ],\n",
       "          ...,\n",
       "          [0.07734141],\n",
       "          [0.07734141],\n",
       "          [0.0386707 ]],\n",
       "\n",
       "         [[1.1214504 ],\n",
       "          [1.1214504 ],\n",
       "          [1.0827796 ],\n",
       "          ...,\n",
       "          [0.07734141],\n",
       "          [0.0386707 ],\n",
       "          [0.0386707 ]]],\n",
       "\n",
       "\n",
       "        [[[0.7734141 ],\n",
       "          [1.044109  ],\n",
       "          [1.1987919 ],\n",
       "          ...,\n",
       "          [0.2706949 ],\n",
       "          [0.2706949 ],\n",
       "          [0.2706949 ]],\n",
       "\n",
       "         [[0.7734141 ],\n",
       "          [0.69607264],\n",
       "          [0.46404845],\n",
       "          ...,\n",
       "          [0.2706949 ],\n",
       "          [0.2706949 ],\n",
       "          [0.2706949 ]],\n",
       "\n",
       "         [[1.2761332 ],\n",
       "          [1.1214504 ],\n",
       "          [0.73474336],\n",
       "          ...,\n",
       "          [0.34803632],\n",
       "          [0.34803632],\n",
       "          [0.34803632]],\n",
       "\n",
       "         ...,\n",
       "\n",
       "         [[1.1601211 ],\n",
       "          [1.1214504 ],\n",
       "          [1.1214504 ],\n",
       "          ...,\n",
       "          [0.0386707 ],\n",
       "          [0.0386707 ],\n",
       "          [0.        ]],\n",
       "\n",
       "         [[1.1601211 ],\n",
       "          [1.1214504 ],\n",
       "          [1.1214504 ],\n",
       "          ...,\n",
       "          [0.0386707 ],\n",
       "          [0.0386707 ],\n",
       "          [0.        ]],\n",
       "\n",
       "         [[1.1601211 ],\n",
       "          [1.1214504 ],\n",
       "          [1.1214504 ],\n",
       "          ...,\n",
       "          [0.0386707 ],\n",
       "          [0.        ],\n",
       "          [0.        ]]],\n",
       "\n",
       "\n",
       "        [[[0.7734141 ],\n",
       "          [1.0054383 ],\n",
       "          [1.1601211 ],\n",
       "          ...,\n",
       "          [0.30936563],\n",
       "          [0.30936563],\n",
       "          [0.30936563]],\n",
       "\n",
       "         [[0.8120848 ],\n",
       "          [0.7734141 ],\n",
       "          [0.42537773],\n",
       "          ...,\n",
       "          [0.30936563],\n",
       "          [0.30936563],\n",
       "          [0.30936563]],\n",
       "\n",
       "         [[1.2761332 ],\n",
       "          [1.0827796 ],\n",
       "          [0.61873126],\n",
       "          ...,\n",
       "          [0.38670704],\n",
       "          [0.34803632],\n",
       "          [0.34803632]],\n",
       "\n",
       "         ...,\n",
       "\n",
       "         [[1.1601211 ],\n",
       "          [1.1214504 ],\n",
       "          [1.1214504 ],\n",
       "          ...,\n",
       "          [0.0386707 ],\n",
       "          [0.0386707 ],\n",
       "          [0.        ]],\n",
       "\n",
       "         [[1.1601211 ],\n",
       "          [1.1214504 ],\n",
       "          [1.1214504 ],\n",
       "          ...,\n",
       "          [0.0386707 ],\n",
       "          [0.0386707 ],\n",
       "          [0.        ]],\n",
       "\n",
       "         [[1.1601211 ],\n",
       "          [1.1214504 ],\n",
       "          [1.1214504 ],\n",
       "          ...,\n",
       "          [0.0386707 ],\n",
       "          [0.        ],\n",
       "          [0.        ]]]],\n",
       "\n",
       "\n",
       "\n",
       "       [[[[1.455479  ],\n",
       "          [1.455479  ],\n",
       "          [1.3788748 ],\n",
       "          ...,\n",
       "          [0.61283326],\n",
       "          [0.42132285],\n",
       "          [9.154197  ]],\n",
       "\n",
       "         [[1.455479  ],\n",
       "          [1.455479  ],\n",
       "          [1.3788748 ],\n",
       "          ...,\n",
       "          [0.3830208 ],\n",
       "          [9.57552   ],\n",
       "          [8.924384  ]],\n",
       "\n",
       "         [[1.4171768 ],\n",
       "          [1.4171768 ],\n",
       "          [1.4171768 ],\n",
       "          ...,\n",
       "          [9.3074045 ],\n",
       "          [9.422311  ],\n",
       "          [9.422311  ]],\n",
       "\n",
       "         ...,\n",
       "\n",
       "         [[0.95755196],\n",
       "          [0.95755196],\n",
       "          [0.95755196],\n",
       "          ...,\n",
       "          [0.03830208],\n",
       "          [0.        ],\n",
       "          [0.        ]],\n",
       "\n",
       "         [[0.95755196],\n",
       "          [0.95755196],\n",
       "          [0.95755196],\n",
       "          ...,\n",
       "          [0.03830208],\n",
       "          [0.03830208],\n",
       "          [0.03830208]],\n",
       "\n",
       "         [[0.95755196],\n",
       "          [0.95755196],\n",
       "          [0.95755196],\n",
       "          ...,\n",
       "          [0.03830208],\n",
       "          [0.03830208],\n",
       "          [0.        ]]],\n",
       "\n",
       "\n",
       "        [[[1.3022707 ],\n",
       "          [1.3022707 ],\n",
       "          [1.3405727 ],\n",
       "          ...,\n",
       "          [0.7660416 ],\n",
       "          [0.61283326],\n",
       "          [9.154197  ]],\n",
       "\n",
       "         [[1.3022707 ],\n",
       "          [1.3022707 ],\n",
       "          [1.3405727 ],\n",
       "          ...,\n",
       "          [0.42132285],\n",
       "          [9.537217  ],\n",
       "          [9.077593  ]],\n",
       "\n",
       "         [[1.3405727 ],\n",
       "          [1.3405727 ],\n",
       "          [1.3405727 ],\n",
       "          ...,\n",
       "          [9.422311  ],\n",
       "          [9.460613  ],\n",
       "          [9.460613  ]],\n",
       "\n",
       "         ...,\n",
       "\n",
       "         [[0.95755196],\n",
       "          [0.95755196],\n",
       "          [0.95755196],\n",
       "          ...,\n",
       "          [0.        ],\n",
       "          [9.76703   ],\n",
       "          [9.76703   ]],\n",
       "\n",
       "         [[0.95755196],\n",
       "          [0.95755196],\n",
       "          [0.95755196],\n",
       "          ...,\n",
       "          [0.        ],\n",
       "          [9.76703   ],\n",
       "          [9.728728  ]],\n",
       "\n",
       "         [[0.95755196],\n",
       "          [0.95755196],\n",
       "          [0.95755196],\n",
       "          ...,\n",
       "          [0.        ],\n",
       "          [9.728728  ],\n",
       "          [9.728728  ]]],\n",
       "\n",
       "\n",
       "        [[[1.3788748 ],\n",
       "          [1.3788748 ],\n",
       "          [1.3405727 ],\n",
       "          ...,\n",
       "          [0.95755196],\n",
       "          [0.5362291 ],\n",
       "          [9.154197  ]],\n",
       "\n",
       "         [[1.3788748 ],\n",
       "          [1.3788748 ],\n",
       "          [1.3405727 ],\n",
       "          ...,\n",
       "          [0.45962495],\n",
       "          [9.422311  ],\n",
       "          [9.154197  ]],\n",
       "\n",
       "         [[1.3405727 ],\n",
       "          [1.3405727 ],\n",
       "          [1.3405727 ],\n",
       "          ...,\n",
       "          [9.460613  ],\n",
       "          [9.384009  ],\n",
       "          [9.384009  ]],\n",
       "\n",
       "         ...,\n",
       "\n",
       "         [[0.995854  ],\n",
       "          [0.95755196],\n",
       "          [0.95755196],\n",
       "          ...,\n",
       "          [0.        ],\n",
       "          [9.76703   ],\n",
       "          [9.76703   ]],\n",
       "\n",
       "         [[0.995854  ],\n",
       "          [0.95755196],\n",
       "          [0.95755196],\n",
       "          ...,\n",
       "          [0.        ],\n",
       "          [9.76703   ],\n",
       "          [9.728728  ]],\n",
       "\n",
       "         [[0.95755196],\n",
       "          [0.95755196],\n",
       "          [0.95755196],\n",
       "          ...,\n",
       "          [0.        ],\n",
       "          [9.728728  ],\n",
       "          [9.728728  ]]],\n",
       "\n",
       "\n",
       "        ...,\n",
       "\n",
       "\n",
       "        [[[1.3405727 ],\n",
       "          [1.3405727 ],\n",
       "          [1.3022707 ],\n",
       "          ...,\n",
       "          [0.7660416 ],\n",
       "          [1.0341561 ],\n",
       "          [0.61283326]],\n",
       "\n",
       "         [[1.3405727 ],\n",
       "          [1.3405727 ],\n",
       "          [1.3022707 ],\n",
       "          ...,\n",
       "          [0.61283326],\n",
       "          [1.0341561 ],\n",
       "          [0.3447187 ]],\n",
       "\n",
       "         [[1.3022707 ],\n",
       "          [1.3022707 ],\n",
       "          [1.3022707 ],\n",
       "          ...,\n",
       "          [0.5362291 ],\n",
       "          [0.61283326],\n",
       "          [9.422311  ]],\n",
       "\n",
       "         ...,\n",
       "\n",
       "         [[0.95755196],\n",
       "          [0.9192499 ],\n",
       "          [0.88094777],\n",
       "          ...,\n",
       "          [0.07660416],\n",
       "          [0.        ],\n",
       "          [9.76703   ]],\n",
       "\n",
       "         [[0.95755196],\n",
       "          [0.9192499 ],\n",
       "          [0.88094777],\n",
       "          ...,\n",
       "          [0.03830208],\n",
       "          [0.        ],\n",
       "          [9.76703   ]],\n",
       "\n",
       "         [[0.95755196],\n",
       "          [0.9192499 ],\n",
       "          [0.88094777],\n",
       "          ...,\n",
       "          [0.03830208],\n",
       "          [9.76703   ],\n",
       "          [9.76703   ]]],\n",
       "\n",
       "\n",
       "        [[[1.3022707 ],\n",
       "          [1.3022707 ],\n",
       "          [1.3022707 ],\n",
       "          ...,\n",
       "          [0.7660416 ],\n",
       "          [0.95755196],\n",
       "          [0.7660416 ]],\n",
       "\n",
       "         [[1.3022707 ],\n",
       "          [1.3022707 ],\n",
       "          [1.3022707 ],\n",
       "          ...,\n",
       "          [0.5362291 ],\n",
       "          [0.9192499 ],\n",
       "          [0.497927  ]],\n",
       "\n",
       "         [[1.3022707 ],\n",
       "          [1.3022707 ],\n",
       "          [1.3022707 ],\n",
       "          ...,\n",
       "          [0.5362291 ],\n",
       "          [0.80434364],\n",
       "          [9.613822  ]],\n",
       "\n",
       "         ...,\n",
       "\n",
       "         [[0.95755196],\n",
       "          [0.9192499 ],\n",
       "          [0.88094777],\n",
       "          ...,\n",
       "          [0.03830208],\n",
       "          [0.        ],\n",
       "          [9.76703   ]],\n",
       "\n",
       "         [[0.95755196],\n",
       "          [0.9192499 ],\n",
       "          [0.88094777],\n",
       "          ...,\n",
       "          [0.03830208],\n",
       "          [0.        ],\n",
       "          [9.76703   ]],\n",
       "\n",
       "         [[0.95755196],\n",
       "          [0.9192499 ],\n",
       "          [0.88094777],\n",
       "          ...,\n",
       "          [0.03830208],\n",
       "          [9.76703   ],\n",
       "          [9.76703   ]]],\n",
       "\n",
       "\n",
       "        [[[1.3405727 ],\n",
       "          [1.3405727 ],\n",
       "          [1.3405727 ],\n",
       "          ...,\n",
       "          [0.7660416 ],\n",
       "          [0.995854  ],\n",
       "          [0.7660416 ]],\n",
       "\n",
       "         [[1.3405727 ],\n",
       "          [1.3405727 ],\n",
       "          [1.3405727 ],\n",
       "          ...,\n",
       "          [0.5745312 ],\n",
       "          [0.9192499 ],\n",
       "          [0.3830208 ]],\n",
       "\n",
       "         [[1.3405727 ],\n",
       "          [1.3405727 ],\n",
       "          [1.3405727 ],\n",
       "          ...,\n",
       "          [0.5362291 ],\n",
       "          [0.8426457 ],\n",
       "          [9.76703   ]],\n",
       "\n",
       "         ...,\n",
       "\n",
       "         [[0.95755196],\n",
       "          [0.9192499 ],\n",
       "          [0.88094777],\n",
       "          ...,\n",
       "          [0.11490624],\n",
       "          [0.07660416],\n",
       "          [0.        ]],\n",
       "\n",
       "         [[0.95755196],\n",
       "          [0.9192499 ],\n",
       "          [0.88094777],\n",
       "          ...,\n",
       "          [0.07660416],\n",
       "          [0.03830208],\n",
       "          [0.        ]],\n",
       "\n",
       "         [[0.95755196],\n",
       "          [0.9192499 ],\n",
       "          [0.88094777],\n",
       "          ...,\n",
       "          [0.07660416],\n",
       "          [0.        ],\n",
       "          [0.        ]]]]], dtype=float32)"
      ]
     },
     "execution_count": 25,
     "metadata": {},
     "output_type": "execute_result"
    }
   ],
   "source": [
    "val = sample.next(); val[0]"
   ]
  },
  {
   "cell_type": "code",
   "execution_count": 26,
   "id": "c33a87a2-d5e0-4ec9-b174-73ebf41bf03a",
   "metadata": {
    "tags": []
   },
   "outputs": [
    {
     "data": {
      "text/plain": [
       "<matplotlib.image.AxesImage at 0x1408c120fa0>"
      ]
     },
     "execution_count": 26,
     "metadata": {},
     "output_type": "execute_result"
    },
    {
     "data": {
      "image/png": "[encoded data removed]",
      "text/plain": [
       "<Figure size 640x480 with 1 Axes>"
      ]
     },
     "metadata": {},
     "output_type": "display_data"
    }
   ],
   "source": [
    "# 0:videos, 0: 1st video out of the batch,  0: return the first frame in the video \n",
    "plt.imshow(val[0][0][35])"
   ]
  },
  {
   "cell_type": "code",
   "execution_count": 27,
   "id": "84593332-133c-4205-b7a6-8e235d5e2b3b",
   "metadata": {
    "tags": []
   },
   "outputs": [
    {
     "data": {
      "text/plain": [
       "<tf.Tensor: shape=(), dtype=string, numpy=b'place blue at v four please'>"
      ]
     },
     "execution_count": 27,
     "metadata": {},
     "output_type": "execute_result"
    }
   ],
   "source": [
    "tf.strings.reduce_join([num_to_char(word) for word in val[1][0]])"
   ]
  },
  {
   "cell_type": "markdown",
   "id": "0f47733c-83bc-465c-b118-b198b492ad37",
   "metadata": {
    "tags": []
   },
   "source": [
    "# 3. Design the Deep Neural Network"
   ]
  },
  {
   "cell_type": "code",
   "execution_count": 28,
   "id": "d8e9a497-191b-4842-afbd-26f5e13c43ba",
   "metadata": {
    "tags": []
   },
   "outputs": [],
   "source": [
    "from tensorflow.keras.models import Sequential \n",
    "from tensorflow.keras.layers import Conv3D, LSTM, Dense, Dropout, Bidirectional, MaxPool3D, Activation, Reshape, SpatialDropout3D, BatchNormalization, TimeDistributed, Flatten, ZeroPadding3D, GRU\n",
    "from tensorflow.keras.optimizers import Adam\n",
    "from tensorflow.keras.callbacks import ModelCheckpoint, LearningRateScheduler"
   ]
  },
  {
   "cell_type": "code",
   "execution_count": 29,
   "id": "3f753ed2-70b9-4236-8c1c-08ca065dc8bf",
   "metadata": {},
   "outputs": [
    {
     "data": {
      "text/plain": [
       "(75, 46, 140, 1)"
      ]
     },
     "execution_count": 29,
     "metadata": {},
     "output_type": "execute_result"
    }
   ],
   "source": [
    "data.as_numpy_iterator().next()[0][0].shape"
   ]
  },
  {
   "cell_type": "code",
   "execution_count": 30,
   "id": "f9171056-a352-491a-9ed9-92b28ced268e",
   "metadata": {
    "tags": []
   },
   "outputs": [],
   "source": [
    "model = Sequential()\n",
    "model.add(ZeroPadding3D(padding=(1, 2, 2), name='zero1', input_shape=(75,46,140,1)))\n",
    "model.add(Conv3D(32, (3, 5, 5), strides=(1, 2, 2), kernel_initializer='he_normal', name='conv1'))\n",
    "model.add(BatchNormalization(name='batc1'))\n",
    "model.add(Activation('relu', name='actv1'))\n",
    "model.add(SpatialDropout3D(0.5))\n",
    "model.add(MaxPool3D(pool_size=(1, 2, 2), strides=(1, 2, 2), name='max1'))\n",
    "\n",
    "model.add(ZeroPadding3D(padding=(1, 2, 2), name='zero2'))\n",
    "model.add(Conv3D(64, (3, 5, 5), strides=(1, 1, 1), kernel_initializer='he_normal', name='conv2'))\n",
    "model.add(BatchNormalization(name='batc2'))\n",
    "model.add(Activation('relu', name='actv2'))\n",
    "model.add(SpatialDropout3D(0.5))\n",
    "model.add(MaxPool3D(pool_size=(1, 2, 2), strides=(1, 2, 2), name='max2'))\n",
    "\n",
    "model.add(ZeroPadding3D(padding=(1, 1, 1), name='zero3'))\n",
    "model.add(Conv3D(96, (3, 3, 3), strides=(1, 1, 1), kernel_initializer='he_normal', name='conv3'))\n",
    "model.add(BatchNormalization(name='batc3'))\n",
    "model.add(Activation('relu', name='actv3'))\n",
    "model.add(SpatialDropout3D(0.5))\n",
    "model.add(MaxPool3D(pool_size=(1, 2, 2), strides=(1, 2, 2), name='max3'))\n",
    "\n",
    "model.add(TimeDistributed(Flatten()))\n",
    "\n",
    "model.add(Bidirectional(GRU(256, return_sequences=True, kernel_initializer='Orthogonal', name='gru1'), merge_mode='concat'))\n",
    "\n",
    "model.add(Bidirectional(GRU(256, return_sequences=True, kernel_initializer='Orthogonal', name='gru2'), merge_mode='concat'))\n",
    "\n",
    "model.add(Dense(char_to_num.vocabulary_size() + 1, kernel_initializer='he_normal', activation='softmax',))"
   ]
  },
  {
   "cell_type": "code",
   "execution_count": 31,
   "id": "78851825-2bcd-42a9-b7f2-28bb5a6bf43a",
   "metadata": {
    "collapsed": true,
    "jupyter": {
     "outputs_hidden": true
    },
    "tags": []
   },
   "outputs": [
    {
     "name": "stdout",
     "output_type": "stream",
     "text": [
      "Model: \"sequential\"\n",
      "_________________________________________________________________\n",
      " Layer (type)                Output Shape              Param #   \n",
      "=================================================================\n",
      " zero1 (ZeroPadding3D)       (None, 77, 50, 144, 1)    0         \n",
      "                                                                 \n",
      " conv1 (Conv3D)              (None, 75, 23, 70, 32)    2432      \n",
      "                                                                 \n",
      " batc1 (BatchNormalization)  (None, 75, 23, 70, 32)    128       \n",
      "                                                                 \n",
      " actv1 (Activation)          (None, 75, 23, 70, 32)    0         \n",
      "                                                                 \n",
      " spatial_dropout3d (SpatialD  (None, 75, 23, 70, 32)   0         \n",
      " ropout3D)                                                       \n",
      "                                                                 \n",
      " max1 (MaxPooling3D)         (None, 75, 11, 35, 32)    0         \n",
      "                                                                 \n",
      " zero2 (ZeroPadding3D)       (None, 77, 15, 39, 32)    0         \n",
      "                                                                 \n",
      " conv2 (Conv3D)              (None, 75, 11, 35, 64)    153664    \n",
      "                                                                 \n",
      " batc2 (BatchNormalization)  (None, 75, 11, 35, 64)    256       \n",
      "                                                                 \n",
      " actv2 (Activation)          (None, 75, 11, 35, 64)    0         \n",
      "                                                                 \n",
      " spatial_dropout3d_1 (Spatia  (None, 75, 11, 35, 64)   0         \n",
      " lDropout3D)                                                     \n",
      "                                                                 \n",
      " max2 (MaxPooling3D)         (None, 75, 5, 17, 64)     0         \n",
      "                                                                 \n",
      " zero3 (ZeroPadding3D)       (None, 77, 7, 19, 64)     0         \n",
      "                                                                 \n",
      " conv3 (Conv3D)              (None, 75, 5, 17, 96)     165984    \n",
      "                                                                 \n",
      " batc3 (BatchNormalization)  (None, 75, 5, 17, 96)     384       \n",
      "                                                                 \n",
      " actv3 (Activation)          (None, 75, 5, 17, 96)     0         \n",
      "                                                                 \n",
      " spatial_dropout3d_2 (Spatia  (None, 75, 5, 17, 96)    0         \n",
      " lDropout3D)                                                     \n",
      "                                                                 \n",
      " max3 (MaxPooling3D)         (None, 75, 2, 8, 96)      0         \n",
      "                                                                 \n",
      " time_distributed (TimeDistr  (None, 75, 1536)         0         \n",
      " ibuted)                                                         \n",
      "                                                                 \n",
      " bidirectional (Bidirectiona  (None, 75, 512)          2755584   \n",
      " l)                                                              \n",
      "                                                                 \n",
      " bidirectional_1 (Bidirectio  (None, 75, 512)          1182720   \n",
      " nal)                                                            \n",
      "                                                                 \n",
      " dense (Dense)               (None, 75, 41)            21033     \n",
      "                                                                 \n",
      "=================================================================\n",
      "Total params: 4,282,185\n",
      "Trainable params: 4,281,801\n",
      "Non-trainable params: 384\n",
      "_________________________________________________________________\n"
     ]
    }
   ],
   "source": [
    "model.summary()"
   ]
  },
  {
   "cell_type": "code",
   "execution_count": 32,
   "id": "e5c2eae0-c359-41a4-97a0-75c44dccb7d1",
   "metadata": {
    "tags": []
   },
   "outputs": [
    {
     "name": "stdout",
     "output_type": "stream",
     "text": [
      "1/1 [==============================] - 5s 5s/step\n"
     ]
    }
   ],
   "source": [
    "yhat = model.predict(val[0])"
   ]
  },
  {
   "cell_type": "code",
   "execution_count": 33,
   "id": "ffdc7319-0d69-4f7e-a6d4-ce72deb81c0b",
   "metadata": {},
   "outputs": [
    {
     "data": {
      "text/plain": [
       "<tf.Tensor: shape=(), dtype=string, numpy=b't6666?66???????666????????????????????????????????t????????????????????????'>"
      ]
     },
     "execution_count": 33,
     "metadata": {},
     "output_type": "execute_result"
    }
   ],
   "source": [
    "tf.strings.reduce_join([num_to_char(x) for x in tf.argmax(yhat[0],axis=1)])"
   ]
  },
  {
   "cell_type": "code",
   "execution_count": 34,
   "id": "6ed47531-8317-4255-9a12-b757642258e6",
   "metadata": {
    "tags": []
   },
   "outputs": [
    {
     "data": {
      "text/plain": [
       "<tf.Tensor: shape=(), dtype=string, numpy=b't6666?66???????666????????????????????????????????t????????????????????????'>"
      ]
     },
     "execution_count": 34,
     "metadata": {},
     "output_type": "execute_result"
    }
   ],
   "source": [
    "tf.strings.reduce_join([num_to_char(tf.argmax(x)) for x in yhat[0]])"
   ]
  },
  {
   "cell_type": "code",
   "execution_count": 35,
   "id": "7c37b9b9-5298-4038-9c33-5031d1b457f0",
   "metadata": {
    "tags": []
   },
   "outputs": [
    {
     "data": {
      "text/plain": [
       "(None, 75, 46, 140, 1)"
      ]
     },
     "execution_count": 35,
     "metadata": {},
     "output_type": "execute_result"
    }
   ],
   "source": [
    "model.input_shape"
   ]
  },
  {
   "cell_type": "code",
   "execution_count": 36,
   "id": "98b316a4-5322-4782-8e36-4b3c1a696d85",
   "metadata": {
    "tags": []
   },
   "outputs": [
    {
     "data": {
      "text/plain": [
       "(None, 75, 41)"
      ]
     },
     "execution_count": 36,
     "metadata": {},
     "output_type": "execute_result"
    }
   ],
   "source": [
    "model.output_shape"
   ]
  },
  {
   "cell_type": "markdown",
   "id": "2ec02176-5c26-46c3-aff7-8352e6563c7d",
   "metadata": {
    "tags": []
   },
   "source": [
    "# 4. Setup Training Options and Train"
   ]
  },
  {
   "cell_type": "code",
   "execution_count": 37,
   "id": "ab015fd0-7fb4-4d5d-9fa2-30a05dbd515a",
   "metadata": {
    "tags": []
   },
   "outputs": [],
   "source": [
    "def scheduler(epoch, lr):\n",
    "    if epoch < 30:\n",
    "        return lr\n",
    "    else:\n",
    "        return lr * tf.math.exp(-0.1)"
   ]
  },
  {
   "cell_type": "code",
   "execution_count": 38,
   "id": "c564d5c9-db54-4e88-b311-9aeab7fb3e69",
   "metadata": {
    "tags": []
   },
   "outputs": [],
   "source": [
    "def CTCLoss(y_true, y_pred):\n",
    "    batch_len = tf.cast(tf.shape(y_true)[0], dtype=\"int64\")\n",
    "    input_length = tf.cast(tf.shape(y_pred)[1], dtype=\"int64\")\n",
    "    label_length = tf.cast(tf.shape(y_true)[1], dtype=\"int64\")\n",
    "\n",
    "    input_length = input_length * tf.ones(shape=(batch_len, 1), dtype=\"int64\")\n",
    "    label_length = label_length * tf.ones(shape=(batch_len, 1), dtype=\"int64\")\n",
    "\n",
    "    loss = tf.keras.backend.ctc_batch_cost(y_true, y_pred, input_length, label_length)\n",
    "    return loss"
   ]
  },
  {
   "cell_type": "code",
   "execution_count": 39,
   "id": "a26dc3fc-a19c-4378-bd8c-e2b597a1d15c",
   "metadata": {
    "tags": []
   },
   "outputs": [],
   "source": [
    "class ProduceExample(tf.keras.callbacks.Callback): \n",
    "    def __init__(self, dataset) -> None: \n",
    "        self.original_dataset = dataset  # Keep a reference to the original dataset\n",
    "\n",
    "    def on_epoch_begin(self, epoch, logs=None):\n",
    "        # Recreate the iterator from the original dataset at the beginning of each epoch\n",
    "        self.dataset = self.original_dataset.as_numpy_iterator()\n",
    "    \n",
    "    def on_epoch_end(self, epoch, logs=None) -> None:\n",
    "        data = self.dataset.next()\n",
    "        yhat = self.model.predict(data[0])\n",
    "        decoded = tf.keras.backend.ctc_decode(yhat, [75,75], greedy=False)[0][0].numpy()\n",
    "        for x in range(len(yhat)):           \n",
    "            print('Original:', tf.strings.reduce_join(num_to_char(data[1][x])).numpy().decode('utf-8'))\n",
    "            print('Prediction:', tf.strings.reduce_join(num_to_char(decoded[x])).numpy().decode('utf-8'))\n",
    "            print('~'*100)\n"
   ]
  },
  {
   "cell_type": "code",
   "execution_count": 40,
   "id": "04be90d8-2482-46f9-b513-d5f4f8001c7e",
   "metadata": {
    "tags": []
   },
   "outputs": [],
   "source": [
    "model.compile(optimizer=Adam(learning_rate=0.0001), loss=CTCLoss)"
   ]
  },
  {
   "cell_type": "code",
   "execution_count": 41,
   "id": "eab49367-3f1e-4464-ae76-dbd07549d97e",
   "metadata": {
    "tags": []
   },
   "outputs": [],
   "source": [
    "checkpoint_callback = ModelCheckpoint(os.path.join('model','3dGRUcheckpoint'), monitor='loss', save_weights_only=True) "
   ]
  },
  {
   "cell_type": "code",
   "execution_count": 42,
   "id": "e085a632-d464-46ef-8777-959cad4adb2c",
   "metadata": {
    "tags": []
   },
   "outputs": [],
   "source": [
    "schedule_callback = LearningRateScheduler(scheduler)"
   ]
  },
  {
   "cell_type": "code",
   "execution_count": 43,
   "id": "48eca991-90ab-4592-8a79-b50e9ca015b6",
   "metadata": {
    "tags": []
   },
   "outputs": [],
   "source": [
    "example_callback = ProduceExample(test)"
   ]
  },
  {
   "cell_type": "code",
   "execution_count": 45,
   "id": "8ffba483-aa61-4bbe-a15f-a73e1ddf097c",
   "metadata": {
    "tags": []
   },
   "outputs": [
    {
     "name": "stdout",
     "output_type": "stream",
     "text": [
      "Epoch 1/68\n",
      "1/1 [==============================] - 0s 224ms/step loss: 32.51\n",
      "Original: set blue at a four now\n",
      "Prediction: sla gre it d foe son\n",
      "~~~~~~~~~~~~~~~~~~~~~~~~~~~~~~~~~~~~~~~~~~~~~~~~~~~~~~~~~~~~~~~~~~~~~~~~~~~~~~~~~~~~~~~~~~~~~~~~~~~~\n",
      "Original: place green with e six now\n",
      "Prediction: bla re it s sie goin\n",
      "~~~~~~~~~~~~~~~~~~~~~~~~~~~~~~~~~~~~~~~~~~~~~~~~~~~~~~~~~~~~~~~~~~~~~~~~~~~~~~~~~~~~~~~~~~~~~~~~~~~~\n",
      "450/450 [==============================] - 472s 1s/step - loss: 32.5146 - val_loss: 31.8061 - lr: 7.4082e-05\n",
      "Epoch 2/68\n",
      "1/1 [==============================] - 0s 197ms/step loss: 32.39\n",
      "Original: bin blue with m four now\n",
      "Prediction: bla wre it g sie nown\n",
      "~~~~~~~~~~~~~~~~~~~~~~~~~~~~~~~~~~~~~~~~~~~~~~~~~~~~~~~~~~~~~~~~~~~~~~~~~~~~~~~~~~~~~~~~~~~~~~~~~~~~\n",
      "Original: bin white in m five soon\n",
      "Prediction: bla bre it g tie agown\n",
      "~~~~~~~~~~~~~~~~~~~~~~~~~~~~~~~~~~~~~~~~~~~~~~~~~~~~~~~~~~~~~~~~~~~~~~~~~~~~~~~~~~~~~~~~~~~~~~~~~~~~\n",
      "450/450 [==============================] - 454s 1s/step - loss: 32.3948 - val_loss: 32.5026 - lr: 7.4082e-05\n",
      "Epoch 3/68\n",
      "1/1 [==============================] - 0s 40ms/step- loss: 32.22\n",
      "Original: lay green at f four now\n",
      "Prediction: bla re it p fie pgan\n",
      "~~~~~~~~~~~~~~~~~~~~~~~~~~~~~~~~~~~~~~~~~~~~~~~~~~~~~~~~~~~~~~~~~~~~~~~~~~~~~~~~~~~~~~~~~~~~~~~~~~~~\n",
      "Original: place red at p four now\n",
      "Prediction: bla bre it p fie so\n",
      "~~~~~~~~~~~~~~~~~~~~~~~~~~~~~~~~~~~~~~~~~~~~~~~~~~~~~~~~~~~~~~~~~~~~~~~~~~~~~~~~~~~~~~~~~~~~~~~~~~~~\n",
      "450/450 [==============================] - 450s 1s/step - loss: 32.2204 - val_loss: 32.3404 - lr: 7.4082e-05\n",
      "Epoch 4/68\n",
      "1/1 [==============================] - 0s 133ms/step loss: 32.38\n",
      "Original: set white by i seven again\n",
      "Prediction: bla bre it l tie please\n",
      "~~~~~~~~~~~~~~~~~~~~~~~~~~~~~~~~~~~~~~~~~~~~~~~~~~~~~~~~~~~~~~~~~~~~~~~~~~~~~~~~~~~~~~~~~~~~~~~~~~~~\n",
      "Original: bin green by u four please\n",
      "Prediction: bla wre it t tie lease\n",
      "~~~~~~~~~~~~~~~~~~~~~~~~~~~~~~~~~~~~~~~~~~~~~~~~~~~~~~~~~~~~~~~~~~~~~~~~~~~~~~~~~~~~~~~~~~~~~~~~~~~~\n",
      "450/450 [==============================] - 436s 970ms/step - loss: 32.3825 - val_loss: 31.7512 - lr: 7.4082e-05\n",
      "Epoch 5/68\n",
      "1/1 [==============================] - 0s 156ms/step loss: 32.19\n",
      "Original: bin blue in l two now\n",
      "Prediction: bla gre it g fie son\n",
      "~~~~~~~~~~~~~~~~~~~~~~~~~~~~~~~~~~~~~~~~~~~~~~~~~~~~~~~~~~~~~~~~~~~~~~~~~~~~~~~~~~~~~~~~~~~~~~~~~~~~\n",
      "Original: bin blue by m three again\n",
      "Prediction: pla ble it l sie please\n",
      "~~~~~~~~~~~~~~~~~~~~~~~~~~~~~~~~~~~~~~~~~~~~~~~~~~~~~~~~~~~~~~~~~~~~~~~~~~~~~~~~~~~~~~~~~~~~~~~~~~~~\n",
      "450/450 [==============================] - 426s 948ms/step - loss: 32.1958 - val_loss: 33.5384 - lr: 7.4082e-05\n",
      "Epoch 6/68\n",
      "1/1 [==============================] - 0s 186ms/step loss: 31.95\n",
      "Original: set red by b seven again\n",
      "Prediction: lay bre it l fie pleise\n",
      "~~~~~~~~~~~~~~~~~~~~~~~~~~~~~~~~~~~~~~~~~~~~~~~~~~~~~~~~~~~~~~~~~~~~~~~~~~~~~~~~~~~~~~~~~~~~~~~~~~~~\n",
      "Original: place blue with p seven soon\n",
      "Prediction: lay wre it f fie agow\n",
      "~~~~~~~~~~~~~~~~~~~~~~~~~~~~~~~~~~~~~~~~~~~~~~~~~~~~~~~~~~~~~~~~~~~~~~~~~~~~~~~~~~~~~~~~~~~~~~~~~~~~\n",
      "450/450 [==============================] - 446s 993ms/step - loss: 31.9550 - val_loss: 31.9836 - lr: 7.4082e-05\n",
      "Epoch 7/68\n",
      "1/1 [==============================] - 0s 147ms/step loss: 32.12\n",
      "Original: set green at i six now\n",
      "Prediction: sla gre it b tie gown\n",
      "~~~~~~~~~~~~~~~~~~~~~~~~~~~~~~~~~~~~~~~~~~~~~~~~~~~~~~~~~~~~~~~~~~~~~~~~~~~~~~~~~~~~~~~~~~~~~~~~~~~~\n",
      "Original: bin red by g five again\n",
      "Prediction: sla gre it b tie son\n",
      "~~~~~~~~~~~~~~~~~~~~~~~~~~~~~~~~~~~~~~~~~~~~~~~~~~~~~~~~~~~~~~~~~~~~~~~~~~~~~~~~~~~~~~~~~~~~~~~~~~~~\n",
      "450/450 [==============================] - 427s 951ms/step - loss: 32.1201 - val_loss: 30.0683 - lr: 7.4082e-05\n",
      "Epoch 8/68\n",
      "1/1 [==============================] - 0s 211ms/step loss: 31.98\n",
      "Original: set green at i seven soon\n",
      "Prediction: pla wre it j toe so\n",
      "~~~~~~~~~~~~~~~~~~~~~~~~~~~~~~~~~~~~~~~~~~~~~~~~~~~~~~~~~~~~~~~~~~~~~~~~~~~~~~~~~~~~~~~~~~~~~~~~~~~~\n",
      "Original: lay blue at k three again\n",
      "Prediction: pla wre it l tie nown\n",
      "~~~~~~~~~~~~~~~~~~~~~~~~~~~~~~~~~~~~~~~~~~~~~~~~~~~~~~~~~~~~~~~~~~~~~~~~~~~~~~~~~~~~~~~~~~~~~~~~~~~~\n",
      "450/450 [==============================] - 437s 972ms/step - loss: 31.9877 - val_loss: 30.7147 - lr: 7.4082e-05\n",
      "Epoch 9/68\n",
      "1/1 [==============================] - 0s 195ms/step loss: 31.87\n",
      "Original: bin white with a nine soon\n",
      "Prediction: la wre it t tie son\n",
      "~~~~~~~~~~~~~~~~~~~~~~~~~~~~~~~~~~~~~~~~~~~~~~~~~~~~~~~~~~~~~~~~~~~~~~~~~~~~~~~~~~~~~~~~~~~~~~~~~~~~\n",
      "Original: bin green with u six now\n",
      "Prediction: la gre it n toe now\n",
      "~~~~~~~~~~~~~~~~~~~~~~~~~~~~~~~~~~~~~~~~~~~~~~~~~~~~~~~~~~~~~~~~~~~~~~~~~~~~~~~~~~~~~~~~~~~~~~~~~~~~\n",
      "450/450 [==============================] - 447s 995ms/step - loss: 31.8754 - val_loss: 31.0592 - lr: 7.4082e-05\n",
      "Epoch 10/68\n",
      "1/1 [==============================] - 0s 69ms/step- loss: 31.61\n",
      "Original: bin white in m four now\n",
      "Prediction: pla wre it q sive son\n",
      "~~~~~~~~~~~~~~~~~~~~~~~~~~~~~~~~~~~~~~~~~~~~~~~~~~~~~~~~~~~~~~~~~~~~~~~~~~~~~~~~~~~~~~~~~~~~~~~~~~~~\n",
      "Original: lay white in y nine again\n",
      "Prediction: la bre it l sie please\n",
      "~~~~~~~~~~~~~~~~~~~~~~~~~~~~~~~~~~~~~~~~~~~~~~~~~~~~~~~~~~~~~~~~~~~~~~~~~~~~~~~~~~~~~~~~~~~~~~~~~~~~\n",
      "450/450 [==============================] - 448s 996ms/step - loss: 31.6170 - val_loss: 32.8486 - lr: 7.4082e-05\n",
      "Epoch 11/68\n",
      "1/1 [==============================] - 0s 73ms/step- loss: 31.84\n",
      "Original: place white by d nine again\n",
      "Prediction: sla gre it g tie now\n",
      "~~~~~~~~~~~~~~~~~~~~~~~~~~~~~~~~~~~~~~~~~~~~~~~~~~~~~~~~~~~~~~~~~~~~~~~~~~~~~~~~~~~~~~~~~~~~~~~~~~~~\n",
      "Original: set white by o nine soon\n",
      "Prediction: pla gre it z fie now\n",
      "~~~~~~~~~~~~~~~~~~~~~~~~~~~~~~~~~~~~~~~~~~~~~~~~~~~~~~~~~~~~~~~~~~~~~~~~~~~~~~~~~~~~~~~~~~~~~~~~~~~~\n",
      "450/450 [==============================] - 440s 979ms/step - loss: 31.8415 - val_loss: 30.8518 - lr: 7.4082e-05\n",
      "Epoch 12/68\n",
      "1/1 [==============================] - 0s 131ms/step loss: 31.65\n",
      "Original: set green by j two please\n",
      "Prediction: bla ble it p tie please\n",
      "~~~~~~~~~~~~~~~~~~~~~~~~~~~~~~~~~~~~~~~~~~~~~~~~~~~~~~~~~~~~~~~~~~~~~~~~~~~~~~~~~~~~~~~~~~~~~~~~~~~~\n",
      "Original: place blue by v six now\n",
      "Prediction: lay bre iy p sie agaw\n",
      "~~~~~~~~~~~~~~~~~~~~~~~~~~~~~~~~~~~~~~~~~~~~~~~~~~~~~~~~~~~~~~~~~~~~~~~~~~~~~~~~~~~~~~~~~~~~~~~~~~~~\n",
      "450/450 [==============================] - 420s 934ms/step - loss: 31.6554 - val_loss: 30.4975 - lr: 7.4082e-05\n",
      "Epoch 13/68\n",
      "1/1 [==============================] - 0s 158ms/step loss: 31.58\n",
      "Original: bin blue with s nine soon\n",
      "Prediction: bla bre it q tie so\n",
      "~~~~~~~~~~~~~~~~~~~~~~~~~~~~~~~~~~~~~~~~~~~~~~~~~~~~~~~~~~~~~~~~~~~~~~~~~~~~~~~~~~~~~~~~~~~~~~~~~~~~\n",
      "Original: set red at u five again\n",
      "Prediction: bla bre it f fie again\n",
      "~~~~~~~~~~~~~~~~~~~~~~~~~~~~~~~~~~~~~~~~~~~~~~~~~~~~~~~~~~~~~~~~~~~~~~~~~~~~~~~~~~~~~~~~~~~~~~~~~~~~\n",
      "450/450 [==============================] - 436s 971ms/step - loss: 31.5858 - val_loss: 31.0091 - lr: 7.4082e-05\n",
      "Epoch 14/68\n",
      "1/1 [==============================] - 0s 211ms/step loss: 31.38\n",
      "Original: set blue in t three soon\n",
      "Prediction: pla wre it j fie no\n",
      "~~~~~~~~~~~~~~~~~~~~~~~~~~~~~~~~~~~~~~~~~~~~~~~~~~~~~~~~~~~~~~~~~~~~~~~~~~~~~~~~~~~~~~~~~~~~~~~~~~~~\n",
      "Original: set green at c four sp please\n",
      "Prediction: la bre it p sie plase\n",
      "~~~~~~~~~~~~~~~~~~~~~~~~~~~~~~~~~~~~~~~~~~~~~~~~~~~~~~~~~~~~~~~~~~~~~~~~~~~~~~~~~~~~~~~~~~~~~~~~~~~~\n",
      "450/450 [==============================] - 431s 959ms/step - loss: 31.3882 - val_loss: 30.6465 - lr: 7.4082e-05\n",
      "Epoch 15/68\n",
      "1/1 [==============================] - 0s 134ms/step loss: 31.28\n",
      "Original: bin red in m zero please\n",
      "Prediction: pla bre it e fie please\n",
      "~~~~~~~~~~~~~~~~~~~~~~~~~~~~~~~~~~~~~~~~~~~~~~~~~~~~~~~~~~~~~~~~~~~~~~~~~~~~~~~~~~~~~~~~~~~~~~~~~~~~\n",
      "Original: bin green by b two please\n",
      "Prediction: pla bre it l sie please\n",
      "~~~~~~~~~~~~~~~~~~~~~~~~~~~~~~~~~~~~~~~~~~~~~~~~~~~~~~~~~~~~~~~~~~~~~~~~~~~~~~~~~~~~~~~~~~~~~~~~~~~~\n",
      "450/450 [==============================] - 436s 970ms/step - loss: 31.2843 - val_loss: 30.2191 - lr: 7.4082e-05\n",
      "Epoch 16/68\n",
      "1/1 [==============================] - 0s 28ms/step- loss: 31.27\n",
      "Original: place white in x zero now\n",
      "Prediction: la gre it j sie sow\n",
      "~~~~~~~~~~~~~~~~~~~~~~~~~~~~~~~~~~~~~~~~~~~~~~~~~~~~~~~~~~~~~~~~~~~~~~~~~~~~~~~~~~~~~~~~~~~~~~~~~~~~\n",
      "Original: lay blue by r one again\n",
      "Prediction: pla wre it y sie gain\n",
      "~~~~~~~~~~~~~~~~~~~~~~~~~~~~~~~~~~~~~~~~~~~~~~~~~~~~~~~~~~~~~~~~~~~~~~~~~~~~~~~~~~~~~~~~~~~~~~~~~~~~\n",
      "450/450 [==============================] - 428s 952ms/step - loss: 31.2791 - val_loss: 30.0462 - lr: 7.4082e-05\n",
      "Epoch 17/68\n",
      "1/1 [==============================] - 0s 39ms/step- loss: 31.14\n",
      "Original: bin blue with s nine soon\n",
      "Prediction: bla whe it n tie son\n",
      "~~~~~~~~~~~~~~~~~~~~~~~~~~~~~~~~~~~~~~~~~~~~~~~~~~~~~~~~~~~~~~~~~~~~~~~~~~~~~~~~~~~~~~~~~~~~~~~~~~~~\n",
      "Original: bin red in f four now\n",
      "Prediction: la bre it z sie please\n",
      "~~~~~~~~~~~~~~~~~~~~~~~~~~~~~~~~~~~~~~~~~~~~~~~~~~~~~~~~~~~~~~~~~~~~~~~~~~~~~~~~~~~~~~~~~~~~~~~~~~~~\n",
      "450/450 [==============================] - 433s 963ms/step - loss: 31.1444 - val_loss: 31.4569 - lr: 7.4082e-05\n",
      "Epoch 18/68\n",
      "1/1 [==============================] - 0s 113ms/step loss: 31.13\n",
      "Original: bin red in z seven soon\n",
      "Prediction: la bre iy z sie now\n",
      "~~~~~~~~~~~~~~~~~~~~~~~~~~~~~~~~~~~~~~~~~~~~~~~~~~~~~~~~~~~~~~~~~~~~~~~~~~~~~~~~~~~~~~~~~~~~~~~~~~~~\n",
      "Original: place green with e nine again\n",
      "Prediction: bla gre it z tie please\n",
      "~~~~~~~~~~~~~~~~~~~~~~~~~~~~~~~~~~~~~~~~~~~~~~~~~~~~~~~~~~~~~~~~~~~~~~~~~~~~~~~~~~~~~~~~~~~~~~~~~~~~\n",
      "450/450 [==============================] - 447s 995ms/step - loss: 31.1310 - val_loss: 31.3348 - lr: 7.4082e-05\n",
      "Epoch 19/68\n",
      "1/1 [==============================] - 0s 39ms/step- loss: 30.82\n",
      "Original: bin green with u seven soon\n",
      "Prediction: lac gre it j tore no\n",
      "~~~~~~~~~~~~~~~~~~~~~~~~~~~~~~~~~~~~~~~~~~~~~~~~~~~~~~~~~~~~~~~~~~~~~~~~~~~~~~~~~~~~~~~~~~~~~~~~~~~~\n",
      "Original: set white in h nine again\n",
      "Prediction: bla gre it m tie again\n",
      "~~~~~~~~~~~~~~~~~~~~~~~~~~~~~~~~~~~~~~~~~~~~~~~~~~~~~~~~~~~~~~~~~~~~~~~~~~~~~~~~~~~~~~~~~~~~~~~~~~~~\n",
      "450/450 [==============================] - 440s 979ms/step - loss: 30.8292 - val_loss: 30.4399 - lr: 7.4082e-05\n",
      "Epoch 20/68\n",
      "1/1 [==============================] - 0s 196ms/step loss: 31.10\n",
      "Original: place white at d five again\n",
      "Prediction: bla wre iy m sie please\n",
      "~~~~~~~~~~~~~~~~~~~~~~~~~~~~~~~~~~~~~~~~~~~~~~~~~~~~~~~~~~~~~~~~~~~~~~~~~~~~~~~~~~~~~~~~~~~~~~~~~~~~\n",
      "Original: bin red at m five again\n",
      "Prediction: bla wre it y sie plase\n",
      "~~~~~~~~~~~~~~~~~~~~~~~~~~~~~~~~~~~~~~~~~~~~~~~~~~~~~~~~~~~~~~~~~~~~~~~~~~~~~~~~~~~~~~~~~~~~~~~~~~~~\n",
      "450/450 [==============================] - 451s 1s/step - loss: 31.1093 - val_loss: 29.2628 - lr: 7.4082e-05\n",
      "Epoch 21/68\n",
      "1/1 [==============================] - 0s 113ms/step loss: 30.84\n",
      "Original: lay green with t three again\n",
      "Prediction: plac bre it f tie please\n",
      "~~~~~~~~~~~~~~~~~~~~~~~~~~~~~~~~~~~~~~~~~~~~~~~~~~~~~~~~~~~~~~~~~~~~~~~~~~~~~~~~~~~~~~~~~~~~~~~~~~~~\n",
      "Original: place blue by c six please\n",
      "Prediction: plac bre it l fie please\n",
      "~~~~~~~~~~~~~~~~~~~~~~~~~~~~~~~~~~~~~~~~~~~~~~~~~~~~~~~~~~~~~~~~~~~~~~~~~~~~~~~~~~~~~~~~~~~~~~~~~~~~\n",
      "450/450 [==============================] - 430s 957ms/step - loss: 30.8449 - val_loss: 29.4981 - lr: 7.4082e-05\n",
      "Epoch 22/68\n",
      "1/1 [==============================] - 0s 130ms/step loss: 30.64\n",
      "Original: bin white at n one again\n",
      "Prediction: sla re it j sie now\n",
      "~~~~~~~~~~~~~~~~~~~~~~~~~~~~~~~~~~~~~~~~~~~~~~~~~~~~~~~~~~~~~~~~~~~~~~~~~~~~~~~~~~~~~~~~~~~~~~~~~~~~\n",
      "Original: bin white in g one soon\n",
      "Prediction: bla bhie in o tone son\n",
      "~~~~~~~~~~~~~~~~~~~~~~~~~~~~~~~~~~~~~~~~~~~~~~~~~~~~~~~~~~~~~~~~~~~~~~~~~~~~~~~~~~~~~~~~~~~~~~~~~~~~\n",
      "450/450 [==============================] - 432s 961ms/step - loss: 30.6475 - val_loss: 30.0625 - lr: 7.4082e-05\n",
      "Epoch 23/68\n",
      "1/1 [==============================] - 0s 212ms/step loss: 30.62\n",
      "Original: bin blue by f nine again\n",
      "Prediction: bia re it g five again\n",
      "~~~~~~~~~~~~~~~~~~~~~~~~~~~~~~~~~~~~~~~~~~~~~~~~~~~~~~~~~~~~~~~~~~~~~~~~~~~~~~~~~~~~~~~~~~~~~~~~~~~~\n",
      "Original: place red at sp p seven again\n",
      "Prediction: sla re it g five again\n",
      "~~~~~~~~~~~~~~~~~~~~~~~~~~~~~~~~~~~~~~~~~~~~~~~~~~~~~~~~~~~~~~~~~~~~~~~~~~~~~~~~~~~~~~~~~~~~~~~~~~~~\n",
      "450/450 [==============================] - 449s 998ms/step - loss: 30.6231 - val_loss: 30.1420 - lr: 7.4082e-05\n",
      "Epoch 24/68\n",
      "1/1 [==============================] - 0s 202ms/step loss: 30.59\n",
      "Original: set white in o one soon\n",
      "Prediction: bin wre it b tone son\n",
      "~~~~~~~~~~~~~~~~~~~~~~~~~~~~~~~~~~~~~~~~~~~~~~~~~~~~~~~~~~~~~~~~~~~~~~~~~~~~~~~~~~~~~~~~~~~~~~~~~~~~\n",
      "Original: lay green at f seven again\n",
      "Prediction: la gre it g fie again\n",
      "~~~~~~~~~~~~~~~~~~~~~~~~~~~~~~~~~~~~~~~~~~~~~~~~~~~~~~~~~~~~~~~~~~~~~~~~~~~~~~~~~~~~~~~~~~~~~~~~~~~~\n",
      "450/450 [==============================] - 450s 1s/step - loss: 30.5933 - val_loss: 29.9100 - lr: 7.4082e-05\n",
      "Epoch 25/68\n",
      "1/1 [==============================] - 0s 106ms/step loss: 30.44\n",
      "Original: place green in d seven again\n",
      "Prediction: la gre it y five anai\n",
      "~~~~~~~~~~~~~~~~~~~~~~~~~~~~~~~~~~~~~~~~~~~~~~~~~~~~~~~~~~~~~~~~~~~~~~~~~~~~~~~~~~~~~~~~~~~~~~~~~~~~\n",
      "Original: bin white with h five again\n",
      "Prediction: blac gre it g fie again\n",
      "~~~~~~~~~~~~~~~~~~~~~~~~~~~~~~~~~~~~~~~~~~~~~~~~~~~~~~~~~~~~~~~~~~~~~~~~~~~~~~~~~~~~~~~~~~~~~~~~~~~~\n",
      "450/450 [==============================] - 439s 976ms/step - loss: 30.4456 - val_loss: 28.7167 - lr: 7.4082e-05\n",
      "Epoch 26/68\n",
      "1/1 [==============================] - 0s 126ms/step loss: 30.10\n",
      "Original: bin green in a four please\n",
      "Prediction: plac bre it l tie please\n",
      "~~~~~~~~~~~~~~~~~~~~~~~~~~~~~~~~~~~~~~~~~~~~~~~~~~~~~~~~~~~~~~~~~~~~~~~~~~~~~~~~~~~~~~~~~~~~~~~~~~~~\n",
      "Original: set green at c five again\n",
      "Prediction: lay gre it g tix now\n",
      "~~~~~~~~~~~~~~~~~~~~~~~~~~~~~~~~~~~~~~~~~~~~~~~~~~~~~~~~~~~~~~~~~~~~~~~~~~~~~~~~~~~~~~~~~~~~~~~~~~~~\n",
      "450/450 [==============================] - 437s 972ms/step - loss: 30.1025 - val_loss: 28.7114 - lr: 7.4082e-05\n",
      "Epoch 27/68\n",
      "1/1 [==============================] - 0s 196ms/step loss: 30.26\n",
      "Original: lay white in l zero please\n",
      "Prediction: sla wre it p sie please\n",
      "~~~~~~~~~~~~~~~~~~~~~~~~~~~~~~~~~~~~~~~~~~~~~~~~~~~~~~~~~~~~~~~~~~~~~~~~~~~~~~~~~~~~~~~~~~~~~~~~~~~~\n",
      "Original: bin white at m nine soon\n",
      "Prediction: bla re bt a five son\n",
      "~~~~~~~~~~~~~~~~~~~~~~~~~~~~~~~~~~~~~~~~~~~~~~~~~~~~~~~~~~~~~~~~~~~~~~~~~~~~~~~~~~~~~~~~~~~~~~~~~~~~\n",
      "450/450 [==============================] - 428s 952ms/step - loss: 30.2685 - val_loss: 30.1700 - lr: 7.4082e-05\n",
      "Epoch 28/68\n",
      "1/1 [==============================] - 0s 175ms/step loss: 30.08\n",
      "Original: bin red by m seven soon\n",
      "Prediction: bin bre iy b five son\n",
      "~~~~~~~~~~~~~~~~~~~~~~~~~~~~~~~~~~~~~~~~~~~~~~~~~~~~~~~~~~~~~~~~~~~~~~~~~~~~~~~~~~~~~~~~~~~~~~~~~~~~\n",
      "Original: set red at n eight now\n",
      "Prediction: la gre it n fix gow\n",
      "~~~~~~~~~~~~~~~~~~~~~~~~~~~~~~~~~~~~~~~~~~~~~~~~~~~~~~~~~~~~~~~~~~~~~~~~~~~~~~~~~~~~~~~~~~~~~~~~~~~~\n",
      "450/450 [==============================] - 447s 996ms/step - loss: 30.0826 - val_loss: 29.2482 - lr: 7.4082e-05\n",
      "Epoch 29/68\n",
      "1/1 [==============================] - 0s 28ms/step- loss: 29.80\n",
      "Original: lay white in k eight now\n",
      "Prediction: sla re it i tix now\n",
      "~~~~~~~~~~~~~~~~~~~~~~~~~~~~~~~~~~~~~~~~~~~~~~~~~~~~~~~~~~~~~~~~~~~~~~~~~~~~~~~~~~~~~~~~~~~~~~~~~~~~\n",
      "Original: lay blue with k eight now\n",
      "Prediction: bla wre it g sive again\n",
      "~~~~~~~~~~~~~~~~~~~~~~~~~~~~~~~~~~~~~~~~~~~~~~~~~~~~~~~~~~~~~~~~~~~~~~~~~~~~~~~~~~~~~~~~~~~~~~~~~~~~\n",
      "450/450 [==============================] - 419s 932ms/step - loss: 29.8064 - val_loss: 28.7114 - lr: 7.4082e-05\n",
      "Epoch 30/68\n",
      "1/1 [==============================] - 0s 167ms/step loss: 29.83\n",
      "Original: place blue at o nine soon\n",
      "Prediction: bla bre at f fire son\n",
      "~~~~~~~~~~~~~~~~~~~~~~~~~~~~~~~~~~~~~~~~~~~~~~~~~~~~~~~~~~~~~~~~~~~~~~~~~~~~~~~~~~~~~~~~~~~~~~~~~~~~\n",
      "Original: lay green by m two now\n",
      "Prediction: slt gre iy b fie now\n",
      "~~~~~~~~~~~~~~~~~~~~~~~~~~~~~~~~~~~~~~~~~~~~~~~~~~~~~~~~~~~~~~~~~~~~~~~~~~~~~~~~~~~~~~~~~~~~~~~~~~~~\n",
      "450/450 [==============================] - 460s 1s/step - loss: 29.8378 - val_loss: 27.5739 - lr: 7.4082e-05\n",
      "Epoch 31/68\n",
      "1/1 [==============================] - 0s 176ms/step loss: 29.51\n",
      "Original: set green in b nine soon\n",
      "Prediction: bln bre it b tie agein\n",
      "~~~~~~~~~~~~~~~~~~~~~~~~~~~~~~~~~~~~~~~~~~~~~~~~~~~~~~~~~~~~~~~~~~~~~~~~~~~~~~~~~~~~~~~~~~~~~~~~~~~~\n",
      "Original: set white by i four now\n",
      "Prediction: la re in b tive now\n",
      "~~~~~~~~~~~~~~~~~~~~~~~~~~~~~~~~~~~~~~~~~~~~~~~~~~~~~~~~~~~~~~~~~~~~~~~~~~~~~~~~~~~~~~~~~~~~~~~~~~~~\n",
      "450/450 [==============================] - 429s 954ms/step - loss: 29.5131 - val_loss: 29.3729 - lr: 6.7032e-05\n",
      "Epoch 32/68\n",
      "1/1 [==============================] - 0s 189ms/step loss: 29.41\n",
      "Original: set red in u zero please\n",
      "Prediction: sla re it l sie please\n",
      "~~~~~~~~~~~~~~~~~~~~~~~~~~~~~~~~~~~~~~~~~~~~~~~~~~~~~~~~~~~~~~~~~~~~~~~~~~~~~~~~~~~~~~~~~~~~~~~~~~~~\n",
      "Original: set blue at a five soon\n",
      "Prediction: bln bre by y sine sow\n",
      "~~~~~~~~~~~~~~~~~~~~~~~~~~~~~~~~~~~~~~~~~~~~~~~~~~~~~~~~~~~~~~~~~~~~~~~~~~~~~~~~~~~~~~~~~~~~~~~~~~~~\n",
      "450/450 [==============================] - 429s 956ms/step - loss: 29.4178 - val_loss: 29.1600 - lr: 6.0653e-05\n",
      "Epoch 33/68\n",
      "1/1 [==============================] - 0s 153ms/step loss: 29.04\n",
      "Original: bin green at n seven again\n",
      "Prediction: pla gre it e five agai\n",
      "~~~~~~~~~~~~~~~~~~~~~~~~~~~~~~~~~~~~~~~~~~~~~~~~~~~~~~~~~~~~~~~~~~~~~~~~~~~~~~~~~~~~~~~~~~~~~~~~~~~~\n",
      "Original: bin green with b four now\n",
      "Prediction: pla wre it b fie pleasn\n",
      "~~~~~~~~~~~~~~~~~~~~~~~~~~~~~~~~~~~~~~~~~~~~~~~~~~~~~~~~~~~~~~~~~~~~~~~~~~~~~~~~~~~~~~~~~~~~~~~~~~~~\n",
      "450/450 [==============================] - 429s 955ms/step - loss: 29.0468 - val_loss: 28.6150 - lr: 5.4881e-05\n",
      "Epoch 34/68\n",
      "1/1 [==============================] - 0s 146ms/step loss: 28.99\n",
      "Original: set green by v nine soon\n",
      "Prediction: sla re it v sive son\n",
      "~~~~~~~~~~~~~~~~~~~~~~~~~~~~~~~~~~~~~~~~~~~~~~~~~~~~~~~~~~~~~~~~~~~~~~~~~~~~~~~~~~~~~~~~~~~~~~~~~~~~\n",
      "Original: set green in v one soon\n",
      "Prediction: sla gre it t tone son\n",
      "~~~~~~~~~~~~~~~~~~~~~~~~~~~~~~~~~~~~~~~~~~~~~~~~~~~~~~~~~~~~~~~~~~~~~~~~~~~~~~~~~~~~~~~~~~~~~~~~~~~~\n",
      "450/450 [==============================] - 438s 975ms/step - loss: 28.9910 - val_loss: 27.2624 - lr: 4.9659e-05\n",
      "Epoch 35/68\n",
      "1/1 [==============================] - 0s 154ms/step loss: 28.83\n",
      "Original: place red by x five again\n",
      "Prediction: pla gre it g fie again\n",
      "~~~~~~~~~~~~~~~~~~~~~~~~~~~~~~~~~~~~~~~~~~~~~~~~~~~~~~~~~~~~~~~~~~~~~~~~~~~~~~~~~~~~~~~~~~~~~~~~~~~~\n",
      "Original: place white in j five again\n",
      "Prediction: pla wre it g tie again\n",
      "~~~~~~~~~~~~~~~~~~~~~~~~~~~~~~~~~~~~~~~~~~~~~~~~~~~~~~~~~~~~~~~~~~~~~~~~~~~~~~~~~~~~~~~~~~~~~~~~~~~~\n",
      "450/450 [==============================] - 434s 966ms/step - loss: 28.8316 - val_loss: 28.7094 - lr: 4.4933e-05\n",
      "Epoch 36/68\n",
      "1/1 [==============================] - 0s 149ms/step loss: 28.46\n",
      "Original: place white in j five again\n",
      "Prediction: pla wre it g fie again\n",
      "~~~~~~~~~~~~~~~~~~~~~~~~~~~~~~~~~~~~~~~~~~~~~~~~~~~~~~~~~~~~~~~~~~~~~~~~~~~~~~~~~~~~~~~~~~~~~~~~~~~~\n",
      "Original: set green by j one soon\n",
      "Prediction: bln bre it o one son\n",
      "~~~~~~~~~~~~~~~~~~~~~~~~~~~~~~~~~~~~~~~~~~~~~~~~~~~~~~~~~~~~~~~~~~~~~~~~~~~~~~~~~~~~~~~~~~~~~~~~~~~~\n",
      "450/450 [==============================] - 439s 978ms/step - loss: 28.4695 - val_loss: 27.6207 - lr: 4.0657e-05\n",
      "Epoch 37/68\n",
      "1/1 [==============================] - 0s 168ms/step loss: 28.42\n",
      "Original: set white with v six now\n",
      "Prediction: sla gre it g sie now\n",
      "~~~~~~~~~~~~~~~~~~~~~~~~~~~~~~~~~~~~~~~~~~~~~~~~~~~~~~~~~~~~~~~~~~~~~~~~~~~~~~~~~~~~~~~~~~~~~~~~~~~~\n",
      "Original: place blue at o eight now\n",
      "Prediction: pla re at c sie agaw\n",
      "~~~~~~~~~~~~~~~~~~~~~~~~~~~~~~~~~~~~~~~~~~~~~~~~~~~~~~~~~~~~~~~~~~~~~~~~~~~~~~~~~~~~~~~~~~~~~~~~~~~~\n",
      "450/450 [==============================] - 438s 975ms/step - loss: 28.4229 - val_loss: 26.6120 - lr: 3.6788e-05\n",
      "Epoch 38/68\n",
      "1/1 [==============================] - 0s 147ms/step loss: 28.35\n",
      "Original: lay red by r four now\n",
      "Prediction: plac bre by d fie no\n",
      "~~~~~~~~~~~~~~~~~~~~~~~~~~~~~~~~~~~~~~~~~~~~~~~~~~~~~~~~~~~~~~~~~~~~~~~~~~~~~~~~~~~~~~~~~~~~~~~~~~~~\n",
      "Original: place blue with d one again\n",
      "Prediction: plac bre it n tire goin\n",
      "~~~~~~~~~~~~~~~~~~~~~~~~~~~~~~~~~~~~~~~~~~~~~~~~~~~~~~~~~~~~~~~~~~~~~~~~~~~~~~~~~~~~~~~~~~~~~~~~~~~~\n",
      "450/450 [==============================] - 439s 977ms/step - loss: 28.3529 - val_loss: 26.1338 - lr: 3.3287e-05\n",
      "Epoch 39/68\n",
      "1/1 [==============================] - 0s 145ms/step loss: 28.29\n",
      "Original: set green in v one soon\n",
      "Prediction: set ren in d one son\n",
      "~~~~~~~~~~~~~~~~~~~~~~~~~~~~~~~~~~~~~~~~~~~~~~~~~~~~~~~~~~~~~~~~~~~~~~~~~~~~~~~~~~~~~~~~~~~~~~~~~~~~\n",
      "Original: bin red by m nine again\n",
      "Prediction: pla bre by c fine now\n",
      "~~~~~~~~~~~~~~~~~~~~~~~~~~~~~~~~~~~~~~~~~~~~~~~~~~~~~~~~~~~~~~~~~~~~~~~~~~~~~~~~~~~~~~~~~~~~~~~~~~~~\n",
      "450/450 [==============================] - 439s 976ms/step - loss: 28.2905 - val_loss: 27.4764 - lr: 3.0119e-05\n",
      "Epoch 40/68\n",
      "1/1 [==============================] - 0s 165ms/step loss: 28.17\n",
      "Original: place red at c six now\n",
      "Prediction: sea red at c sie now\n",
      "~~~~~~~~~~~~~~~~~~~~~~~~~~~~~~~~~~~~~~~~~~~~~~~~~~~~~~~~~~~~~~~~~~~~~~~~~~~~~~~~~~~~~~~~~~~~~~~~~~~~\n",
      "Original: set blue by n seven soon\n",
      "Prediction: set rue bt b toe please\n",
      "~~~~~~~~~~~~~~~~~~~~~~~~~~~~~~~~~~~~~~~~~~~~~~~~~~~~~~~~~~~~~~~~~~~~~~~~~~~~~~~~~~~~~~~~~~~~~~~~~~~~\n",
      "450/450 [==============================] - 441s 980ms/step - loss: 28.1731 - val_loss: 26.5377 - lr: 2.7253e-05\n",
      "Epoch 41/68\n",
      "1/1 [==============================] - 0s 149ms/step loss: 28.10\n",
      "Original: bin blue with s nine soon\n",
      "Prediction: bia ble it t nine non\n",
      "~~~~~~~~~~~~~~~~~~~~~~~~~~~~~~~~~~~~~~~~~~~~~~~~~~~~~~~~~~~~~~~~~~~~~~~~~~~~~~~~~~~~~~~~~~~~~~~~~~~~\n",
      "Original: set blue by b zero please\n",
      "Prediction: bla wre it o fie please\n",
      "~~~~~~~~~~~~~~~~~~~~~~~~~~~~~~~~~~~~~~~~~~~~~~~~~~~~~~~~~~~~~~~~~~~~~~~~~~~~~~~~~~~~~~~~~~~~~~~~~~~~\n",
      "450/450 [==============================] - 437s 972ms/step - loss: 28.1045 - val_loss: 26.0079 - lr: 2.4660e-05\n",
      "Epoch 42/68\n",
      "1/1 [==============================] - 0s 150ms/step loss: 27.82\n",
      "Original: bin green at a nine again\n",
      "Prediction: bla bre at g fie again\n",
      "~~~~~~~~~~~~~~~~~~~~~~~~~~~~~~~~~~~~~~~~~~~~~~~~~~~~~~~~~~~~~~~~~~~~~~~~~~~~~~~~~~~~~~~~~~~~~~~~~~~~\n",
      "Original: place red with j eight now\n",
      "Prediction: place whe it g sige agaw\n",
      "~~~~~~~~~~~~~~~~~~~~~~~~~~~~~~~~~~~~~~~~~~~~~~~~~~~~~~~~~~~~~~~~~~~~~~~~~~~~~~~~~~~~~~~~~~~~~~~~~~~~\n",
      "450/450 [==============================] - 442s 983ms/step - loss: 27.8293 - val_loss: 28.1274 - lr: 2.2313e-05\n",
      "Epoch 43/68\n",
      "1/1 [==============================] - 0s 147ms/step loss: 27.75\n",
      "Original: place red by j six please\n",
      "Prediction: plac bre it m sio please\n",
      "~~~~~~~~~~~~~~~~~~~~~~~~~~~~~~~~~~~~~~~~~~~~~~~~~~~~~~~~~~~~~~~~~~~~~~~~~~~~~~~~~~~~~~~~~~~~~~~~~~~~\n",
      "Original: place green in d five soon\n",
      "Prediction: slay re at d ere son\n",
      "~~~~~~~~~~~~~~~~~~~~~~~~~~~~~~~~~~~~~~~~~~~~~~~~~~~~~~~~~~~~~~~~~~~~~~~~~~~~~~~~~~~~~~~~~~~~~~~~~~~~\n",
      "450/450 [==============================] - 439s 976ms/step - loss: 27.7592 - val_loss: 26.8874 - lr: 2.0190e-05\n",
      "Epoch 44/68\n",
      "1/1 [==============================] - 0s 168ms/step loss: 27.41\n",
      "Original: bin green by h seven again\n",
      "Prediction: bla wre it g five again\n",
      "~~~~~~~~~~~~~~~~~~~~~~~~~~~~~~~~~~~~~~~~~~~~~~~~~~~~~~~~~~~~~~~~~~~~~~~~~~~~~~~~~~~~~~~~~~~~~~~~~~~~\n",
      "Original: bin white with n eight please\n",
      "Prediction: bia wre it f fih please\n",
      "~~~~~~~~~~~~~~~~~~~~~~~~~~~~~~~~~~~~~~~~~~~~~~~~~~~~~~~~~~~~~~~~~~~~~~~~~~~~~~~~~~~~~~~~~~~~~~~~~~~~\n",
      "450/450 [==============================] - 439s 978ms/step - loss: 27.4179 - val_loss: 25.7959 - lr: 1.8268e-05\n",
      "Epoch 45/68\n",
      "1/1 [==============================] - 0s 156ms/step loss: 27.69\n",
      "Original: place white by x nine soon\n",
      "Prediction: pla gre it x soe son\n",
      "~~~~~~~~~~~~~~~~~~~~~~~~~~~~~~~~~~~~~~~~~~~~~~~~~~~~~~~~~~~~~~~~~~~~~~~~~~~~~~~~~~~~~~~~~~~~~~~~~~~~\n",
      "Original: set white by v three soon\n",
      "Prediction: slt re by d sone son\n",
      "~~~~~~~~~~~~~~~~~~~~~~~~~~~~~~~~~~~~~~~~~~~~~~~~~~~~~~~~~~~~~~~~~~~~~~~~~~~~~~~~~~~~~~~~~~~~~~~~~~~~\n",
      "450/450 [==============================] - 440s 980ms/step - loss: 27.6997 - val_loss: 26.1663 - lr: 1.6530e-05\n",
      "Epoch 46/68\n",
      "1/1 [==============================] - 0s 176ms/step loss: 27.46\n",
      "Original: bin white at g seven again\n",
      "Prediction: bin wre iy v nive agai\n",
      "~~~~~~~~~~~~~~~~~~~~~~~~~~~~~~~~~~~~~~~~~~~~~~~~~~~~~~~~~~~~~~~~~~~~~~~~~~~~~~~~~~~~~~~~~~~~~~~~~~~~\n",
      "Original: place white at x five soon\n",
      "Prediction: plac grie at c sine nown\n",
      "~~~~~~~~~~~~~~~~~~~~~~~~~~~~~~~~~~~~~~~~~~~~~~~~~~~~~~~~~~~~~~~~~~~~~~~~~~~~~~~~~~~~~~~~~~~~~~~~~~~~\n",
      "450/450 [==============================] - 431s 958ms/step - loss: 27.4690 - val_loss: 25.9977 - lr: 1.4957e-05\n",
      "Epoch 47/68\n",
      "1/1 [==============================] - 0s 39ms/step- loss: 27.39\n",
      "Original: set blue by h five again\n",
      "Prediction: bla wre by p sio plasn\n",
      "~~~~~~~~~~~~~~~~~~~~~~~~~~~~~~~~~~~~~~~~~~~~~~~~~~~~~~~~~~~~~~~~~~~~~~~~~~~~~~~~~~~~~~~~~~~~~~~~~~~~\n",
      "Original: lay blue with y six now\n",
      "Prediction: place bre it t sie now\n",
      "~~~~~~~~~~~~~~~~~~~~~~~~~~~~~~~~~~~~~~~~~~~~~~~~~~~~~~~~~~~~~~~~~~~~~~~~~~~~~~~~~~~~~~~~~~~~~~~~~~~~\n",
      "450/450 [==============================] - 427s 950ms/step - loss: 27.3968 - val_loss: 26.0100 - lr: 1.3534e-05\n",
      "Epoch 48/68\n",
      "1/1 [==============================] - 0s 181ms/step loss: 27.32\n",
      "Original: set green at p one soon\n",
      "Prediction: set wre it b tine son\n",
      "~~~~~~~~~~~~~~~~~~~~~~~~~~~~~~~~~~~~~~~~~~~~~~~~~~~~~~~~~~~~~~~~~~~~~~~~~~~~~~~~~~~~~~~~~~~~~~~~~~~~\n",
      "Original: bin blue in r six now\n",
      "Prediction: bin bre by f fie now\n",
      "~~~~~~~~~~~~~~~~~~~~~~~~~~~~~~~~~~~~~~~~~~~~~~~~~~~~~~~~~~~~~~~~~~~~~~~~~~~~~~~~~~~~~~~~~~~~~~~~~~~~\n",
      "450/450 [==============================] - 454s 1s/step - loss: 27.3299 - val_loss: 26.2643 - lr: 1.2246e-05\n",
      "Epoch 49/68\n",
      "1/1 [==============================] - 0s 271ms/step loss: 27.17\n",
      "Original: place red at j three again\n",
      "Prediction: pia re at g fige again\n",
      "~~~~~~~~~~~~~~~~~~~~~~~~~~~~~~~~~~~~~~~~~~~~~~~~~~~~~~~~~~~~~~~~~~~~~~~~~~~~~~~~~~~~~~~~~~~~~~~~~~~~\n",
      "Original: place green at y three again\n",
      "Prediction: pla gre at r sie again\n",
      "~~~~~~~~~~~~~~~~~~~~~~~~~~~~~~~~~~~~~~~~~~~~~~~~~~~~~~~~~~~~~~~~~~~~~~~~~~~~~~~~~~~~~~~~~~~~~~~~~~~~\n",
      "450/450 [==============================] - 460s 1s/step - loss: 27.1778 - val_loss: 26.6320 - lr: 1.1080e-05\n",
      "Epoch 50/68\n",
      "1/1 [==============================] - 0s 233ms/step loss: 27.28\n",
      "Original: place blue by j one again\n",
      "Prediction: plac bre it d sie again\n",
      "~~~~~~~~~~~~~~~~~~~~~~~~~~~~~~~~~~~~~~~~~~~~~~~~~~~~~~~~~~~~~~~~~~~~~~~~~~~~~~~~~~~~~~~~~~~~~~~~~~~~\n",
      "Original: lay white by s zero now\n",
      "Prediction: set wre by b five now\n",
      "~~~~~~~~~~~~~~~~~~~~~~~~~~~~~~~~~~~~~~~~~~~~~~~~~~~~~~~~~~~~~~~~~~~~~~~~~~~~~~~~~~~~~~~~~~~~~~~~~~~~\n",
      "450/450 [==============================] - 463s 1s/step - loss: 27.2892 - val_loss: 26.0258 - lr: 1.0026e-05\n",
      "Epoch 51/68\n",
      "1/1 [==============================] - 0s 194ms/step loss: 27.24\n",
      "Original: bin red at f eight now\n",
      "Prediction: bia bhue it g tix now\n",
      "~~~~~~~~~~~~~~~~~~~~~~~~~~~~~~~~~~~~~~~~~~~~~~~~~~~~~~~~~~~~~~~~~~~~~~~~~~~~~~~~~~~~~~~~~~~~~~~~~~~~\n",
      "Original: bin red by t zero now\n",
      "Prediction: bin bre it y sie now\n",
      "~~~~~~~~~~~~~~~~~~~~~~~~~~~~~~~~~~~~~~~~~~~~~~~~~~~~~~~~~~~~~~~~~~~~~~~~~~~~~~~~~~~~~~~~~~~~~~~~~~~~\n",
      "450/450 [==============================] - 456s 1s/step - loss: 27.2457 - val_loss: 25.1330 - lr: 9.0718e-06\n",
      "Epoch 52/68\n",
      "1/1 [==============================] - 0s 157ms/step loss: 26.94\n",
      "Original: set white by i seven again\n",
      "Prediction: set re by m fie again\n",
      "~~~~~~~~~~~~~~~~~~~~~~~~~~~~~~~~~~~~~~~~~~~~~~~~~~~~~~~~~~~~~~~~~~~~~~~~~~~~~~~~~~~~~~~~~~~~~~~~~~~~\n",
      "Original: place red by j five soon\n",
      "Prediction: plac gre it j sene son\n",
      "~~~~~~~~~~~~~~~~~~~~~~~~~~~~~~~~~~~~~~~~~~~~~~~~~~~~~~~~~~~~~~~~~~~~~~~~~~~~~~~~~~~~~~~~~~~~~~~~~~~~\n",
      "450/450 [==============================] - 447s 994ms/step - loss: 26.9496 - val_loss: 26.7244 - lr: 8.2085e-06\n",
      "Epoch 53/68\n",
      "1/1 [==============================] - 0s 157ms/step loss: 26.99\n",
      "Original: set red with i three soon\n",
      "Prediction: sety re it r one son\n",
      "~~~~~~~~~~~~~~~~~~~~~~~~~~~~~~~~~~~~~~~~~~~~~~~~~~~~~~~~~~~~~~~~~~~~~~~~~~~~~~~~~~~~~~~~~~~~~~~~~~~~\n",
      "Original: place white in c eight now\n",
      "Prediction: sla gre it g sive now\n",
      "~~~~~~~~~~~~~~~~~~~~~~~~~~~~~~~~~~~~~~~~~~~~~~~~~~~~~~~~~~~~~~~~~~~~~~~~~~~~~~~~~~~~~~~~~~~~~~~~~~~~\n",
      "450/450 [==============================] - 445s 991ms/step - loss: 26.9958 - val_loss: 25.0694 - lr: 7.4273e-06\n",
      "Epoch 54/68\n",
      "1/1 [==============================] - 0s 182ms/step loss: 27.13\n",
      "Original: place red with k zero please\n",
      "Prediction: lac wre it s tio please\n",
      "~~~~~~~~~~~~~~~~~~~~~~~~~~~~~~~~~~~~~~~~~~~~~~~~~~~~~~~~~~~~~~~~~~~~~~~~~~~~~~~~~~~~~~~~~~~~~~~~~~~~\n",
      "Original: set white in h eight please\n",
      "Prediction: set re it p eih please\n",
      "~~~~~~~~~~~~~~~~~~~~~~~~~~~~~~~~~~~~~~~~~~~~~~~~~~~~~~~~~~~~~~~~~~~~~~~~~~~~~~~~~~~~~~~~~~~~~~~~~~~~\n",
      "450/450 [==============================] - 429s 955ms/step - loss: 27.1399 - val_loss: 25.9234 - lr: 6.7205e-06\n",
      "Epoch 55/68\n",
      "1/1 [==============================] - 0s 158ms/step loss: 26.85\n",
      "Original: bin green at u one again\n",
      "Prediction: plac gre it t tih please\n",
      "~~~~~~~~~~~~~~~~~~~~~~~~~~~~~~~~~~~~~~~~~~~~~~~~~~~~~~~~~~~~~~~~~~~~~~~~~~~~~~~~~~~~~~~~~~~~~~~~~~~~\n",
      "Original: lay white in k eight now\n",
      "Prediction: lay re it g tix now\n",
      "~~~~~~~~~~~~~~~~~~~~~~~~~~~~~~~~~~~~~~~~~~~~~~~~~~~~~~~~~~~~~~~~~~~~~~~~~~~~~~~~~~~~~~~~~~~~~~~~~~~~\n",
      "450/450 [==============================] - 429s 954ms/step - loss: 26.8502 - val_loss: 26.6423 - lr: 6.0810e-06\n",
      "Epoch 56/68\n",
      "1/1 [==============================] - 0s 163ms/step loss: 26.92\n",
      "Original: set green at c four sp please\n",
      "Prediction: set re it n nie again\n",
      "~~~~~~~~~~~~~~~~~~~~~~~~~~~~~~~~~~~~~~~~~~~~~~~~~~~~~~~~~~~~~~~~~~~~~~~~~~~~~~~~~~~~~~~~~~~~~~~~~~~~\n",
      "Original: place white in x one soon\n",
      "Prediction: sla wre it d tone son\n",
      "~~~~~~~~~~~~~~~~~~~~~~~~~~~~~~~~~~~~~~~~~~~~~~~~~~~~~~~~~~~~~~~~~~~~~~~~~~~~~~~~~~~~~~~~~~~~~~~~~~~~\n",
      "450/450 [==============================] - 428s 952ms/step - loss: 26.9205 - val_loss: 24.7466 - lr: 5.5023e-06\n",
      "Epoch 57/68\n",
      "1/1 [==============================] - 0s 161ms/step loss: 26.84\n",
      "Original: place red at p four now\n",
      "Prediction: blac ble it v sie now\n",
      "~~~~~~~~~~~~~~~~~~~~~~~~~~~~~~~~~~~~~~~~~~~~~~~~~~~~~~~~~~~~~~~~~~~~~~~~~~~~~~~~~~~~~~~~~~~~~~~~~~~~\n",
      "Original: lay red in k four please\n",
      "Prediction: set re it p fio please\n",
      "~~~~~~~~~~~~~~~~~~~~~~~~~~~~~~~~~~~~~~~~~~~~~~~~~~~~~~~~~~~~~~~~~~~~~~~~~~~~~~~~~~~~~~~~~~~~~~~~~~~~\n",
      "450/450 [==============================] - 429s 953ms/step - loss: 26.8432 - val_loss: 26.0619 - lr: 4.9787e-06\n",
      "Epoch 58/68\n",
      "1/1 [==============================] - 0s 171ms/step loss: 27.19\n",
      "Original: place green by r zero now\n",
      "Prediction: lac gre by c zeve now\n",
      "~~~~~~~~~~~~~~~~~~~~~~~~~~~~~~~~~~~~~~~~~~~~~~~~~~~~~~~~~~~~~~~~~~~~~~~~~~~~~~~~~~~~~~~~~~~~~~~~~~~~\n",
      "Original: bin red with t seven again\n",
      "Prediction: bin whie it g sive agai\n",
      "~~~~~~~~~~~~~~~~~~~~~~~~~~~~~~~~~~~~~~~~~~~~~~~~~~~~~~~~~~~~~~~~~~~~~~~~~~~~~~~~~~~~~~~~~~~~~~~~~~~~\n",
      "450/450 [==============================] - 430s 956ms/step - loss: 27.1904 - val_loss: 25.0425 - lr: 4.5049e-06\n",
      "Epoch 59/68\n",
      "1/1 [==============================] - 0s 187ms/step loss: 26.69\n",
      "Original: bin green at n six please\n",
      "Prediction: bin ble it n sie please\n",
      "~~~~~~~~~~~~~~~~~~~~~~~~~~~~~~~~~~~~~~~~~~~~~~~~~~~~~~~~~~~~~~~~~~~~~~~~~~~~~~~~~~~~~~~~~~~~~~~~~~~~\n",
      "Original: lay red by z one again\n",
      "Prediction: slty re it p sie please\n",
      "~~~~~~~~~~~~~~~~~~~~~~~~~~~~~~~~~~~~~~~~~~~~~~~~~~~~~~~~~~~~~~~~~~~~~~~~~~~~~~~~~~~~~~~~~~~~~~~~~~~~\n",
      "450/450 [==============================] - 430s 956ms/step - loss: 26.6973 - val_loss: 26.4609 - lr: 4.0762e-06\n",
      "Epoch 60/68\n",
      "1/1 [==============================] - 0s 187ms/step loss: 26.88\n",
      "Original: bin white with h four please\n",
      "Prediction: set whie it n fine again\n",
      "~~~~~~~~~~~~~~~~~~~~~~~~~~~~~~~~~~~~~~~~~~~~~~~~~~~~~~~~~~~~~~~~~~~~~~~~~~~~~~~~~~~~~~~~~~~~~~~~~~~~\n",
      "Original: bin green in g eight please\n",
      "Prediction: bla blue at p eie please\n",
      "~~~~~~~~~~~~~~~~~~~~~~~~~~~~~~~~~~~~~~~~~~~~~~~~~~~~~~~~~~~~~~~~~~~~~~~~~~~~~~~~~~~~~~~~~~~~~~~~~~~~\n",
      "450/450 [==============================] - 428s 952ms/step - loss: 26.8889 - val_loss: 25.2876 - lr: 3.6883e-06\n",
      "Epoch 61/68\n",
      "1/1 [==============================] - 0s 173ms/step loss: 26.69\n",
      "Original: set blue at n three soon\n",
      "Prediction: sla gre it r tine son\n",
      "~~~~~~~~~~~~~~~~~~~~~~~~~~~~~~~~~~~~~~~~~~~~~~~~~~~~~~~~~~~~~~~~~~~~~~~~~~~~~~~~~~~~~~~~~~~~~~~~~~~~\n",
      "Original: bin white in m five soon\n",
      "Prediction: bin bre by b five gown\n",
      "~~~~~~~~~~~~~~~~~~~~~~~~~~~~~~~~~~~~~~~~~~~~~~~~~~~~~~~~~~~~~~~~~~~~~~~~~~~~~~~~~~~~~~~~~~~~~~~~~~~~\n",
      "450/450 [==============================] - 431s 958ms/step - loss: 26.6906 - val_loss: 25.5133 - lr: 3.3373e-06\n",
      "Epoch 62/68\n",
      "1/1 [==============================] - 0s 148ms/step loss: 26.74\n",
      "Original: place white at q three again\n",
      "Prediction: place wre with r toe please\n",
      "~~~~~~~~~~~~~~~~~~~~~~~~~~~~~~~~~~~~~~~~~~~~~~~~~~~~~~~~~~~~~~~~~~~~~~~~~~~~~~~~~~~~~~~~~~~~~~~~~~~~\n",
      "Original: lay white in y eight please\n",
      "Prediction: set gre in p tie please\n",
      "~~~~~~~~~~~~~~~~~~~~~~~~~~~~~~~~~~~~~~~~~~~~~~~~~~~~~~~~~~~~~~~~~~~~~~~~~~~~~~~~~~~~~~~~~~~~~~~~~~~~\n",
      "450/450 [==============================] - 430s 956ms/step - loss: 26.7428 - val_loss: 24.7353 - lr: 3.0197e-06\n",
      "Epoch 63/68\n",
      "1/1 [==============================] - 0s 167ms/step loss: 26.80\n",
      "Original: place blue at i five soon\n",
      "Prediction: place gre at i tie son\n",
      "~~~~~~~~~~~~~~~~~~~~~~~~~~~~~~~~~~~~~~~~~~~~~~~~~~~~~~~~~~~~~~~~~~~~~~~~~~~~~~~~~~~~~~~~~~~~~~~~~~~~\n",
      "Original: lay white in r two now\n",
      "Prediction: lay gre it r tie now\n",
      "~~~~~~~~~~~~~~~~~~~~~~~~~~~~~~~~~~~~~~~~~~~~~~~~~~~~~~~~~~~~~~~~~~~~~~~~~~~~~~~~~~~~~~~~~~~~~~~~~~~~\n",
      "450/450 [==============================] - 429s 954ms/step - loss: 26.8031 - val_loss: 26.1242 - lr: 2.7324e-06\n",
      "Epoch 64/68\n",
      "1/1 [==============================] - 0s 173ms/step loss: 26.94\n",
      "Original: lay blue in d five again\n",
      "Prediction: pla blue bn e eige agane\n",
      "~~~~~~~~~~~~~~~~~~~~~~~~~~~~~~~~~~~~~~~~~~~~~~~~~~~~~~~~~~~~~~~~~~~~~~~~~~~~~~~~~~~~~~~~~~~~~~~~~~~~\n",
      "Original: set red with c one again\n",
      "Prediction: bin wre it o fore asoisn\n",
      "~~~~~~~~~~~~~~~~~~~~~~~~~~~~~~~~~~~~~~~~~~~~~~~~~~~~~~~~~~~~~~~~~~~~~~~~~~~~~~~~~~~~~~~~~~~~~~~~~~~~\n",
      "450/450 [==============================] - 427s 950ms/step - loss: 26.9484 - val_loss: 25.1739 - lr: 2.4723e-06\n",
      "Epoch 65/68\n",
      "1/1 [==============================] - 0s 166ms/step loss: 26.59\n",
      "Original: lay red in d nine soon\n",
      "Prediction: set re it t toe son\n",
      "~~~~~~~~~~~~~~~~~~~~~~~~~~~~~~~~~~~~~~~~~~~~~~~~~~~~~~~~~~~~~~~~~~~~~~~~~~~~~~~~~~~~~~~~~~~~~~~~~~~~\n",
      "Original: bin blue in z zero now\n",
      "Prediction: bin blue bn n foe now\n",
      "~~~~~~~~~~~~~~~~~~~~~~~~~~~~~~~~~~~~~~~~~~~~~~~~~~~~~~~~~~~~~~~~~~~~~~~~~~~~~~~~~~~~~~~~~~~~~~~~~~~~\n",
      "450/450 [==============================] - 429s 956ms/step - loss: 26.5970 - val_loss: 25.4649 - lr: 2.2371e-06\n",
      "Epoch 66/68\n",
      "1/1 [==============================] - 0s 152ms/step loss: 26.67\n",
      "Original: set red in a seven soon\n",
      "Prediction: plac re it c sine son\n",
      "~~~~~~~~~~~~~~~~~~~~~~~~~~~~~~~~~~~~~~~~~~~~~~~~~~~~~~~~~~~~~~~~~~~~~~~~~~~~~~~~~~~~~~~~~~~~~~~~~~~~\n",
      "Original: set blue by n seven soon\n",
      "Prediction: set brue bt b se pleosn\n",
      "~~~~~~~~~~~~~~~~~~~~~~~~~~~~~~~~~~~~~~~~~~~~~~~~~~~~~~~~~~~~~~~~~~~~~~~~~~~~~~~~~~~~~~~~~~~~~~~~~~~~\n",
      "450/450 [==============================] - 428s 954ms/step - loss: 26.6744 - val_loss: 24.4490 - lr: 2.0242e-06\n",
      "Epoch 67/68\n",
      "1/1 [==============================] - 0s 158ms/step loss: 26.78\n",
      "Original: lay green at m one again\n",
      "Prediction: pla wre wit d tie please\n",
      "~~~~~~~~~~~~~~~~~~~~~~~~~~~~~~~~~~~~~~~~~~~~~~~~~~~~~~~~~~~~~~~~~~~~~~~~~~~~~~~~~~~~~~~~~~~~~~~~~~~~\n",
      "Original: place white in c nine soon\n",
      "Prediction: plac gre it g sire son\n",
      "~~~~~~~~~~~~~~~~~~~~~~~~~~~~~~~~~~~~~~~~~~~~~~~~~~~~~~~~~~~~~~~~~~~~~~~~~~~~~~~~~~~~~~~~~~~~~~~~~~~~\n",
      "450/450 [==============================] - 430s 957ms/step - loss: 26.7840 - val_loss: 24.4812 - lr: 1.8316e-06\n",
      "Epoch 68/68\n",
      "1/1 [==============================] - 0s 196ms/step loss: 26.85\n",
      "Original: bin green with h eight now\n",
      "Prediction: bin wre it i tine now\n",
      "~~~~~~~~~~~~~~~~~~~~~~~~~~~~~~~~~~~~~~~~~~~~~~~~~~~~~~~~~~~~~~~~~~~~~~~~~~~~~~~~~~~~~~~~~~~~~~~~~~~~\n",
      "Original: bin blue at s three again\n",
      "Prediction: bin bre by b sere nown\n",
      "~~~~~~~~~~~~~~~~~~~~~~~~~~~~~~~~~~~~~~~~~~~~~~~~~~~~~~~~~~~~~~~~~~~~~~~~~~~~~~~~~~~~~~~~~~~~~~~~~~~~\n",
      "450/450 [==============================] - 429s 956ms/step - loss: 26.8539 - val_loss: 25.5886 - lr: 1.6573e-06\n"
     ]
    },
    {
     "data": {
      "text/plain": [
       "<keras.callbacks.History at 0x142110656d0>"
      ]
     },
     "execution_count": 45,
     "metadata": {},
     "output_type": "execute_result"
    }
   ],
   "source": [
    "model.fit(train, validation_data=test, epochs=68, callbacks=[checkpoint_callback, schedule_callback, example_callback])"
   ]
  },
  {
   "cell_type": "code",
   "execution_count": null,
   "id": "9e6a44fb",
   "metadata": {},
   "outputs": [],
   "source": [
    "model.save('models/3dGRUcheckpoint.h5')"
   ]
  },
  {
   "cell_type": "markdown",
   "id": "fa8ee94b-89f7-4733-8a0c-a86f86ff590a",
   "metadata": {
    "tags": []
   },
   "source": [
    "# 5. Make a Prediction "
   ]
  },
  {
   "cell_type": "code",
   "execution_count": 82,
   "id": "247f664d-3c87-4e96-946e-930dad0e1c2c",
   "metadata": {
    "tags": []
   },
   "outputs": [],
   "source": [
    "model.load_weights('models\\3dGRUcheckpoint.h5')"
   ]
  },
  {
   "cell_type": "code",
   "execution_count": 46,
   "id": "7f8d689f-b7bb-443c-9b88-e40c1d800828",
   "metadata": {
    "tags": []
   },
   "outputs": [],
   "source": [
    "test_data = test.as_numpy_iterator()"
   ]
  },
  {
   "cell_type": "code",
   "execution_count": 47,
   "id": "38546dc2-bee9-4837-864b-8a884df40ad7",
   "metadata": {
    "tags": []
   },
   "outputs": [],
   "source": [
    "sample = test_data.next()"
   ]
  },
  {
   "cell_type": "code",
   "execution_count": 48,
   "id": "a43621f0-229d-4c0d-9554-9c3a3da9c61a",
   "metadata": {
    "tags": []
   },
   "outputs": [
    {
     "name": "stdout",
     "output_type": "stream",
     "text": [
      "1/1 [==============================] - 0s 140ms/step\n"
     ]
    }
   ],
   "source": [
    "yhat = model.predict(sample[0])"
   ]
  },
  {
   "cell_type": "code",
   "execution_count": 49,
   "id": "ea462999-f87e-4a7e-a057-5be7b6d8f7d5",
   "metadata": {
    "tags": []
   },
   "outputs": [
    {
     "name": "stdout",
     "output_type": "stream",
     "text": [
      "~~~~~~~~~~~~~~~~~~~~~~~~~~~~~~~~~~~~~~~~~~~~~~~~~~~~~~~~~~~~~~~~~~~~~~~~~~~~~~~~~~~~~~~~~~~~~~~~~~~~ REAL TEXT\n"
     ]
    },
    {
     "data": {
      "text/plain": [
       "[<tf.Tensor: shape=(), dtype=string, numpy=b'lay green with t two please'>,\n",
       " <tf.Tensor: shape=(), dtype=string, numpy=b'lay white by f five again'>]"
      ]
     },
     "execution_count": 49,
     "metadata": {},
     "output_type": "execute_result"
    }
   ],
   "source": [
    "print('~'*100, 'REAL TEXT')\n",
    "[tf.strings.reduce_join([num_to_char(word) for word in sentence]) for sentence in sample[1]]"
   ]
  },
  {
   "cell_type": "code",
   "execution_count": 50,
   "id": "82bd4c10-dd6e-411e-834b-2a3b43fd12c5",
   "metadata": {
    "tags": []
   },
   "outputs": [],
   "source": [
    "decoded = tf.keras.backend.ctc_decode(yhat, input_length=[75,75], greedy=True)[0][0].numpy()"
   ]
  },
  {
   "cell_type": "code",
   "execution_count": 51,
   "id": "5d68ac46-c90b-4eab-a709-f19aee569ff5",
   "metadata": {
    "tags": []
   },
   "outputs": [
    {
     "name": "stdout",
     "output_type": "stream",
     "text": [
      "~~~~~~~~~~~~~~~~~~~~~~~~~~~~~~~~~~~~~~~~~~~~~~~~~~~~~~~~~~~~~~~~~~~~~~~~~~~~~~~~~~~~~~~~~~~~~~~~~~~~ PREDICTIONS\n"
     ]
    },
    {
     "data": {
      "text/plain": [
       "[<tf.Tensor: shape=(), dtype=string, numpy=b'slt gree it z sio please'>,\n",
       " <tf.Tensor: shape=(), dtype=string, numpy=b'lay ree by c seve again'>]"
      ]
     },
     "execution_count": 51,
     "metadata": {},
     "output_type": "execute_result"
    }
   ],
   "source": [
    "print('~'*100, 'PREDICTIONS')\n",
    "[tf.strings.reduce_join([num_to_char(word) for word in sentence]) for sentence in decoded]"
   ]
  },
  {
   "cell_type": "markdown",
   "id": "64622f98-e99b-4fed-a2cc-f0da82eb5431",
   "metadata": {},
   "source": [
    "# Test on a Video"
   ]
  },
  {
   "cell_type": "code",
   "execution_count": 52,
   "id": "a8b0c4d0-2031-4331-b91d-d87b1ae6f6e2",
   "metadata": {},
   "outputs": [],
   "source": [
    "sample = load_data(tf.convert_to_tensor('.\\\\data\\\\s1\\\\bras9a.mpg'))"
   ]
  },
  {
   "cell_type": "code",
   "execution_count": 53,
   "id": "0cca60e4-47a9-4683-8a75-48f4684f723d",
   "metadata": {},
   "outputs": [
    {
     "name": "stdout",
     "output_type": "stream",
     "text": [
      "~~~~~~~~~~~~~~~~~~~~~~~~~~~~~~~~~~~~~~~~~~~~~~~~~~~~~~~~~~~~~~~~~~~~~~~~~~~~~~~~~~~~~~~~~~~~~~~~~~~~ REAL TEXT\n"
     ]
    },
    {
     "data": {
      "text/plain": [
       "[<tf.Tensor: shape=(), dtype=string, numpy=b'bin red at s nine again'>]"
      ]
     },
     "execution_count": 53,
     "metadata": {},
     "output_type": "execute_result"
    }
   ],
   "source": [
    "print('~'*100, 'REAL TEXT')\n",
    "[tf.strings.reduce_join([num_to_char(word) for word in sentence]) for sentence in [sample[1]]]"
   ]
  },
  {
   "cell_type": "code",
   "execution_count": 54,
   "id": "8cc5037c-1e32-435c-b0cc-01e1fb3b863c",
   "metadata": {},
   "outputs": [
    {
     "name": "stdout",
     "output_type": "stream",
     "text": [
      "1/1 [==============================] - 0s 249ms/step\n"
     ]
    }
   ],
   "source": [
    "yhat = model.predict(tf.expand_dims(sample[0], axis=0))"
   ]
  },
  {
   "cell_type": "code",
   "execution_count": 55,
   "id": "22c4f77d-715d-409f-bc5e-3ebe48704e8f",
   "metadata": {},
   "outputs": [],
   "source": [
    "decoded = tf.keras.backend.ctc_decode(yhat, input_length=[75], greedy=True)[0][0].numpy()"
   ]
  },
  {
   "cell_type": "code",
   "execution_count": 56,
   "id": "e4d12ecc-b634-499e-a4bc-db9f010835fb",
   "metadata": {},
   "outputs": [
    {
     "name": "stdout",
     "output_type": "stream",
     "text": [
      "~~~~~~~~~~~~~~~~~~~~~~~~~~~~~~~~~~~~~~~~~~~~~~~~~~~~~~~~~~~~~~~~~~~~~~~~~~~~~~~~~~~~~~~~~~~~~~~~~~~~ PREDICTIONS\n"
     ]
    },
    {
     "data": {
      "text/plain": [
       "[<tf.Tensor: shape=(), dtype=string, numpy=b'bin whie it i nine again'>]"
      ]
     },
     "execution_count": 56,
     "metadata": {},
     "output_type": "execute_result"
    }
   ],
   "source": [
    "print('~'*100, 'PREDICTIONS')\n",
    "[tf.strings.reduce_join([num_to_char(word) for word in sentence]) for sentence in decoded]"
   ]
  }
 ],
 "metadata": {
  "kernelspec": {
   "display_name": "3.9.13",
   "language": "python",
   "name": "python3"
  },
  "language_info": {
   "codemirror_mode": {
    "name": "ipython",
    "version": 3
   },
   "file_extension": ".py",
   "mimetype": "text/x-python",
   "name": "python",
   "nbconvert_exporter": "python",
   "pygments_lexer": "ipython3",
   "version": "3.9.13"
  }
 },
 "nbformat": 4,
 "nbformat_minor": 5
}
